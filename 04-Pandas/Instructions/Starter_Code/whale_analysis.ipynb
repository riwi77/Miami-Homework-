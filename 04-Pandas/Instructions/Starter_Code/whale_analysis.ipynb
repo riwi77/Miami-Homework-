{
 "cells": [
  {
   "cell_type": "markdown",
   "source": [
    " #  A Whale off the Port(folio)\n",
    " ---\n",
    "\n",
    " In this assignment, you'll get to use what you've learned this week to evaluate the performance among various algorithmic, hedge, and mutual fund portfolios and compare them against the S&P 500 Index."
   ],
   "metadata": {}
  },
  {
   "cell_type": "code",
   "execution_count": 123,
   "source": [
    "# Initial imports\n",
    "import pandas as pd\n",
    "import numpy as np\n",
    "import datetime as dt\n",
    "from pathlib import Path\n",
    "import matplotlib.pyplot as plt\n",
    "\n",
    "%matplotlib inline"
   ],
   "outputs": [],
   "metadata": {}
  },
  {
   "cell_type": "markdown",
   "source": [
    "# Data Cleaning\n",
    "\n",
    "In this section, you will need to read the CSV files into DataFrames and perform any necessary data cleaning steps. After cleaning, combine all DataFrames into a single DataFrame.\n",
    "\n",
    "Files:\n",
    "\n",
    "* `whale_returns.csv`: Contains returns of some famous \"whale\" investors' portfolios.\n",
    "\n",
    "* `algo_returns.csv`: Contains returns from the in-house trading algorithms from Harold's company.\n",
    "\n",
    "* `sp500_history.csv`: Contains historical closing prices of the S&P 500 Index."
   ],
   "metadata": {}
  },
  {
   "cell_type": "markdown",
   "source": [
    "## Whale Returns\n",
    "\n",
    "Read the Whale Portfolio daily returns and clean the data"
   ],
   "metadata": {}
  },
  {
   "cell_type": "code",
   "execution_count": 27,
   "source": [
    "# Reading whale returns\n",
    "whale_path = Path('../Starter_Code/Resources/whale_returns.csv')\n",
    "whale_df = pd.read_csv(whale_path)\n",
    "whale_df.head()"
   ],
   "outputs": [
    {
     "output_type": "execute_result",
     "data": {
      "text/plain": [
       "         Date  SOROS FUND MANAGEMENT LLC  PAULSON & CO.INC.   \\\n",
       "0  2015-03-02                        NaN                 NaN   \n",
       "1  2015-03-03                  -0.001266           -0.004981   \n",
       "2  2015-03-04                   0.002230            0.003241   \n",
       "3  2015-03-05                   0.004016            0.004076   \n",
       "4  2015-03-06                  -0.007905           -0.003574   \n",
       "\n",
       "   TIGER GLOBAL MANAGEMENT LLC  BERKSHIRE HATHAWAY INC  \n",
       "0                          NaN                     NaN  \n",
       "1                    -0.000496               -0.006569  \n",
       "2                    -0.002534                0.004213  \n",
       "3                     0.002355                0.006726  \n",
       "4                    -0.008481               -0.013098  "
      ],
      "text/html": [
       "<div>\n",
       "<style scoped>\n",
       "    .dataframe tbody tr th:only-of-type {\n",
       "        vertical-align: middle;\n",
       "    }\n",
       "\n",
       "    .dataframe tbody tr th {\n",
       "        vertical-align: top;\n",
       "    }\n",
       "\n",
       "    .dataframe thead th {\n",
       "        text-align: right;\n",
       "    }\n",
       "</style>\n",
       "<table border=\"1\" class=\"dataframe\">\n",
       "  <thead>\n",
       "    <tr style=\"text-align: right;\">\n",
       "      <th></th>\n",
       "      <th>Date</th>\n",
       "      <th>SOROS FUND MANAGEMENT LLC</th>\n",
       "      <th>PAULSON &amp; CO.INC.</th>\n",
       "      <th>TIGER GLOBAL MANAGEMENT LLC</th>\n",
       "      <th>BERKSHIRE HATHAWAY INC</th>\n",
       "    </tr>\n",
       "  </thead>\n",
       "  <tbody>\n",
       "    <tr>\n",
       "      <th>0</th>\n",
       "      <td>2015-03-02</td>\n",
       "      <td>NaN</td>\n",
       "      <td>NaN</td>\n",
       "      <td>NaN</td>\n",
       "      <td>NaN</td>\n",
       "    </tr>\n",
       "    <tr>\n",
       "      <th>1</th>\n",
       "      <td>2015-03-03</td>\n",
       "      <td>-0.001266</td>\n",
       "      <td>-0.004981</td>\n",
       "      <td>-0.000496</td>\n",
       "      <td>-0.006569</td>\n",
       "    </tr>\n",
       "    <tr>\n",
       "      <th>2</th>\n",
       "      <td>2015-03-04</td>\n",
       "      <td>0.002230</td>\n",
       "      <td>0.003241</td>\n",
       "      <td>-0.002534</td>\n",
       "      <td>0.004213</td>\n",
       "    </tr>\n",
       "    <tr>\n",
       "      <th>3</th>\n",
       "      <td>2015-03-05</td>\n",
       "      <td>0.004016</td>\n",
       "      <td>0.004076</td>\n",
       "      <td>0.002355</td>\n",
       "      <td>0.006726</td>\n",
       "    </tr>\n",
       "    <tr>\n",
       "      <th>4</th>\n",
       "      <td>2015-03-06</td>\n",
       "      <td>-0.007905</td>\n",
       "      <td>-0.003574</td>\n",
       "      <td>-0.008481</td>\n",
       "      <td>-0.013098</td>\n",
       "    </tr>\n",
       "  </tbody>\n",
       "</table>\n",
       "</div>"
      ]
     },
     "metadata": {},
     "execution_count": 27
    }
   ],
   "metadata": {}
  },
  {
   "cell_type": "code",
   "execution_count": 28,
   "source": [
    "# Count nulls\n",
    "whale_df.isnull().sum()"
   ],
   "outputs": [
    {
     "output_type": "execute_result",
     "data": {
      "text/plain": [
       "Date                           0\n",
       "SOROS FUND MANAGEMENT LLC      1\n",
       "PAULSON & CO.INC.              1\n",
       "TIGER GLOBAL MANAGEMENT LLC    1\n",
       "BERKSHIRE HATHAWAY INC         1\n",
       "dtype: int64"
      ]
     },
     "metadata": {},
     "execution_count": 28
    }
   ],
   "metadata": {}
  },
  {
   "cell_type": "code",
   "execution_count": 35,
   "source": [
    "# Drop nulls\n",
    "whale_df.dropna(inplace=True)\n",
    "whale_df\n",
    "\n"
   ],
   "outputs": [
    {
     "output_type": "execute_result",
     "data": {
      "text/plain": [
       "            SOROS FUND MANAGEMENT LLC  PAULSON & CO.INC.   \\\n",
       "Date                                                        \n",
       "2015-03-03                        NaN                 NaN   \n",
       "2015-03-04                  -2.762070           -1.650792   \n",
       "2015-03-05                   0.800968            0.257544   \n",
       "2015-03-06                  -2.968465           -1.876837   \n",
       "2015-03-09                  -1.073656           -2.182252   \n",
       "\n",
       "            TIGER GLOBAL MANAGEMENT LLC  BERKSHIRE HATHAWAY INC  \n",
       "Date                                                             \n",
       "2015-03-03                          NaN                     NaN  \n",
       "2015-03-04                     4.113646               -1.641381  \n",
       "2015-03-05                    -1.929234                0.596558  \n",
       "2015-03-06                    -4.601872               -2.947282  \n",
       "2015-03-09                    -1.688907               -0.873840  "
      ],
      "text/html": [
       "<div>\n",
       "<style scoped>\n",
       "    .dataframe tbody tr th:only-of-type {\n",
       "        vertical-align: middle;\n",
       "    }\n",
       "\n",
       "    .dataframe tbody tr th {\n",
       "        vertical-align: top;\n",
       "    }\n",
       "\n",
       "    .dataframe thead th {\n",
       "        text-align: right;\n",
       "    }\n",
       "</style>\n",
       "<table border=\"1\" class=\"dataframe\">\n",
       "  <thead>\n",
       "    <tr style=\"text-align: right;\">\n",
       "      <th></th>\n",
       "      <th>SOROS FUND MANAGEMENT LLC</th>\n",
       "      <th>PAULSON &amp; CO.INC.</th>\n",
       "      <th>TIGER GLOBAL MANAGEMENT LLC</th>\n",
       "      <th>BERKSHIRE HATHAWAY INC</th>\n",
       "    </tr>\n",
       "    <tr>\n",
       "      <th>Date</th>\n",
       "      <th></th>\n",
       "      <th></th>\n",
       "      <th></th>\n",
       "      <th></th>\n",
       "    </tr>\n",
       "  </thead>\n",
       "  <tbody>\n",
       "    <tr>\n",
       "      <th>2015-03-03</th>\n",
       "      <td>NaN</td>\n",
       "      <td>NaN</td>\n",
       "      <td>NaN</td>\n",
       "      <td>NaN</td>\n",
       "    </tr>\n",
       "    <tr>\n",
       "      <th>2015-03-04</th>\n",
       "      <td>-2.762070</td>\n",
       "      <td>-1.650792</td>\n",
       "      <td>4.113646</td>\n",
       "      <td>-1.641381</td>\n",
       "    </tr>\n",
       "    <tr>\n",
       "      <th>2015-03-05</th>\n",
       "      <td>0.800968</td>\n",
       "      <td>0.257544</td>\n",
       "      <td>-1.929234</td>\n",
       "      <td>0.596558</td>\n",
       "    </tr>\n",
       "    <tr>\n",
       "      <th>2015-03-06</th>\n",
       "      <td>-2.968465</td>\n",
       "      <td>-1.876837</td>\n",
       "      <td>-4.601872</td>\n",
       "      <td>-2.947282</td>\n",
       "    </tr>\n",
       "    <tr>\n",
       "      <th>2015-03-09</th>\n",
       "      <td>-1.073656</td>\n",
       "      <td>-2.182252</td>\n",
       "      <td>-1.688907</td>\n",
       "      <td>-0.873840</td>\n",
       "    </tr>\n",
       "  </tbody>\n",
       "</table>\n",
       "</div>"
      ]
     },
     "metadata": {},
     "execution_count": 35
    }
   ],
   "metadata": {}
  },
  {
   "cell_type": "markdown",
   "source": [
    "## Algorithmic Daily Returns\n",
    "\n",
    "Read the algorithmic daily returns and clean the data"
   ],
   "metadata": {}
  },
  {
   "cell_type": "code",
   "execution_count": 36,
   "source": [
    "# Reading algorithmic returns\n",
    "\n",
    "daily_returns = whale_df.pct_change()\n",
    "daily_returns.head()\n",
    "\n"
   ],
   "outputs": [
    {
     "output_type": "execute_result",
     "data": {
      "text/plain": [
       "            SOROS FUND MANAGEMENT LLC  PAULSON & CO.INC.   \\\n",
       "Date                                                        \n",
       "2015-03-03                        NaN                 NaN   \n",
       "2015-03-04                  -2.762070           -1.650792   \n",
       "2015-03-05                   0.800968            0.257544   \n",
       "2015-03-06                  -2.968465           -1.876837   \n",
       "2015-03-09                  -1.073656           -2.182252   \n",
       "\n",
       "            TIGER GLOBAL MANAGEMENT LLC  BERKSHIRE HATHAWAY INC  \n",
       "Date                                                             \n",
       "2015-03-03                          NaN                     NaN  \n",
       "2015-03-04                     4.113646               -1.641381  \n",
       "2015-03-05                    -1.929234                0.596558  \n",
       "2015-03-06                    -4.601872               -2.947282  \n",
       "2015-03-09                    -1.688907               -0.873840  "
      ],
      "text/html": [
       "<div>\n",
       "<style scoped>\n",
       "    .dataframe tbody tr th:only-of-type {\n",
       "        vertical-align: middle;\n",
       "    }\n",
       "\n",
       "    .dataframe tbody tr th {\n",
       "        vertical-align: top;\n",
       "    }\n",
       "\n",
       "    .dataframe thead th {\n",
       "        text-align: right;\n",
       "    }\n",
       "</style>\n",
       "<table border=\"1\" class=\"dataframe\">\n",
       "  <thead>\n",
       "    <tr style=\"text-align: right;\">\n",
       "      <th></th>\n",
       "      <th>SOROS FUND MANAGEMENT LLC</th>\n",
       "      <th>PAULSON &amp; CO.INC.</th>\n",
       "      <th>TIGER GLOBAL MANAGEMENT LLC</th>\n",
       "      <th>BERKSHIRE HATHAWAY INC</th>\n",
       "    </tr>\n",
       "    <tr>\n",
       "      <th>Date</th>\n",
       "      <th></th>\n",
       "      <th></th>\n",
       "      <th></th>\n",
       "      <th></th>\n",
       "    </tr>\n",
       "  </thead>\n",
       "  <tbody>\n",
       "    <tr>\n",
       "      <th>2015-03-03</th>\n",
       "      <td>NaN</td>\n",
       "      <td>NaN</td>\n",
       "      <td>NaN</td>\n",
       "      <td>NaN</td>\n",
       "    </tr>\n",
       "    <tr>\n",
       "      <th>2015-03-04</th>\n",
       "      <td>-2.762070</td>\n",
       "      <td>-1.650792</td>\n",
       "      <td>4.113646</td>\n",
       "      <td>-1.641381</td>\n",
       "    </tr>\n",
       "    <tr>\n",
       "      <th>2015-03-05</th>\n",
       "      <td>0.800968</td>\n",
       "      <td>0.257544</td>\n",
       "      <td>-1.929234</td>\n",
       "      <td>0.596558</td>\n",
       "    </tr>\n",
       "    <tr>\n",
       "      <th>2015-03-06</th>\n",
       "      <td>-2.968465</td>\n",
       "      <td>-1.876837</td>\n",
       "      <td>-4.601872</td>\n",
       "      <td>-2.947282</td>\n",
       "    </tr>\n",
       "    <tr>\n",
       "      <th>2015-03-09</th>\n",
       "      <td>-1.073656</td>\n",
       "      <td>-2.182252</td>\n",
       "      <td>-1.688907</td>\n",
       "      <td>-0.873840</td>\n",
       "    </tr>\n",
       "  </tbody>\n",
       "</table>\n",
       "</div>"
      ]
     },
     "metadata": {},
     "execution_count": 36
    }
   ],
   "metadata": {}
  },
  {
   "cell_type": "code",
   "execution_count": 37,
   "source": [
    "# Count nulls\n",
    "whale_df.isnull().sum()"
   ],
   "outputs": [
    {
     "output_type": "execute_result",
     "data": {
      "text/plain": [
       "SOROS FUND MANAGEMENT LLC      0\n",
       "PAULSON & CO.INC.              0\n",
       "TIGER GLOBAL MANAGEMENT LLC    0\n",
       "BERKSHIRE HATHAWAY INC         0\n",
       "dtype: int64"
      ]
     },
     "metadata": {},
     "execution_count": 37
    }
   ],
   "metadata": {}
  },
  {
   "cell_type": "code",
   "execution_count": 44,
   "source": [
    "# Drop nulls\n",
    "whale_df.dropna(inplace=True)\n",
    "whale_df\n",
    "\n",
    "\n"
   ],
   "outputs": [
    {
     "output_type": "execute_result",
     "data": {
      "text/plain": [
       "            SOROS FUND MANAGEMENT LLC  PAULSON & CO.INC.   \\\n",
       "Date                                                        \n",
       "2015-03-03                  -0.001266           -0.004981   \n",
       "2015-03-04                   0.002230            0.003241   \n",
       "2015-03-05                   0.004016            0.004076   \n",
       "2015-03-06                  -0.007905           -0.003574   \n",
       "2015-03-09                   0.000582            0.004225   \n",
       "...                               ...                 ...   \n",
       "2019-04-25                  -0.000285           -0.001291   \n",
       "2019-04-26                   0.008149            0.009162   \n",
       "2019-04-29                   0.001254            0.002719   \n",
       "2019-04-30                  -0.001295           -0.002211   \n",
       "2019-05-01                  -0.005847           -0.001341   \n",
       "\n",
       "            TIGER GLOBAL MANAGEMENT LLC  BERKSHIRE HATHAWAY INC  \n",
       "Date                                                             \n",
       "2015-03-03                    -0.000496               -0.006569  \n",
       "2015-03-04                    -0.002534                0.004213  \n",
       "2015-03-05                     0.002355                0.006726  \n",
       "2015-03-06                    -0.008481               -0.013098  \n",
       "2015-03-09                     0.005843               -0.001652  \n",
       "...                                 ...                     ...  \n",
       "2019-04-25                    -0.005153                0.004848  \n",
       "2019-04-26                     0.012355                0.010434  \n",
       "2019-04-29                     0.006251                0.005223  \n",
       "2019-04-30                    -0.000259               -0.003702  \n",
       "2019-05-01                    -0.007936               -0.007833  \n",
       "\n",
       "[1059 rows x 4 columns]"
      ],
      "text/html": [
       "<div>\n",
       "<style scoped>\n",
       "    .dataframe tbody tr th:only-of-type {\n",
       "        vertical-align: middle;\n",
       "    }\n",
       "\n",
       "    .dataframe tbody tr th {\n",
       "        vertical-align: top;\n",
       "    }\n",
       "\n",
       "    .dataframe thead th {\n",
       "        text-align: right;\n",
       "    }\n",
       "</style>\n",
       "<table border=\"1\" class=\"dataframe\">\n",
       "  <thead>\n",
       "    <tr style=\"text-align: right;\">\n",
       "      <th></th>\n",
       "      <th>SOROS FUND MANAGEMENT LLC</th>\n",
       "      <th>PAULSON &amp; CO.INC.</th>\n",
       "      <th>TIGER GLOBAL MANAGEMENT LLC</th>\n",
       "      <th>BERKSHIRE HATHAWAY INC</th>\n",
       "    </tr>\n",
       "    <tr>\n",
       "      <th>Date</th>\n",
       "      <th></th>\n",
       "      <th></th>\n",
       "      <th></th>\n",
       "      <th></th>\n",
       "    </tr>\n",
       "  </thead>\n",
       "  <tbody>\n",
       "    <tr>\n",
       "      <th>2015-03-03</th>\n",
       "      <td>-0.001266</td>\n",
       "      <td>-0.004981</td>\n",
       "      <td>-0.000496</td>\n",
       "      <td>-0.006569</td>\n",
       "    </tr>\n",
       "    <tr>\n",
       "      <th>2015-03-04</th>\n",
       "      <td>0.002230</td>\n",
       "      <td>0.003241</td>\n",
       "      <td>-0.002534</td>\n",
       "      <td>0.004213</td>\n",
       "    </tr>\n",
       "    <tr>\n",
       "      <th>2015-03-05</th>\n",
       "      <td>0.004016</td>\n",
       "      <td>0.004076</td>\n",
       "      <td>0.002355</td>\n",
       "      <td>0.006726</td>\n",
       "    </tr>\n",
       "    <tr>\n",
       "      <th>2015-03-06</th>\n",
       "      <td>-0.007905</td>\n",
       "      <td>-0.003574</td>\n",
       "      <td>-0.008481</td>\n",
       "      <td>-0.013098</td>\n",
       "    </tr>\n",
       "    <tr>\n",
       "      <th>2015-03-09</th>\n",
       "      <td>0.000582</td>\n",
       "      <td>0.004225</td>\n",
       "      <td>0.005843</td>\n",
       "      <td>-0.001652</td>\n",
       "    </tr>\n",
       "    <tr>\n",
       "      <th>...</th>\n",
       "      <td>...</td>\n",
       "      <td>...</td>\n",
       "      <td>...</td>\n",
       "      <td>...</td>\n",
       "    </tr>\n",
       "    <tr>\n",
       "      <th>2019-04-25</th>\n",
       "      <td>-0.000285</td>\n",
       "      <td>-0.001291</td>\n",
       "      <td>-0.005153</td>\n",
       "      <td>0.004848</td>\n",
       "    </tr>\n",
       "    <tr>\n",
       "      <th>2019-04-26</th>\n",
       "      <td>0.008149</td>\n",
       "      <td>0.009162</td>\n",
       "      <td>0.012355</td>\n",
       "      <td>0.010434</td>\n",
       "    </tr>\n",
       "    <tr>\n",
       "      <th>2019-04-29</th>\n",
       "      <td>0.001254</td>\n",
       "      <td>0.002719</td>\n",
       "      <td>0.006251</td>\n",
       "      <td>0.005223</td>\n",
       "    </tr>\n",
       "    <tr>\n",
       "      <th>2019-04-30</th>\n",
       "      <td>-0.001295</td>\n",
       "      <td>-0.002211</td>\n",
       "      <td>-0.000259</td>\n",
       "      <td>-0.003702</td>\n",
       "    </tr>\n",
       "    <tr>\n",
       "      <th>2019-05-01</th>\n",
       "      <td>-0.005847</td>\n",
       "      <td>-0.001341</td>\n",
       "      <td>-0.007936</td>\n",
       "      <td>-0.007833</td>\n",
       "    </tr>\n",
       "  </tbody>\n",
       "</table>\n",
       "<p>1059 rows × 4 columns</p>\n",
       "</div>"
      ]
     },
     "metadata": {},
     "execution_count": 44
    }
   ],
   "metadata": {}
  },
  {
   "cell_type": "markdown",
   "source": [
    "## S&P 500 Returns\n",
    "\n",
    "Read the S&P 500 historic closing prices and create a new daily returns DataFrame from the data. "
   ],
   "metadata": {}
  },
  {
   "cell_type": "code",
   "execution_count": 76,
   "source": [
    "# Reading S&P 500 Closing Prices\n",
    "sp500_path = Path('../Starter_Code/Resources/sp500_history.csv')\n",
    "sp500_df = pd.read_csv(sp500_path)\n",
    "sp500_df.head()"
   ],
   "outputs": [
    {
     "output_type": "execute_result",
     "data": {
      "text/plain": [
       "        Date     Close\n",
       "0  23-Apr-19  $2933.68\n",
       "1  22-Apr-19  $2907.97\n",
       "2  18-Apr-19  $2905.03\n",
       "3  17-Apr-19  $2900.45\n",
       "4  16-Apr-19  $2907.06"
      ],
      "text/html": [
       "<div>\n",
       "<style scoped>\n",
       "    .dataframe tbody tr th:only-of-type {\n",
       "        vertical-align: middle;\n",
       "    }\n",
       "\n",
       "    .dataframe tbody tr th {\n",
       "        vertical-align: top;\n",
       "    }\n",
       "\n",
       "    .dataframe thead th {\n",
       "        text-align: right;\n",
       "    }\n",
       "</style>\n",
       "<table border=\"1\" class=\"dataframe\">\n",
       "  <thead>\n",
       "    <tr style=\"text-align: right;\">\n",
       "      <th></th>\n",
       "      <th>Date</th>\n",
       "      <th>Close</th>\n",
       "    </tr>\n",
       "  </thead>\n",
       "  <tbody>\n",
       "    <tr>\n",
       "      <th>0</th>\n",
       "      <td>23-Apr-19</td>\n",
       "      <td>$2933.68</td>\n",
       "    </tr>\n",
       "    <tr>\n",
       "      <th>1</th>\n",
       "      <td>22-Apr-19</td>\n",
       "      <td>$2907.97</td>\n",
       "    </tr>\n",
       "    <tr>\n",
       "      <th>2</th>\n",
       "      <td>18-Apr-19</td>\n",
       "      <td>$2905.03</td>\n",
       "    </tr>\n",
       "    <tr>\n",
       "      <th>3</th>\n",
       "      <td>17-Apr-19</td>\n",
       "      <td>$2900.45</td>\n",
       "    </tr>\n",
       "    <tr>\n",
       "      <th>4</th>\n",
       "      <td>16-Apr-19</td>\n",
       "      <td>$2907.06</td>\n",
       "    </tr>\n",
       "  </tbody>\n",
       "</table>\n",
       "</div>"
      ]
     },
     "metadata": {},
     "execution_count": 76
    }
   ],
   "metadata": {}
  },
  {
   "cell_type": "code",
   "execution_count": 77,
   "source": [
    "# Check Data Types\n",
    "sp500_df.dtypes"
   ],
   "outputs": [
    {
     "output_type": "execute_result",
     "data": {
      "text/plain": [
       "Date     object\n",
       "Close    object\n",
       "dtype: object"
      ]
     },
     "metadata": {},
     "execution_count": 77
    }
   ],
   "metadata": {}
  },
  {
   "cell_type": "code",
   "execution_count": 97,
   "source": [
    "# Fix Data Types\n",
    "sp500_df['Close'] = sp500_df['Close'].astype(float) \n",
    "sp500_df['Close'] = sp500_df['Close'].replace('$', '')\n",
    "sp500_df.dtypes\n",
    "\n",
    "# Set the date as the index to the DataFrame\n",
    "sp500_df.set_index(pd.to_datetime(sp500_df['Date'], infer_datetime_format=True), inplace=True)\n",
    "sp500_df.head()\n",
    "\n",
    "# Drop the extra date column\n",
    "sp500_df.drop(columns=['Date'], inplace=True)\n",
    "sp500_df.head()\n"
   ],
   "outputs": [
    {
     "output_type": "execute_result",
     "data": {
      "text/plain": [
       "              Close\n",
       "Date               \n",
       "2019-04-23  2933.68\n",
       "2019-04-22  2907.97\n",
       "2019-04-18  2905.03\n",
       "2019-04-17  2900.45\n",
       "2019-04-16  2907.06"
      ],
      "text/html": [
       "<div>\n",
       "<style scoped>\n",
       "    .dataframe tbody tr th:only-of-type {\n",
       "        vertical-align: middle;\n",
       "    }\n",
       "\n",
       "    .dataframe tbody tr th {\n",
       "        vertical-align: top;\n",
       "    }\n",
       "\n",
       "    .dataframe thead th {\n",
       "        text-align: right;\n",
       "    }\n",
       "</style>\n",
       "<table border=\"1\" class=\"dataframe\">\n",
       "  <thead>\n",
       "    <tr style=\"text-align: right;\">\n",
       "      <th></th>\n",
       "      <th>Close</th>\n",
       "    </tr>\n",
       "    <tr>\n",
       "      <th>Date</th>\n",
       "      <th></th>\n",
       "    </tr>\n",
       "  </thead>\n",
       "  <tbody>\n",
       "    <tr>\n",
       "      <th>2019-04-23</th>\n",
       "      <td>2933.68</td>\n",
       "    </tr>\n",
       "    <tr>\n",
       "      <th>2019-04-22</th>\n",
       "      <td>2907.97</td>\n",
       "    </tr>\n",
       "    <tr>\n",
       "      <th>2019-04-18</th>\n",
       "      <td>2905.03</td>\n",
       "    </tr>\n",
       "    <tr>\n",
       "      <th>2019-04-17</th>\n",
       "      <td>2900.45</td>\n",
       "    </tr>\n",
       "    <tr>\n",
       "      <th>2019-04-16</th>\n",
       "      <td>2907.06</td>\n",
       "    </tr>\n",
       "  </tbody>\n",
       "</table>\n",
       "</div>"
      ]
     },
     "metadata": {},
     "execution_count": 97
    }
   ],
   "metadata": {}
  },
  {
   "cell_type": "code",
   "execution_count": 98,
   "source": [
    "# Calculate Daily Returns\n",
    "daily_returns = sp500_df.pct_change()\n",
    "daily_returns.head()"
   ],
   "outputs": [
    {
     "output_type": "execute_result",
     "data": {
      "text/plain": [
       "            SOROS FUND MANAGEMENT LLC  PAULSON & CO.INC.   \\\n",
       "Date                                                        \n",
       "2015-03-03                        NaN                 NaN   \n",
       "2015-03-04                  -2.762070           -1.650792   \n",
       "2015-03-05                   0.800968            0.257544   \n",
       "2015-03-06                  -2.968465           -1.876837   \n",
       "2015-03-09                  -1.073656           -2.182252   \n",
       "\n",
       "            TIGER GLOBAL MANAGEMENT LLC  BERKSHIRE HATHAWAY INC  \n",
       "Date                                                             \n",
       "2015-03-03                          NaN                     NaN  \n",
       "2015-03-04                     4.113646               -1.641381  \n",
       "2015-03-05                    -1.929234                0.596558  \n",
       "2015-03-06                    -4.601872               -2.947282  \n",
       "2015-03-09                    -1.688907               -0.873840  "
      ],
      "text/html": [
       "<div>\n",
       "<style scoped>\n",
       "    .dataframe tbody tr th:only-of-type {\n",
       "        vertical-align: middle;\n",
       "    }\n",
       "\n",
       "    .dataframe tbody tr th {\n",
       "        vertical-align: top;\n",
       "    }\n",
       "\n",
       "    .dataframe thead th {\n",
       "        text-align: right;\n",
       "    }\n",
       "</style>\n",
       "<table border=\"1\" class=\"dataframe\">\n",
       "  <thead>\n",
       "    <tr style=\"text-align: right;\">\n",
       "      <th></th>\n",
       "      <th>SOROS FUND MANAGEMENT LLC</th>\n",
       "      <th>PAULSON &amp; CO.INC.</th>\n",
       "      <th>TIGER GLOBAL MANAGEMENT LLC</th>\n",
       "      <th>BERKSHIRE HATHAWAY INC</th>\n",
       "    </tr>\n",
       "    <tr>\n",
       "      <th>Date</th>\n",
       "      <th></th>\n",
       "      <th></th>\n",
       "      <th></th>\n",
       "      <th></th>\n",
       "    </tr>\n",
       "  </thead>\n",
       "  <tbody>\n",
       "    <tr>\n",
       "      <th>2015-03-03</th>\n",
       "      <td>NaN</td>\n",
       "      <td>NaN</td>\n",
       "      <td>NaN</td>\n",
       "      <td>NaN</td>\n",
       "    </tr>\n",
       "    <tr>\n",
       "      <th>2015-03-04</th>\n",
       "      <td>-2.762070</td>\n",
       "      <td>-1.650792</td>\n",
       "      <td>4.113646</td>\n",
       "      <td>-1.641381</td>\n",
       "    </tr>\n",
       "    <tr>\n",
       "      <th>2015-03-05</th>\n",
       "      <td>0.800968</td>\n",
       "      <td>0.257544</td>\n",
       "      <td>-1.929234</td>\n",
       "      <td>0.596558</td>\n",
       "    </tr>\n",
       "    <tr>\n",
       "      <th>2015-03-06</th>\n",
       "      <td>-2.968465</td>\n",
       "      <td>-1.876837</td>\n",
       "      <td>-4.601872</td>\n",
       "      <td>-2.947282</td>\n",
       "    </tr>\n",
       "    <tr>\n",
       "      <th>2015-03-09</th>\n",
       "      <td>-1.073656</td>\n",
       "      <td>-2.182252</td>\n",
       "      <td>-1.688907</td>\n",
       "      <td>-0.873840</td>\n",
       "    </tr>\n",
       "  </tbody>\n",
       "</table>\n",
       "</div>"
      ]
     },
     "metadata": {},
     "execution_count": 98
    }
   ],
   "metadata": {}
  },
  {
   "cell_type": "code",
   "execution_count": 99,
   "source": [
    "# Drop nulls\n",
    "sp500_df.dropna(inplace=True)\n",
    "sp500_df"
   ],
   "outputs": [
    {
     "output_type": "execute_result",
     "data": {
      "text/plain": [
       "              Close\n",
       "Date               \n",
       "2019-04-23  2933.68\n",
       "2019-04-22  2907.97\n",
       "2019-04-18  2905.03\n",
       "2019-04-17  2900.45\n",
       "2019-04-16  2907.06\n",
       "...             ...\n",
       "2012-10-05  1460.93\n",
       "2012-10-04  1461.40\n",
       "2012-10-03  1450.99\n",
       "2012-10-02  1445.75\n",
       "2012-10-01  1444.49\n",
       "\n",
       "[1649 rows x 1 columns]"
      ],
      "text/html": [
       "<div>\n",
       "<style scoped>\n",
       "    .dataframe tbody tr th:only-of-type {\n",
       "        vertical-align: middle;\n",
       "    }\n",
       "\n",
       "    .dataframe tbody tr th {\n",
       "        vertical-align: top;\n",
       "    }\n",
       "\n",
       "    .dataframe thead th {\n",
       "        text-align: right;\n",
       "    }\n",
       "</style>\n",
       "<table border=\"1\" class=\"dataframe\">\n",
       "  <thead>\n",
       "    <tr style=\"text-align: right;\">\n",
       "      <th></th>\n",
       "      <th>Close</th>\n",
       "    </tr>\n",
       "    <tr>\n",
       "      <th>Date</th>\n",
       "      <th></th>\n",
       "    </tr>\n",
       "  </thead>\n",
       "  <tbody>\n",
       "    <tr>\n",
       "      <th>2019-04-23</th>\n",
       "      <td>2933.68</td>\n",
       "    </tr>\n",
       "    <tr>\n",
       "      <th>2019-04-22</th>\n",
       "      <td>2907.97</td>\n",
       "    </tr>\n",
       "    <tr>\n",
       "      <th>2019-04-18</th>\n",
       "      <td>2905.03</td>\n",
       "    </tr>\n",
       "    <tr>\n",
       "      <th>2019-04-17</th>\n",
       "      <td>2900.45</td>\n",
       "    </tr>\n",
       "    <tr>\n",
       "      <th>2019-04-16</th>\n",
       "      <td>2907.06</td>\n",
       "    </tr>\n",
       "    <tr>\n",
       "      <th>...</th>\n",
       "      <td>...</td>\n",
       "    </tr>\n",
       "    <tr>\n",
       "      <th>2012-10-05</th>\n",
       "      <td>1460.93</td>\n",
       "    </tr>\n",
       "    <tr>\n",
       "      <th>2012-10-04</th>\n",
       "      <td>1461.40</td>\n",
       "    </tr>\n",
       "    <tr>\n",
       "      <th>2012-10-03</th>\n",
       "      <td>1450.99</td>\n",
       "    </tr>\n",
       "    <tr>\n",
       "      <th>2012-10-02</th>\n",
       "      <td>1445.75</td>\n",
       "    </tr>\n",
       "    <tr>\n",
       "      <th>2012-10-01</th>\n",
       "      <td>1444.49</td>\n",
       "    </tr>\n",
       "  </tbody>\n",
       "</table>\n",
       "<p>1649 rows × 1 columns</p>\n",
       "</div>"
      ]
     },
     "metadata": {},
     "execution_count": 99
    }
   ],
   "metadata": {}
  },
  {
   "cell_type": "code",
   "execution_count": 103,
   "source": [
    "# Rename `Close` Column to be specific to this portfolio.\n",
    "columns = [\"SP500 DR\"]\n",
    "sp500_df.columns = columns\n",
    "sp500_df.head()\n"
   ],
   "outputs": [
    {
     "output_type": "execute_result",
     "data": {
      "text/plain": [
       "            SP500 DR\n",
       "Date                \n",
       "2019-04-23   2933.68\n",
       "2019-04-22   2907.97\n",
       "2019-04-18   2905.03\n",
       "2019-04-17   2900.45\n",
       "2019-04-16   2907.06"
      ],
      "text/html": [
       "<div>\n",
       "<style scoped>\n",
       "    .dataframe tbody tr th:only-of-type {\n",
       "        vertical-align: middle;\n",
       "    }\n",
       "\n",
       "    .dataframe tbody tr th {\n",
       "        vertical-align: top;\n",
       "    }\n",
       "\n",
       "    .dataframe thead th {\n",
       "        text-align: right;\n",
       "    }\n",
       "</style>\n",
       "<table border=\"1\" class=\"dataframe\">\n",
       "  <thead>\n",
       "    <tr style=\"text-align: right;\">\n",
       "      <th></th>\n",
       "      <th>SP500 DR</th>\n",
       "    </tr>\n",
       "    <tr>\n",
       "      <th>Date</th>\n",
       "      <th></th>\n",
       "    </tr>\n",
       "  </thead>\n",
       "  <tbody>\n",
       "    <tr>\n",
       "      <th>2019-04-23</th>\n",
       "      <td>2933.68</td>\n",
       "    </tr>\n",
       "    <tr>\n",
       "      <th>2019-04-22</th>\n",
       "      <td>2907.97</td>\n",
       "    </tr>\n",
       "    <tr>\n",
       "      <th>2019-04-18</th>\n",
       "      <td>2905.03</td>\n",
       "    </tr>\n",
       "    <tr>\n",
       "      <th>2019-04-17</th>\n",
       "      <td>2900.45</td>\n",
       "    </tr>\n",
       "    <tr>\n",
       "      <th>2019-04-16</th>\n",
       "      <td>2907.06</td>\n",
       "    </tr>\n",
       "  </tbody>\n",
       "</table>\n",
       "</div>"
      ]
     },
     "metadata": {},
     "execution_count": 103
    }
   ],
   "metadata": {}
  },
  {
   "cell_type": "markdown",
   "source": [
    "## Combine Whale, Algorithmic, and S&P 500 Returns"
   ],
   "metadata": {}
  },
  {
   "cell_type": "code",
   "execution_count": 111,
   "source": [
    "# Join Whale Returns, Algorithmic Returns, and the S&P 500 Returns into a single DataFrame with columns for each portfolio's returns.\n",
    "algo_path = Path('../Starter_Code/Resources/algo_returns.csv')\n",
    "algo_df = pd.read_csv(algo_path)\n",
    "\n",
    "#Count Nulls (just out of curiosity)\n",
    "algo_df.isnull().sum()\n",
    "\n",
    "#drop Nulls (to clean data)\n",
    "algo_df.dropna(inplace=True)\n",
    "algo_df\n",
    "\n",
    "# Set the date as the index to the DataFrame\n",
    "algo_df.set_index(pd.to_datetime(algo_df['Date'], infer_datetime_format=True), inplace=True)\n",
    "algo_df.head()\n",
    "\n",
    "# Drop the extra date column\n",
    "algo_df.drop(columns=['Date'], inplace=True)\n",
    "algo_df.head()\n",
    "\n",
    "#Calculate Daily Return  to be able to compare this data with Whale & SP500\n",
    "daily_returns = algo_df.pct_change()\n",
    "daily_returns.head()\n",
    "\n",
    "#Combine Whale, Algo, and SP500\n",
    "combined_df = pd.concat([whale_df, sp500_df,algo_df ], axis=\"columns\", join=\"inner\")\n"
   ],
   "outputs": [],
   "metadata": {}
  },
  {
   "cell_type": "markdown",
   "source": [
    "---"
   ],
   "metadata": {}
  },
  {
   "cell_type": "markdown",
   "source": [
    "# Conduct Quantitative Analysis\n",
    "\n",
    "In this section, you will calculate and visualize performance and risk metrics for the portfolios."
   ],
   "metadata": {}
  },
  {
   "cell_type": "markdown",
   "source": [
    "## Performance Anlysis\n",
    "\n",
    "#### Calculate and Plot the daily returns."
   ],
   "metadata": {}
  },
  {
   "cell_type": "code",
   "execution_count": 112,
   "source": [
    "# Plot daily returns of all portfolios\n",
    "combined_df.plot()"
   ],
   "outputs": [
    {
     "output_type": "execute_result",
     "data": {
      "text/plain": [
       "<AxesSubplot:xlabel='Date'>"
      ]
     },
     "metadata": {},
     "execution_count": 112
    },
    {
     "output_type": "display_data",
     "data": {
      "text/plain": [
       "<Figure size 432x288 with 1 Axes>"
      ],
      "image/svg+xml": "<?xml version=\"1.0\" encoding=\"utf-8\" standalone=\"no\"?>\n<!DOCTYPE svg PUBLIC \"-//W3C//DTD SVG 1.1//EN\"\n  \"http://www.w3.org/Graphics/SVG/1.1/DTD/svg11.dtd\">\n<!-- Created with matplotlib (https://matplotlib.org/) -->\n<svg height=\"260.191033pt\" version=\"1.1\" viewBox=\"0 0 387.285079 260.191033\" width=\"387.285079pt\" xmlns=\"http://www.w3.org/2000/svg\" xmlns:xlink=\"http://www.w3.org/1999/xlink\">\n <metadata>\n  <rdf:RDF xmlns:cc=\"http://creativecommons.org/ns#\" xmlns:dc=\"http://purl.org/dc/elements/1.1/\" xmlns:rdf=\"http://www.w3.org/1999/02/22-rdf-syntax-ns#\">\n   <cc:Work>\n    <dc:type rdf:resource=\"http://purl.org/dc/dcmitype/StillImage\"/>\n    <dc:date>2021-09-21T21:33:34.782012</dc:date>\n    <dc:format>image/svg+xml</dc:format>\n    <dc:creator>\n     <cc:Agent>\n      <dc:title>Matplotlib v3.3.4, https://matplotlib.org/</dc:title>\n     </cc:Agent>\n    </dc:creator>\n   </cc:Work>\n  </rdf:RDF>\n </metadata>\n <defs>\n  <style type=\"text/css\">*{stroke-linecap:butt;stroke-linejoin:round;}</style>\n </defs>\n <g id=\"figure_1\">\n  <g id=\"patch_1\">\n   <path d=\"M 0 260.191033 \nL 387.285079 260.191033 \nL 387.285079 0 \nL 0 0 \nz\n\" style=\"fill:none;\"/>\n  </g>\n  <g id=\"axes_1\">\n   <g id=\"patch_2\">\n    <path d=\"M 45.285079 203.04 \nL 380.085079 203.04 \nL 380.085079 7.2 \nL 45.285079 7.2 \nz\n\" style=\"fill:#ffffff;\"/>\n   </g>\n   <g id=\"matplotlib.axis_1\">\n    <g id=\"xtick_1\">\n     <g id=\"line2d_1\">\n      <defs>\n       <path d=\"M 0 0 \nL 0 3.5 \n\" id=\"meb63286a08\" style=\"stroke:#000000;stroke-width:0.8;\"/>\n      </defs>\n      <g>\n       <use style=\"stroke:#000000;stroke-width:0.8;\" x=\"48.22404\" xlink:href=\"#meb63286a08\" y=\"203.04\"/>\n      </g>\n     </g>\n     <g id=\"text_1\">\n      <!-- 2015-01 -->\n      <g transform=\"translate(10.999219 237.511846)rotate(-30)scale(0.1 -0.1)\">\n       <defs>\n        <path d=\"M 19.1875 8.296875 \nL 53.609375 8.296875 \nL 53.609375 0 \nL 7.328125 0 \nL 7.328125 8.296875 \nQ 12.9375 14.109375 22.625 23.890625 \nQ 32.328125 33.6875 34.8125 36.53125 \nQ 39.546875 41.84375 41.421875 45.53125 \nQ 43.3125 49.21875 43.3125 52.78125 \nQ 43.3125 58.59375 39.234375 62.25 \nQ 35.15625 65.921875 28.609375 65.921875 \nQ 23.96875 65.921875 18.8125 64.3125 \nQ 13.671875 62.703125 7.8125 59.421875 \nL 7.8125 69.390625 \nQ 13.765625 71.78125 18.9375 73 \nQ 24.125 74.21875 28.421875 74.21875 \nQ 39.75 74.21875 46.484375 68.546875 \nQ 53.21875 62.890625 53.21875 53.421875 \nQ 53.21875 48.921875 51.53125 44.890625 \nQ 49.859375 40.875 45.40625 35.40625 \nQ 44.1875 33.984375 37.640625 27.21875 \nQ 31.109375 20.453125 19.1875 8.296875 \nz\n\" id=\"DejaVuSans-50\"/>\n        <path d=\"M 31.78125 66.40625 \nQ 24.171875 66.40625 20.328125 58.90625 \nQ 16.5 51.421875 16.5 36.375 \nQ 16.5 21.390625 20.328125 13.890625 \nQ 24.171875 6.390625 31.78125 6.390625 \nQ 39.453125 6.390625 43.28125 13.890625 \nQ 47.125 21.390625 47.125 36.375 \nQ 47.125 51.421875 43.28125 58.90625 \nQ 39.453125 66.40625 31.78125 66.40625 \nz\nM 31.78125 74.21875 \nQ 44.046875 74.21875 50.515625 64.515625 \nQ 56.984375 54.828125 56.984375 36.375 \nQ 56.984375 17.96875 50.515625 8.265625 \nQ 44.046875 -1.421875 31.78125 -1.421875 \nQ 19.53125 -1.421875 13.0625 8.265625 \nQ 6.59375 17.96875 6.59375 36.375 \nQ 6.59375 54.828125 13.0625 64.515625 \nQ 19.53125 74.21875 31.78125 74.21875 \nz\n\" id=\"DejaVuSans-48\"/>\n        <path d=\"M 12.40625 8.296875 \nL 28.515625 8.296875 \nL 28.515625 63.921875 \nL 10.984375 60.40625 \nL 10.984375 69.390625 \nL 28.421875 72.90625 \nL 38.28125 72.90625 \nL 38.28125 8.296875 \nL 54.390625 8.296875 \nL 54.390625 0 \nL 12.40625 0 \nz\n\" id=\"DejaVuSans-49\"/>\n        <path d=\"M 10.796875 72.90625 \nL 49.515625 72.90625 \nL 49.515625 64.59375 \nL 19.828125 64.59375 \nL 19.828125 46.734375 \nQ 21.96875 47.46875 24.109375 47.828125 \nQ 26.265625 48.1875 28.421875 48.1875 \nQ 40.625 48.1875 47.75 41.5 \nQ 54.890625 34.8125 54.890625 23.390625 \nQ 54.890625 11.625 47.5625 5.09375 \nQ 40.234375 -1.421875 26.90625 -1.421875 \nQ 22.3125 -1.421875 17.546875 -0.640625 \nQ 12.796875 0.140625 7.71875 1.703125 \nL 7.71875 11.625 \nQ 12.109375 9.234375 16.796875 8.0625 \nQ 21.484375 6.890625 26.703125 6.890625 \nQ 35.15625 6.890625 40.078125 11.328125 \nQ 45.015625 15.765625 45.015625 23.390625 \nQ 45.015625 31 40.078125 35.4375 \nQ 35.15625 39.890625 26.703125 39.890625 \nQ 22.75 39.890625 18.8125 39.015625 \nQ 14.890625 38.140625 10.796875 36.28125 \nz\n\" id=\"DejaVuSans-53\"/>\n        <path d=\"M 4.890625 31.390625 \nL 31.203125 31.390625 \nL 31.203125 23.390625 \nL 4.890625 23.390625 \nz\n\" id=\"DejaVuSans-45\"/>\n       </defs>\n       <use xlink:href=\"#DejaVuSans-50\"/>\n       <use x=\"63.623047\" xlink:href=\"#DejaVuSans-48\"/>\n       <use x=\"127.246094\" xlink:href=\"#DejaVuSans-49\"/>\n       <use x=\"190.869141\" xlink:href=\"#DejaVuSans-53\"/>\n       <use x=\"254.492188\" xlink:href=\"#DejaVuSans-45\"/>\n       <use x=\"290.576172\" xlink:href=\"#DejaVuSans-48\"/>\n       <use x=\"354.199219\" xlink:href=\"#DejaVuSans-49\"/>\n      </g>\n     </g>\n    </g>\n    <g id=\"xtick_2\">\n     <g id=\"line2d_2\">\n      <g>\n       <use style=\"stroke:#000000;stroke-width:0.8;\" x=\"84.659105\" xlink:href=\"#meb63286a08\" y=\"203.04\"/>\n      </g>\n     </g>\n     <g id=\"text_2\">\n      <!-- 2015-07 -->\n      <g transform=\"translate(47.434284 237.511846)rotate(-30)scale(0.1 -0.1)\">\n       <defs>\n        <path d=\"M 8.203125 72.90625 \nL 55.078125 72.90625 \nL 55.078125 68.703125 \nL 28.609375 0 \nL 18.3125 0 \nL 43.21875 64.59375 \nL 8.203125 64.59375 \nz\n\" id=\"DejaVuSans-55\"/>\n       </defs>\n       <use xlink:href=\"#DejaVuSans-50\"/>\n       <use x=\"63.623047\" xlink:href=\"#DejaVuSans-48\"/>\n       <use x=\"127.246094\" xlink:href=\"#DejaVuSans-49\"/>\n       <use x=\"190.869141\" xlink:href=\"#DejaVuSans-53\"/>\n       <use x=\"254.492188\" xlink:href=\"#DejaVuSans-45\"/>\n       <use x=\"290.576172\" xlink:href=\"#DejaVuSans-48\"/>\n       <use x=\"354.199219\" xlink:href=\"#DejaVuSans-55\"/>\n      </g>\n     </g>\n    </g>\n    <g id=\"xtick_3\">\n     <g id=\"line2d_3\">\n      <g>\n       <use style=\"stroke:#000000;stroke-width:0.8;\" x=\"121.698066\" xlink:href=\"#meb63286a08\" y=\"203.04\"/>\n      </g>\n     </g>\n     <g id=\"text_3\">\n      <!-- 2016-01 -->\n      <g transform=\"translate(84.473245 237.511846)rotate(-30)scale(0.1 -0.1)\">\n       <defs>\n        <path d=\"M 33.015625 40.375 \nQ 26.375 40.375 22.484375 35.828125 \nQ 18.609375 31.296875 18.609375 23.390625 \nQ 18.609375 15.53125 22.484375 10.953125 \nQ 26.375 6.390625 33.015625 6.390625 \nQ 39.65625 6.390625 43.53125 10.953125 \nQ 47.40625 15.53125 47.40625 23.390625 \nQ 47.40625 31.296875 43.53125 35.828125 \nQ 39.65625 40.375 33.015625 40.375 \nz\nM 52.59375 71.296875 \nL 52.59375 62.3125 \nQ 48.875 64.0625 45.09375 64.984375 \nQ 41.3125 65.921875 37.59375 65.921875 \nQ 27.828125 65.921875 22.671875 59.328125 \nQ 17.53125 52.734375 16.796875 39.40625 \nQ 19.671875 43.65625 24.015625 45.921875 \nQ 28.375 48.1875 33.59375 48.1875 \nQ 44.578125 48.1875 50.953125 41.515625 \nQ 57.328125 34.859375 57.328125 23.390625 \nQ 57.328125 12.15625 50.6875 5.359375 \nQ 44.046875 -1.421875 33.015625 -1.421875 \nQ 20.359375 -1.421875 13.671875 8.265625 \nQ 6.984375 17.96875 6.984375 36.375 \nQ 6.984375 53.65625 15.1875 63.9375 \nQ 23.390625 74.21875 37.203125 74.21875 \nQ 40.921875 74.21875 44.703125 73.484375 \nQ 48.484375 72.75 52.59375 71.296875 \nz\n\" id=\"DejaVuSans-54\"/>\n       </defs>\n       <use xlink:href=\"#DejaVuSans-50\"/>\n       <use x=\"63.623047\" xlink:href=\"#DejaVuSans-48\"/>\n       <use x=\"127.246094\" xlink:href=\"#DejaVuSans-49\"/>\n       <use x=\"190.869141\" xlink:href=\"#DejaVuSans-54\"/>\n       <use x=\"254.492188\" xlink:href=\"#DejaVuSans-45\"/>\n       <use x=\"290.576172\" xlink:href=\"#DejaVuSans-48\"/>\n       <use x=\"354.199219\" xlink:href=\"#DejaVuSans-49\"/>\n      </g>\n     </g>\n    </g>\n    <g id=\"xtick_4\">\n     <g id=\"line2d_4\">\n      <g>\n       <use style=\"stroke:#000000;stroke-width:0.8;\" x=\"158.334429\" xlink:href=\"#meb63286a08\" y=\"203.04\"/>\n      </g>\n     </g>\n     <g id=\"text_4\">\n      <!-- 2016-07 -->\n      <g transform=\"translate(121.109608 237.511846)rotate(-30)scale(0.1 -0.1)\">\n       <use xlink:href=\"#DejaVuSans-50\"/>\n       <use x=\"63.623047\" xlink:href=\"#DejaVuSans-48\"/>\n       <use x=\"127.246094\" xlink:href=\"#DejaVuSans-49\"/>\n       <use x=\"190.869141\" xlink:href=\"#DejaVuSans-54\"/>\n       <use x=\"254.492188\" xlink:href=\"#DejaVuSans-45\"/>\n       <use x=\"290.576172\" xlink:href=\"#DejaVuSans-48\"/>\n       <use x=\"354.199219\" xlink:href=\"#DejaVuSans-55\"/>\n      </g>\n     </g>\n    </g>\n    <g id=\"xtick_5\">\n     <g id=\"line2d_5\">\n      <g>\n       <use style=\"stroke:#000000;stroke-width:0.8;\" x=\"195.37339\" xlink:href=\"#meb63286a08\" y=\"203.04\"/>\n      </g>\n     </g>\n     <g id=\"text_5\">\n      <!-- 2017-01 -->\n      <g transform=\"translate(158.148569 237.511846)rotate(-30)scale(0.1 -0.1)\">\n       <use xlink:href=\"#DejaVuSans-50\"/>\n       <use x=\"63.623047\" xlink:href=\"#DejaVuSans-48\"/>\n       <use x=\"127.246094\" xlink:href=\"#DejaVuSans-49\"/>\n       <use x=\"190.869141\" xlink:href=\"#DejaVuSans-55\"/>\n       <use x=\"254.492188\" xlink:href=\"#DejaVuSans-45\"/>\n       <use x=\"290.576172\" xlink:href=\"#DejaVuSans-48\"/>\n       <use x=\"354.199219\" xlink:href=\"#DejaVuSans-49\"/>\n      </g>\n     </g>\n    </g>\n    <g id=\"xtick_6\">\n     <g id=\"line2d_6\">\n      <g>\n       <use style=\"stroke:#000000;stroke-width:0.8;\" x=\"231.808455\" xlink:href=\"#meb63286a08\" y=\"203.04\"/>\n      </g>\n     </g>\n     <g id=\"text_6\">\n      <!-- 2017-07 -->\n      <g transform=\"translate(194.583634 237.511846)rotate(-30)scale(0.1 -0.1)\">\n       <use xlink:href=\"#DejaVuSans-50\"/>\n       <use x=\"63.623047\" xlink:href=\"#DejaVuSans-48\"/>\n       <use x=\"127.246094\" xlink:href=\"#DejaVuSans-49\"/>\n       <use x=\"190.869141\" xlink:href=\"#DejaVuSans-55\"/>\n       <use x=\"254.492188\" xlink:href=\"#DejaVuSans-45\"/>\n       <use x=\"290.576172\" xlink:href=\"#DejaVuSans-48\"/>\n       <use x=\"354.199219\" xlink:href=\"#DejaVuSans-55\"/>\n      </g>\n     </g>\n    </g>\n    <g id=\"xtick_7\">\n     <g id=\"line2d_7\">\n      <g>\n       <use style=\"stroke:#000000;stroke-width:0.8;\" x=\"268.847416\" xlink:href=\"#meb63286a08\" y=\"203.04\"/>\n      </g>\n     </g>\n     <g id=\"text_7\">\n      <!-- 2018-01 -->\n      <g transform=\"translate(231.622595 237.511846)rotate(-30)scale(0.1 -0.1)\">\n       <defs>\n        <path d=\"M 31.78125 34.625 \nQ 24.75 34.625 20.71875 30.859375 \nQ 16.703125 27.09375 16.703125 20.515625 \nQ 16.703125 13.921875 20.71875 10.15625 \nQ 24.75 6.390625 31.78125 6.390625 \nQ 38.8125 6.390625 42.859375 10.171875 \nQ 46.921875 13.96875 46.921875 20.515625 \nQ 46.921875 27.09375 42.890625 30.859375 \nQ 38.875 34.625 31.78125 34.625 \nz\nM 21.921875 38.8125 \nQ 15.578125 40.375 12.03125 44.71875 \nQ 8.5 49.078125 8.5 55.328125 \nQ 8.5 64.0625 14.71875 69.140625 \nQ 20.953125 74.21875 31.78125 74.21875 \nQ 42.671875 74.21875 48.875 69.140625 \nQ 55.078125 64.0625 55.078125 55.328125 \nQ 55.078125 49.078125 51.53125 44.71875 \nQ 48 40.375 41.703125 38.8125 \nQ 48.828125 37.15625 52.796875 32.3125 \nQ 56.78125 27.484375 56.78125 20.515625 \nQ 56.78125 9.90625 50.3125 4.234375 \nQ 43.84375 -1.421875 31.78125 -1.421875 \nQ 19.734375 -1.421875 13.25 4.234375 \nQ 6.78125 9.90625 6.78125 20.515625 \nQ 6.78125 27.484375 10.78125 32.3125 \nQ 14.796875 37.15625 21.921875 38.8125 \nz\nM 18.3125 54.390625 \nQ 18.3125 48.734375 21.84375 45.5625 \nQ 25.390625 42.390625 31.78125 42.390625 \nQ 38.140625 42.390625 41.71875 45.5625 \nQ 45.3125 48.734375 45.3125 54.390625 \nQ 45.3125 60.0625 41.71875 63.234375 \nQ 38.140625 66.40625 31.78125 66.40625 \nQ 25.390625 66.40625 21.84375 63.234375 \nQ 18.3125 60.0625 18.3125 54.390625 \nz\n\" id=\"DejaVuSans-56\"/>\n       </defs>\n       <use xlink:href=\"#DejaVuSans-50\"/>\n       <use x=\"63.623047\" xlink:href=\"#DejaVuSans-48\"/>\n       <use x=\"127.246094\" xlink:href=\"#DejaVuSans-49\"/>\n       <use x=\"190.869141\" xlink:href=\"#DejaVuSans-56\"/>\n       <use x=\"254.492188\" xlink:href=\"#DejaVuSans-45\"/>\n       <use x=\"290.576172\" xlink:href=\"#DejaVuSans-48\"/>\n       <use x=\"354.199219\" xlink:href=\"#DejaVuSans-49\"/>\n      </g>\n     </g>\n    </g>\n    <g id=\"xtick_8\">\n     <g id=\"line2d_8\">\n      <g>\n       <use style=\"stroke:#000000;stroke-width:0.8;\" x=\"305.282481\" xlink:href=\"#meb63286a08\" y=\"203.04\"/>\n      </g>\n     </g>\n     <g id=\"text_8\">\n      <!-- 2018-07 -->\n      <g transform=\"translate(268.05766 237.511846)rotate(-30)scale(0.1 -0.1)\">\n       <use xlink:href=\"#DejaVuSans-50\"/>\n       <use x=\"63.623047\" xlink:href=\"#DejaVuSans-48\"/>\n       <use x=\"127.246094\" xlink:href=\"#DejaVuSans-49\"/>\n       <use x=\"190.869141\" xlink:href=\"#DejaVuSans-56\"/>\n       <use x=\"254.492188\" xlink:href=\"#DejaVuSans-45\"/>\n       <use x=\"290.576172\" xlink:href=\"#DejaVuSans-48\"/>\n       <use x=\"354.199219\" xlink:href=\"#DejaVuSans-55\"/>\n      </g>\n     </g>\n    </g>\n    <g id=\"xtick_9\">\n     <g id=\"line2d_9\">\n      <g>\n       <use style=\"stroke:#000000;stroke-width:0.8;\" x=\"342.321442\" xlink:href=\"#meb63286a08\" y=\"203.04\"/>\n      </g>\n     </g>\n     <g id=\"text_9\">\n      <!-- 2019-01 -->\n      <g transform=\"translate(305.096621 237.511846)rotate(-30)scale(0.1 -0.1)\">\n       <defs>\n        <path d=\"M 10.984375 1.515625 \nL 10.984375 10.5 \nQ 14.703125 8.734375 18.5 7.8125 \nQ 22.3125 6.890625 25.984375 6.890625 \nQ 35.75 6.890625 40.890625 13.453125 \nQ 46.046875 20.015625 46.78125 33.40625 \nQ 43.953125 29.203125 39.59375 26.953125 \nQ 35.25 24.703125 29.984375 24.703125 \nQ 19.046875 24.703125 12.671875 31.3125 \nQ 6.296875 37.9375 6.296875 49.421875 \nQ 6.296875 60.640625 12.9375 67.421875 \nQ 19.578125 74.21875 30.609375 74.21875 \nQ 43.265625 74.21875 49.921875 64.515625 \nQ 56.59375 54.828125 56.59375 36.375 \nQ 56.59375 19.140625 48.40625 8.859375 \nQ 40.234375 -1.421875 26.421875 -1.421875 \nQ 22.703125 -1.421875 18.890625 -0.6875 \nQ 15.09375 0.046875 10.984375 1.515625 \nz\nM 30.609375 32.421875 \nQ 37.25 32.421875 41.125 36.953125 \nQ 45.015625 41.5 45.015625 49.421875 \nQ 45.015625 57.28125 41.125 61.84375 \nQ 37.25 66.40625 30.609375 66.40625 \nQ 23.96875 66.40625 20.09375 61.84375 \nQ 16.21875 57.28125 16.21875 49.421875 \nQ 16.21875 41.5 20.09375 36.953125 \nQ 23.96875 32.421875 30.609375 32.421875 \nz\n\" id=\"DejaVuSans-57\"/>\n       </defs>\n       <use xlink:href=\"#DejaVuSans-50\"/>\n       <use x=\"63.623047\" xlink:href=\"#DejaVuSans-48\"/>\n       <use x=\"127.246094\" xlink:href=\"#DejaVuSans-49\"/>\n       <use x=\"190.869141\" xlink:href=\"#DejaVuSans-57\"/>\n       <use x=\"254.492188\" xlink:href=\"#DejaVuSans-45\"/>\n       <use x=\"290.576172\" xlink:href=\"#DejaVuSans-48\"/>\n       <use x=\"354.199219\" xlink:href=\"#DejaVuSans-49\"/>\n      </g>\n     </g>\n    </g>\n    <g id=\"xtick_10\">\n     <g id=\"line2d_10\">\n      <g>\n       <use style=\"stroke:#000000;stroke-width:0.8;\" x=\"378.756507\" xlink:href=\"#meb63286a08\" y=\"203.04\"/>\n      </g>\n     </g>\n     <g id=\"text_10\">\n      <!-- 2019-07 -->\n      <g transform=\"translate(341.531686 237.511846)rotate(-30)scale(0.1 -0.1)\">\n       <use xlink:href=\"#DejaVuSans-50\"/>\n       <use x=\"63.623047\" xlink:href=\"#DejaVuSans-48\"/>\n       <use x=\"127.246094\" xlink:href=\"#DejaVuSans-49\"/>\n       <use x=\"190.869141\" xlink:href=\"#DejaVuSans-57\"/>\n       <use x=\"254.492188\" xlink:href=\"#DejaVuSans-45\"/>\n       <use x=\"290.576172\" xlink:href=\"#DejaVuSans-48\"/>\n       <use x=\"354.199219\" xlink:href=\"#DejaVuSans-55\"/>\n      </g>\n     </g>\n    </g>\n    <g id=\"text_11\">\n     <!-- Date -->\n     <g transform=\"translate(200.734297 250.911346)scale(0.1 -0.1)\">\n      <defs>\n       <path d=\"M 19.671875 64.796875 \nL 19.671875 8.109375 \nL 31.59375 8.109375 \nQ 46.6875 8.109375 53.6875 14.9375 \nQ 60.6875 21.78125 60.6875 36.53125 \nQ 60.6875 51.171875 53.6875 57.984375 \nQ 46.6875 64.796875 31.59375 64.796875 \nz\nM 9.8125 72.90625 \nL 30.078125 72.90625 \nQ 51.265625 72.90625 61.171875 64.09375 \nQ 71.09375 55.28125 71.09375 36.53125 \nQ 71.09375 17.671875 61.125 8.828125 \nQ 51.171875 0 30.078125 0 \nL 9.8125 0 \nz\n\" id=\"DejaVuSans-68\"/>\n       <path d=\"M 34.28125 27.484375 \nQ 23.390625 27.484375 19.1875 25 \nQ 14.984375 22.515625 14.984375 16.5 \nQ 14.984375 11.71875 18.140625 8.90625 \nQ 21.296875 6.109375 26.703125 6.109375 \nQ 34.1875 6.109375 38.703125 11.40625 \nQ 43.21875 16.703125 43.21875 25.484375 \nL 43.21875 27.484375 \nz\nM 52.203125 31.203125 \nL 52.203125 0 \nL 43.21875 0 \nL 43.21875 8.296875 \nQ 40.140625 3.328125 35.546875 0.953125 \nQ 30.953125 -1.421875 24.3125 -1.421875 \nQ 15.921875 -1.421875 10.953125 3.296875 \nQ 6 8.015625 6 15.921875 \nQ 6 25.140625 12.171875 29.828125 \nQ 18.359375 34.515625 30.609375 34.515625 \nL 43.21875 34.515625 \nL 43.21875 35.40625 \nQ 43.21875 41.609375 39.140625 45 \nQ 35.0625 48.390625 27.6875 48.390625 \nQ 23 48.390625 18.546875 47.265625 \nQ 14.109375 46.140625 10.015625 43.890625 \nL 10.015625 52.203125 \nQ 14.9375 54.109375 19.578125 55.046875 \nQ 24.21875 56 28.609375 56 \nQ 40.484375 56 46.34375 49.84375 \nQ 52.203125 43.703125 52.203125 31.203125 \nz\n\" id=\"DejaVuSans-97\"/>\n       <path d=\"M 18.3125 70.21875 \nL 18.3125 54.6875 \nL 36.8125 54.6875 \nL 36.8125 47.703125 \nL 18.3125 47.703125 \nL 18.3125 18.015625 \nQ 18.3125 11.328125 20.140625 9.421875 \nQ 21.96875 7.515625 27.59375 7.515625 \nL 36.8125 7.515625 \nL 36.8125 0 \nL 27.59375 0 \nQ 17.1875 0 13.234375 3.875 \nQ 9.28125 7.765625 9.28125 18.015625 \nL 9.28125 47.703125 \nL 2.6875 47.703125 \nL 2.6875 54.6875 \nL 9.28125 54.6875 \nL 9.28125 70.21875 \nz\n\" id=\"DejaVuSans-116\"/>\n       <path d=\"M 56.203125 29.59375 \nL 56.203125 25.203125 \nL 14.890625 25.203125 \nQ 15.484375 15.921875 20.484375 11.0625 \nQ 25.484375 6.203125 34.421875 6.203125 \nQ 39.59375 6.203125 44.453125 7.46875 \nQ 49.3125 8.734375 54.109375 11.28125 \nL 54.109375 2.78125 \nQ 49.265625 0.734375 44.1875 -0.34375 \nQ 39.109375 -1.421875 33.890625 -1.421875 \nQ 20.796875 -1.421875 13.15625 6.1875 \nQ 5.515625 13.8125 5.515625 26.8125 \nQ 5.515625 40.234375 12.765625 48.109375 \nQ 20.015625 56 32.328125 56 \nQ 43.359375 56 49.78125 48.890625 \nQ 56.203125 41.796875 56.203125 29.59375 \nz\nM 47.21875 32.234375 \nQ 47.125 39.59375 43.09375 43.984375 \nQ 39.0625 48.390625 32.421875 48.390625 \nQ 24.90625 48.390625 20.390625 44.140625 \nQ 15.875 39.890625 15.1875 32.171875 \nz\n\" id=\"DejaVuSans-101\"/>\n      </defs>\n      <use xlink:href=\"#DejaVuSans-68\"/>\n      <use x=\"77.001953\" xlink:href=\"#DejaVuSans-97\"/>\n      <use x=\"138.28125\" xlink:href=\"#DejaVuSans-116\"/>\n      <use x=\"177.490234\" xlink:href=\"#DejaVuSans-101\"/>\n     </g>\n    </g>\n   </g>\n   <g id=\"matplotlib.axis_2\">\n    <g id=\"ytick_1\">\n     <g id=\"line2d_11\">\n      <defs>\n       <path d=\"M 0 0 \nL -3.5 0 \n\" id=\"m07f4ed8bb8\" style=\"stroke:#000000;stroke-width:0.8;\"/>\n      </defs>\n      <g>\n       <use style=\"stroke:#000000;stroke-width:0.8;\" x=\"45.285079\" xlink:href=\"#m07f4ed8bb8\" y=\"194.129697\"/>\n      </g>\n     </g>\n     <g id=\"text_12\">\n      <!-- 0 -->\n      <g transform=\"translate(31.922579 197.928916)scale(0.1 -0.1)\">\n       <use xlink:href=\"#DejaVuSans-48\"/>\n      </g>\n     </g>\n    </g>\n    <g id=\"ytick_2\">\n     <g id=\"line2d_12\">\n      <g>\n       <use style=\"stroke:#000000;stroke-width:0.8;\" x=\"45.285079\" xlink:href=\"#m07f4ed8bb8\" y=\"163.787622\"/>\n      </g>\n     </g>\n     <g id=\"text_13\">\n      <!-- 500 -->\n      <g transform=\"translate(19.197579 167.58684)scale(0.1 -0.1)\">\n       <use xlink:href=\"#DejaVuSans-53\"/>\n       <use x=\"63.623047\" xlink:href=\"#DejaVuSans-48\"/>\n       <use x=\"127.246094\" xlink:href=\"#DejaVuSans-48\"/>\n      </g>\n     </g>\n    </g>\n    <g id=\"ytick_3\">\n     <g id=\"line2d_13\">\n      <g>\n       <use style=\"stroke:#000000;stroke-width:0.8;\" x=\"45.285079\" xlink:href=\"#m07f4ed8bb8\" y=\"133.445546\"/>\n      </g>\n     </g>\n     <g id=\"text_14\">\n      <!-- 1000 -->\n      <g transform=\"translate(12.835079 137.244765)scale(0.1 -0.1)\">\n       <use xlink:href=\"#DejaVuSans-49\"/>\n       <use x=\"63.623047\" xlink:href=\"#DejaVuSans-48\"/>\n       <use x=\"127.246094\" xlink:href=\"#DejaVuSans-48\"/>\n       <use x=\"190.869141\" xlink:href=\"#DejaVuSans-48\"/>\n      </g>\n     </g>\n    </g>\n    <g id=\"ytick_4\">\n     <g id=\"line2d_14\">\n      <g>\n       <use style=\"stroke:#000000;stroke-width:0.8;\" x=\"45.285079\" xlink:href=\"#m07f4ed8bb8\" y=\"103.103471\"/>\n      </g>\n     </g>\n     <g id=\"text_15\">\n      <!-- 1500 -->\n      <g transform=\"translate(12.835079 106.90269)scale(0.1 -0.1)\">\n       <use xlink:href=\"#DejaVuSans-49\"/>\n       <use x=\"63.623047\" xlink:href=\"#DejaVuSans-53\"/>\n       <use x=\"127.246094\" xlink:href=\"#DejaVuSans-48\"/>\n       <use x=\"190.869141\" xlink:href=\"#DejaVuSans-48\"/>\n      </g>\n     </g>\n    </g>\n    <g id=\"ytick_5\">\n     <g id=\"line2d_15\">\n      <g>\n       <use style=\"stroke:#000000;stroke-width:0.8;\" x=\"45.285079\" xlink:href=\"#m07f4ed8bb8\" y=\"72.761396\"/>\n      </g>\n     </g>\n     <g id=\"text_16\">\n      <!-- 2000 -->\n      <g transform=\"translate(12.835079 76.560615)scale(0.1 -0.1)\">\n       <use xlink:href=\"#DejaVuSans-50\"/>\n       <use x=\"63.623047\" xlink:href=\"#DejaVuSans-48\"/>\n       <use x=\"127.246094\" xlink:href=\"#DejaVuSans-48\"/>\n       <use x=\"190.869141\" xlink:href=\"#DejaVuSans-48\"/>\n      </g>\n     </g>\n    </g>\n    <g id=\"ytick_6\">\n     <g id=\"line2d_16\">\n      <g>\n       <use style=\"stroke:#000000;stroke-width:0.8;\" x=\"45.285079\" xlink:href=\"#m07f4ed8bb8\" y=\"42.419321\"/>\n      </g>\n     </g>\n     <g id=\"text_17\">\n      <!-- 2500 -->\n      <g transform=\"translate(12.835079 46.218539)scale(0.1 -0.1)\">\n       <use xlink:href=\"#DejaVuSans-50\"/>\n       <use x=\"63.623047\" xlink:href=\"#DejaVuSans-53\"/>\n       <use x=\"127.246094\" xlink:href=\"#DejaVuSans-48\"/>\n       <use x=\"190.869141\" xlink:href=\"#DejaVuSans-48\"/>\n      </g>\n     </g>\n    </g>\n    <g id=\"ytick_7\">\n     <g id=\"line2d_17\">\n      <g>\n       <use style=\"stroke:#000000;stroke-width:0.8;\" x=\"45.285079\" xlink:href=\"#m07f4ed8bb8\" y=\"12.077245\"/>\n      </g>\n     </g>\n     <g id=\"text_18\">\n      <!-- 3000 -->\n      <g transform=\"translate(12.835079 15.876464)scale(0.1 -0.1)\">\n       <defs>\n        <path d=\"M 40.578125 39.3125 \nQ 47.65625 37.796875 51.625 33 \nQ 55.609375 28.21875 55.609375 21.1875 \nQ 55.609375 10.40625 48.1875 4.484375 \nQ 40.765625 -1.421875 27.09375 -1.421875 \nQ 22.515625 -1.421875 17.65625 -0.515625 \nQ 12.796875 0.390625 7.625 2.203125 \nL 7.625 11.71875 \nQ 11.71875 9.328125 16.59375 8.109375 \nQ 21.484375 6.890625 26.8125 6.890625 \nQ 36.078125 6.890625 40.9375 10.546875 \nQ 45.796875 14.203125 45.796875 21.1875 \nQ 45.796875 27.640625 41.28125 31.265625 \nQ 36.765625 34.90625 28.71875 34.90625 \nL 20.21875 34.90625 \nL 20.21875 43.015625 \nL 29.109375 43.015625 \nQ 36.375 43.015625 40.234375 45.921875 \nQ 44.09375 48.828125 44.09375 54.296875 \nQ 44.09375 59.90625 40.109375 62.90625 \nQ 36.140625 65.921875 28.71875 65.921875 \nQ 24.65625 65.921875 20.015625 65.03125 \nQ 15.375 64.15625 9.8125 62.3125 \nL 9.8125 71.09375 \nQ 15.4375 72.65625 20.34375 73.4375 \nQ 25.25 74.21875 29.59375 74.21875 \nQ 40.828125 74.21875 47.359375 69.109375 \nQ 53.90625 64.015625 53.90625 55.328125 \nQ 53.90625 49.265625 50.4375 45.09375 \nQ 46.96875 40.921875 40.578125 39.3125 \nz\n\" id=\"DejaVuSans-51\"/>\n       </defs>\n       <use xlink:href=\"#DejaVuSans-51\"/>\n       <use x=\"63.623047\" xlink:href=\"#DejaVuSans-48\"/>\n       <use x=\"127.246094\" xlink:href=\"#DejaVuSans-48\"/>\n       <use x=\"190.869141\" xlink:href=\"#DejaVuSans-48\"/>\n      </g>\n     </g>\n    </g>\n   </g>\n   <g id=\"line2d_18\">\n    <path clip-path=\"url(#pad771993dc)\" d=\"M 60.50326 194.129774 \nL 165.379884 194.129191 \nL 279.314949 194.129955 \nL 299.847416 194.129334 \nL 364.866897 194.129262 \nL 364.866897 194.129262 \n\" style=\"fill:none;stroke:#1f77b4;stroke-linecap:square;stroke-width:1.5;\"/>\n   </g>\n   <g id=\"line2d_19\">\n    <path clip-path=\"url(#pad771993dc)\" d=\"M 60.50326 194.129999 \nL 105.392871 194.129843 \nL 146.256507 194.129601 \nL 364.866897 194.129486 \nL 364.866897 194.129486 \n\" style=\"fill:none;stroke:#ff7f0e;stroke-linecap:square;stroke-width:1.5;\"/>\n   </g>\n   <g id=\"line2d_20\">\n    <path clip-path=\"url(#pad771993dc)\" d=\"M 60.50326 194.129727 \nL 240.061702 194.129697 \nL 364.866897 194.129304 \nL 364.866897 194.129304 \n\" style=\"fill:none;stroke:#2ca02c;stroke-linecap:square;stroke-width:1.5;\"/>\n   </g>\n   <g id=\"line2d_21\">\n    <path clip-path=\"url(#pad771993dc)\" d=\"M 60.50326 194.130096 \nL 94.522741 194.1301 \nL 103.379884 194.127567 \nL 152.698066 194.130633 \nL 196.379884 194.129353 \nL 328.431832 194.132693 \nL 332.659105 194.129315 \nL 359.834429 194.128921 \nL 364.866897 194.128891 \nL 364.866897 194.128891 \n\" style=\"fill:none;stroke:#d62728;stroke-linecap:square;stroke-width:1.5;\"/>\n   </g>\n   <g id=\"line2d_22\">\n    <path clip-path=\"url(#pad771993dc)\" d=\"M 60.50326 66.220858 \nL 60.704559 66.782187 \nL 60.905858 66.629869 \nL 61.107156 68.437043 \nL 61.711053 67.941254 \nL 61.912351 70.081584 \nL 62.11365 70.319466 \nL 62.314949 68.759276 \nL 62.516247 69.520862 \nL 63.120143 67.83445 \nL 63.321442 68.253777 \nL 63.522741 66.723323 \nL 63.72404 67.344122 \nL 63.925338 66.201439 \nL 64.529234 66.424757 \nL 64.730533 67.208796 \nL 64.931832 69.056628 \nL 65.13313 69.353981 \nL 65.334429 69.058449 \nL 65.938325 67.527995 \nL 66.340923 69.139159 \nL 66.542221 68.697985 \nL 67.347416 67.86904 \nL 67.548715 68.129375 \nL 67.750014 67.791364 \nL 68.152611 66.567971 \nL 68.756507 67.15236 \nL 68.957806 66.945427 \nL 69.159105 66.290645 \nL 69.360403 66.390167 \nL 69.561702 67.835057 \nL 70.165598 66.668707 \nL 70.366897 66.857435 \nL 70.769494 65.908335 \nL 70.970793 65.619478 \nL 71.574689 66.151678 \nL 71.775988 65.797283 \nL 71.977286 66.277294 \nL 72.178585 67.572294 \nL 72.379884 66.189909 \nL 72.98378 65.813667 \nL 73.185079 67.332592 \nL 73.386377 67.897561 \nL 73.587676 67.421191 \nL 73.788975 65.715966 \nL 74.795468 66.785221 \nL 74.996767 65.412545 \nL 76.00326 65.004141 \nL 76.204559 65.124296 \nL 76.405858 64.822695 \nL 77.412351 66.438107 \nL 77.61365 65.268117 \nL 77.814949 65.431357 \nL 78.016247 66.244525 \nL 78.620143 65.981156 \nL 78.821442 66.110413 \nL 79.022741 65.839155 \nL 79.22404 66.945427 \nL 79.425338 67.128086 \nL 80.029234 67.950356 \nL 80.230533 67.897561 \nL 80.431832 66.377423 \nL 80.63313 66.155319 \nL 80.834429 67.05041 \nL 81.438325 67.637833 \nL 81.639624 66.918119 \nL 81.840923 66.66628 \nL 82.042221 65.404049 \nL 82.24352 66.086746 \nL 83.048715 65.224424 \nL 83.250014 66.172311 \nL 83.451312 66.5528 \nL 83.652611 66.602561 \nL 84.256507 69.263561 \nL 84.457806 68.931619 \nL 84.659105 68.063229 \nL 84.860403 68.102067 \nL 85.665598 68.588754 \nL 85.866897 67.825347 \nL 86.068195 69.92866 \nL 86.269494 69.647692 \nL 86.470793 68.111776 \nL 87.275988 66.149251 \nL 87.477286 66.243918 \nL 87.678585 65.218963 \nL 87.879884 65.076355 \nL 88.48378 64.976833 \nL 89.087676 66.56251 \nL 89.288975 67.927903 \nL 89.892871 68.65672 \nL 90.295468 66.172918 \nL 90.496767 66.169277 \nL 90.698066 66.459954 \nL 91.301962 66.811922 \nL 91.50326 67.098351 \nL 91.704559 66.70269 \nL 91.905858 67.690628 \nL 92.107156 68.054126 \nL 92.711053 66.439321 \nL 92.912351 67.659679 \nL 93.11365 67.539525 \nL 93.314949 67.700945 \nL 93.516247 67.206369 \nL 94.120143 66.544911 \nL 94.321442 66.879888 \nL 94.522741 67.930331 \nL 94.925338 74.527911 \nL 95.730533 80.795371 \nL 96.13313 73.510238 \nL 96.334429 73.43681 \nL 96.938325 74.449629 \nL 97.139624 77.989335 \nL 97.340923 75.864783 \nL 97.542221 75.72703 \nL 97.74352 77.542093 \nL 98.548715 74.617724 \nL 98.750014 76.278649 \nL 99.152611 75.125044 \nL 99.756507 75.61173 \nL 100.159105 73.046005 \nL 100.360403 73.356101 \nL 100.561702 75.30831 \nL 101.165598 74.765793 \nL 101.366897 76.23617 \nL 101.970793 76.92797 \nL 102.574689 79.936083 \nL 102.775988 79.795296 \nL 102.977286 77.614307 \nL 103.178585 77.384314 \nL 103.379884 75.713073 \nL 103.98378 73.547256 \nL 104.185079 73.979934 \nL 104.587676 71.946408 \nL 105.392871 71.701851 \nL 105.795468 73.110937 \nL 105.996767 71.313472 \nL 106.198066 70.752144 \nL 106.801962 70.718767 \nL 107.00326 70.894145 \nL 107.204559 71.612038 \nL 107.607156 68.200982 \nL 108.211053 68.441898 \nL 108.412351 68.762917 \nL 108.61365 67.278583 \nL 108.814949 67.335626 \nL 109.016247 67.945502 \nL 109.821442 66.098883 \nL 110.022741 66.5528 \nL 110.425338 66.741528 \nL 111.029234 67.992835 \nL 111.230533 67.802287 \nL 111.431832 68.210085 \nL 111.834429 71.363233 \nL 112.438325 69.533606 \nL 112.639624 69.700487 \nL 112.840923 67.689415 \nL 113.042221 67.831415 \nL 113.24352 67.35019 \nL 113.847416 67.506755 \nL 114.048715 67.352011 \nL 114.652611 67.293147 \nL 115.256507 67.881783 \nL 115.457806 66.533381 \nL 115.860403 69.750248 \nL 116.061702 67.197266 \nL 116.665598 68.084468 \nL 117.068195 69.871617 \nL 117.269494 69.591863 \nL 117.470793 72.010733 \nL 118.074689 71.429986 \nL 118.477286 68.327205 \nL 118.879884 72.424599 \nL 119.48378 71.477926 \nL 119.886377 68.860012 \nL 120.087676 69.06027 \nL 120.892871 69.332741 \nL 121.094169 68.006186 \nL 121.496767 70.094934 \nL 122.301962 71.993135 \nL 122.50326 71.747364 \nL 122.704559 73.352459 \nL 122.905858 76.214931 \nL 123.107156 77.492939 \nL 123.711053 77.393417 \nL 123.912351 76.482548 \nL 124.11365 79.419661 \nL 124.314949 77.504469 \nL 124.516247 80.023468 \nL 125.321442 79.962784 \nL 125.522741 81.297835 \nL 125.72404 80.711626 \nL 125.925338 78.41109 \nL 126.529234 80.220692 \nL 126.730533 78.609527 \nL 126.931832 79.864476 \nL 127.13313 79.232754 \nL 127.334429 76.387881 \nL 127.938325 76.440069 \nL 128.139624 78.645938 \nL 128.340923 78.069439 \nL 128.542221 77.892241 \nL 128.74352 80.04046 \nL 129.347416 81.655265 \nL 129.750014 81.751146 \nL 129.951312 83.133531 \nL 130.152611 80.967107 \nL 130.957806 79.098035 \nL 131.159105 77.201655 \nL 131.360403 77.747813 \nL 131.561702 77.750847 \nL 132.165598 76.068682 \nL 132.366897 77.539059 \nL 132.568195 77.021423 \nL 132.769494 75.69244 \nL 132.970793 75.913937 \nL 133.574689 76.873961 \nL 133.775988 74.075208 \nL 134.379884 72.762003 \nL 134.98378 72.654592 \nL 135.185079 74.019985 \nL 135.386377 73.412537 \nL 135.587676 73.394332 \nL 135.788975 71.414815 \nL 136.392871 71.569559 \nL 136.594169 71.794697 \nL 137.198066 69.752676 \nL 137.801962 69.630094 \nL 138.00326 69.739325 \nL 138.204559 70.533681 \nL 138.405858 70.580408 \nL 139.211053 70.513048 \nL 139.61365 68.880644 \nL 139.814949 69.136125 \nL 140.016247 68.344803 \nL 140.620143 68.748353 \nL 140.821442 70.020293 \nL 141.022741 68.71619 \nL 141.22404 70.218123 \nL 141.425338 69.87283 \nL 142.029234 70.213268 \nL 142.431832 67.759808 \nL 142.63313 67.737962 \nL 142.834429 67.862364 \nL 143.840923 66.547339 \nL 144.042221 67.21001 \nL 144.24352 67.203941 \nL 144.847416 67.433934 \nL 145.250014 66.987299 \nL 145.652611 68.798721 \nL 146.256507 67.819885 \nL 146.659105 69.659222 \nL 146.860403 69.688957 \nL 147.061702 69.293904 \nL 147.665598 69.199843 \nL 147.866897 67.64026 \nL 148.068195 68.849696 \nL 148.269494 68.870935 \nL 148.470793 69.932908 \nL 149.074689 68.71619 \nL 149.275988 69.896497 \nL 149.477286 69.87101 \nL 149.678585 70.331602 \nL 149.879884 69.586401 \nL 150.48378 69.846129 \nL 150.886377 67.267053 \nL 151.087676 67.293754 \nL 151.288975 66.750024 \nL 152.094169 66.877461 \nL 152.295468 66.733639 \nL 152.496767 66.373782 \nL 152.698066 66.745776 \nL 153.50326 65.956882 \nL 153.704559 65.5327 \nL 153.905858 65.75359 \nL 154.107156 66.93147 \nL 154.912351 68.190666 \nL 155.11365 68.422479 \nL 155.314949 68.028639 \nL 155.516247 68.439471 \nL 156.321442 67.366575 \nL 156.522741 67.575935 \nL 156.72404 65.884668 \nL 156.925338 70.491202 \nL 157.529234 72.728626 \nL 158.13313 66.762161 \nL 158.334429 66.513963 \nL 159.139624 67.387814 \nL 159.340923 66.709366 \nL 159.542221 66.820418 \nL 159.74352 64.878525 \nL 160.347416 64.437958 \nL 160.548715 63.528909 \nL 160.750014 63.511311 \nL 160.951312 62.824366 \nL 161.152611 62.946341 \nL 161.756507 62.633818 \nL 161.957806 62.822546 \nL 162.159105 62.261824 \nL 162.360403 62.738195 \nL 162.561702 62.139849 \nL 163.165598 62.53733 \nL 163.366897 62.494851 \nL 163.568195 62.65263 \nL 163.970793 62.226627 \nL 164.574689 62.394116 \nL 164.775988 63.232164 \nL 164.977286 62.821939 \nL 165.178585 62.794024 \nL 165.379884 61.664085 \nL 166.185079 61.732658 \nL 166.386377 62.111934 \nL 166.587676 61.486888 \nL 166.788975 61.592478 \nL 167.392871 61.222305 \nL 167.594169 61.950514 \nL 167.996767 61.412246 \nL 168.198066 61.603401 \nL 168.801962 61.678043 \nL 169.00326 61.419528 \nL 169.204559 62.114968 \nL 169.607156 62.503347 \nL 170.211053 61.815189 \nL 170.61365 62.38744 \nL 170.814949 62.392902 \nL 171.016247 61.839462 \nL 172.022741 61.464434 \nL 172.22404 61.759359 \nL 172.425338 65.005355 \nL 173.029234 63.110189 \nL 173.230533 65.053295 \nL 173.431832 65.12915 \nL 173.63313 63.825048 \nL 173.834429 64.316589 \nL 174.639624 64.280179 \nL 175.042221 62.009378 \nL 175.24352 62.767323 \nL 175.847416 63.895441 \nL 176.250014 62.361953 \nL 176.451312 63.5902 \nL 176.652611 62.550074 \nL 177.256507 62.979111 \nL 177.457806 63.629038 \nL 177.659105 63.068317 \nL 177.860403 63.005205 \nL 178.061702 63.431815 \nL 178.665598 62.829828 \nL 178.866897 64.464052 \nL 179.068195 64.315376 \nL 179.269494 64.717712 \nL 179.470793 64.691618 \nL 180.074689 65.084851 \nL 180.275988 64.289888 \nL 180.477286 64.00528 \nL 180.678585 64.184298 \nL 180.879884 64.195221 \nL 181.48378 63.578063 \nL 181.886377 64.300205 \nL 182.288975 65.090312 \nL 182.892871 65.10609 \nL 183.496767 67.381139 \nL 183.698066 67.59232 \nL 184.704559 62.854101 \nL 184.905858 62.598014 \nL 185.107156 62.781887 \nL 185.711053 62.797058 \nL 185.912351 61.814582 \nL 186.11365 62.023942 \nL 186.314949 61.406178 \nL 186.516247 61.722949 \nL 187.321442 60.446154 \nL 187.522741 60.338137 \nL 187.925338 59.814432 \nL 188.529234 60.520189 \nL 188.730533 60.341778 \nL 189.13313 61.165868 \nL 189.334429 61.113073 \nL 189.938325 60.338743 \nL 190.139624 59.882399 \nL 190.340923 58.115276 \nL 190.542221 57.821565 \nL 190.74352 57.012038 \nL 191.347416 57.167997 \nL 191.548715 56.272298 \nL 191.750014 57.391314 \nL 191.951312 56.860328 \nL 192.152611 57.100637 \nL 192.756507 56.829986 \nL 192.957806 56.330555 \nL 193.360403 56.92526 \nL 193.561702 56.753524 \nL 194.366897 56.444641 \nL 194.568195 57.595213 \nL 194.769494 57.635265 \nL 194.970793 58.2682 \nL 195.775988 57.115201 \nL 195.977286 56.331162 \nL 196.178585 56.437359 \nL 196.379884 55.9531 \nL 196.98378 56.443428 \nL 197.185079 56.443428 \nL 197.386377 56.053836 \nL 197.587676 56.349974 \nL 197.788975 56.095101 \nL 198.594169 56.504719 \nL 198.795468 56.261982 \nL 198.996767 56.759592 \nL 199.198066 56.297179 \nL 199.801962 56.667959 \nL 200.204559 54.655066 \nL 200.607156 54.878384 \nL 201.412351 55.838407 \nL 201.814949 55.718252 \nL 202.016247 54.712716 \nL 202.620143 55.007641 \nL 203.022741 54.879597 \nL 203.425338 53.579136 \nL 204.029234 52.841823 \nL 204.431832 51.567456 \nL 204.63313 51.690645 \nL 205.639624 50.588621 \nL 205.840923 50.743972 \nL 206.042221 50.683895 \nL 206.24352 50.46968 \nL 206.847416 50.323431 \nL 207.048715 50.694211 \nL 207.250014 48.7329 \nL 207.451312 49.584905 \nL 207.652611 49.512084 \nL 208.256507 49.986027 \nL 208.659105 50.734263 \nL 208.860403 50.61957 \nL 209.061702 50.150481 \nL 209.665598 50.097686 \nL 209.866897 50.584373 \nL 210.068195 49.38222 \nL 210.470793 49.807616 \nL 211.074689 50.097686 \nL 211.275988 51.884834 \nL 211.477286 51.616004 \nL 211.879884 51.887262 \nL 212.48378 52.032297 \nL 212.685079 51.00188 \nL 212.886377 50.846529 \nL 213.087676 50.425987 \nL 213.288975 50.750041 \nL 213.892871 50.985495 \nL 214.094169 50.905392 \nL 214.295468 51.342925 \nL 214.496767 51.067419 \nL 214.698066 51.185753 \nL 215.301962 51.087445 \nL 215.50326 51.292557 \nL 215.704559 51.829612 \nL 215.905858 52.799345 \nL 216.711053 51.58202 \nL 217.11365 52.239837 \nL 217.314949 51.167548 \nL 217.516247 51.600833 \nL 218.120143 50.056421 \nL 218.321442 49.178321 \nL 218.522741 49.249322 \nL 218.72404 49.169219 \nL 218.925338 49.446545 \nL 219.730533 49.023577 \nL 219.931832 49.20745 \nL 220.13313 49.123706 \nL 220.334429 48.530821 \nL 220.938325 48.52536 \nL 221.139624 48.674643 \nL 221.340923 48.510189 \nL 221.74352 49.039961 \nL 222.347416 48.346948 \nL 222.548715 48.447077 \nL 222.750014 51.095334 \nL 222.951312 50.567988 \nL 223.152611 49.596435 \nL 224.159105 48.221332 \nL 224.360403 47.573226 \nL 224.561702 47.527712 \nL 225.568195 47.771663 \nL 225.970793 46.116806 \nL 226.574689 46.297038 \nL 226.775988 46.70787 \nL 226.977286 46.476663 \nL 227.178585 46.437218 \nL 227.379884 46.5598 \nL 227.98378 46.704228 \nL 228.185079 46.03913 \nL 228.386377 46.186593 \nL 228.587676 46.517928 \nL 228.788975 46.476056 \nL 229.392871 45.243561 \nL 229.594169 46.240602 \nL 229.996767 46.394132 \nL 230.198066 46.163533 \nL 230.801962 46.116806 \nL 231.00326 47.311677 \nL 231.204559 46.018498 \nL 231.405858 47.292258 \nL 231.607156 47.06712 \nL 232.61365 46.513073 \nL 232.814949 47.896065 \nL 233.016247 46.959709 \nL 233.620143 46.823169 \nL 233.821442 46.938469 \nL 234.022741 45.863146 \nL 234.22404 45.585213 \nL 234.425338 44.890986 \nL 235.230533 44.809669 \nL 235.431832 44.007425 \nL 235.834429 44.085707 \nL 236.438325 44.245307 \nL 236.639624 43.807167 \nL 236.840923 43.764688 \nL 237.24352 44.112408 \nL 237.847416 44.22164 \nL 238.048715 43.854501 \nL 238.250014 43.780466 \nL 238.451312 44.108767 \nL 238.652611 43.825372 \nL 239.256507 43.577781 \nL 239.457806 43.941279 \nL 239.659105 43.995895 \nL 239.860403 46.168994 \nL 240.061702 45.980267 \nL 240.665598 44.492291 \nL 240.866897 44.566933 \nL 241.068195 44.354538 \nL 241.269494 46.666604 \nL 241.470793 46.937256 \nL 242.074689 46.766126 \nL 242.275988 45.301211 \nL 242.678585 46.122874 \nL 242.879884 45.875283 \nL 243.685079 45.678059 \nL 244.288975 43.842364 \nL 245.094169 44.977158 \nL 245.295468 44.510496 \nL 245.496767 44.537197 \nL 245.698066 44.759908 \nL 246.50326 42.632929 \nL 246.704559 42.518236 \nL 246.905858 42.685117 \nL 247.107156 42.405363 \nL 248.11365 41.919283 \nL 248.314949 42.38291 \nL 248.516247 42.284602 \nL 249.321442 42.611083 \nL 249.522741 41.992104 \nL 249.72404 41.808838 \nL 249.925338 41.244475 \nL 250.931832 40.129101 \nL 251.13313 39.259497 \nL 251.334429 39.425771 \nL 251.938325 39.704919 \nL 252.340923 39.067128 \nL 252.542221 39.328677 \nL 252.74352 39.192744 \nL 253.951312 38.650835 \nL 254.152611 37.855266 \nL 254.756507 38.476064 \nL 254.957806 38.224225 \nL 255.159105 38.951221 \nL 255.360403 38.753998 \nL 255.561702 37.499657 \nL 256.165598 37.999694 \nL 256.769494 37.573691 \nL 256.970793 37.088825 \nL 257.977286 36.69195 \nL 258.178585 37.284228 \nL 258.379884 37.425015 \nL 258.98378 37.270877 \nL 259.185079 37.633162 \nL 259.386377 38.497911 \nL 259.587676 37.22233 \nL 259.788975 37.634375 \nL 260.392871 37.434724 \nL 260.594169 36.409769 \nL 260.795468 36.528103 \nL 261.198066 36.20405 \nL 261.801962 36.264734 \nL 262.00326 34.710006 \nL 262.204559 34.76887 \nL 262.405858 33.463554 \nL 262.607156 33.788821 \nL 263.211053 33.957523 \nL 263.412351 34.556475 \nL 263.61365 34.57468 \nL 263.814949 34.106806 \nL 264.016247 33.225672 \nL 264.821442 32.460445 \nL 265.022741 32.536907 \nL 265.22404 33.194723 \nL 265.425338 31.75044 \nL 266.029234 30.879623 \nL 266.230533 31.406968 \nL 266.431832 31.541687 \nL 266.63313 31.218847 \nL 266.834429 31.293488 \nL 267.639624 31.465831 \nL 267.840923 31.337181 \nL 268.042221 31.038615 \nL 268.24352 31.883945 \nL 269.048715 30.536757 \nL 269.652611 27.663969 \nL 270.256507 27.38725 \nL 270.457806 27.17 \nL 270.659105 27.355694 \nL 271.061702 25.049089 \nL 271.866897 25.645008 \nL 272.068195 24.058724 \nL 272.269494 24.333623 \nL 272.470793 23.589029 \nL 273.275988 21.839505 \nL 273.477286 21.935992 \nL 273.678585 21.832223 \nL 273.879884 19.792021 \nL 274.48378 20.965653 \nL 274.685079 22.85293 \nL 274.886377 22.769186 \nL 275.087676 22.880238 \nL 275.288975 26.512184 \nL 275.892871 33.381023 \nL 276.094169 30.577415 \nL 276.295468 31.395438 \nL 276.496767 37.503904 \nL 276.698066 35.16453 \nL 277.50326 32.531445 \nL 277.905858 28.389145 \nL 278.107156 28.327247 \nL 278.912351 29.295766 \nL 279.11365 30.201781 \nL 279.314949 30.042181 \nL 279.516247 27.41213 \nL 280.120143 25.452032 \nL 280.72404 31.637568 \nL 280.925338 30.813477 \nL 281.730533 28.576052 \nL 281.931832 28.656155 \nL 282.13313 27.917629 \nL 282.334429 25.029064 \nL 282.938325 25.244492 \nL 283.340923 27.279839 \nL 283.542221 27.41031 \nL 283.74352 27.126308 \nL 284.347416 29.498451 \nL 284.548715 29.254501 \nL 284.750014 29.558529 \nL 285.152611 37.063337 \nL 285.756507 32.797849 \nL 285.957806 35.585072 \nL 286.159105 36.047485 \nL 286.360403 33.870744 \nL 287.165598 37.450502 \nL 287.769494 32.537514 \nL 287.970793 36.079647 \nL 288.574689 35.552302 \nL 288.775988 32.899798 \nL 288.977286 33.790641 \nL 289.178585 32.467727 \nL 289.379884 32.934388 \nL 289.98378 31.627251 \nL 290.185079 29.894719 \nL 290.386377 29.758179 \nL 290.788975 32.094519 \nL 291.392871 32.085417 \nL 291.594169 34.253661 \nL 291.795468 33.95995 \nL 291.996767 32.288709 \nL 292.198066 32.108477 \nL 292.801962 33.435032 \nL 293.00326 33.025414 \nL 293.204559 34.186302 \nL 293.405858 34.546766 \nL 293.607156 32.502317 \nL 294.211053 31.943416 \nL 294.412351 31.986501 \nL 294.814949 28.882507 \nL 295.016247 28.600326 \nL 295.620143 28.454077 \nL 295.821442 29.587657 \nL 296.022741 28.919524 \nL 296.22404 29.060919 \nL 296.425338 29.495417 \nL 297.029234 28.279307 \nL 297.230533 28.79937 \nL 297.431832 28.262315 \nL 297.834429 28.988098 \nL 298.639624 30.897828 \nL 298.840923 28.825464 \nL 299.042221 29.962685 \nL 299.24352 28.181605 \nL 300.048715 27.321104 \nL 300.250014 25.891992 \nL 300.451312 26.012147 \nL 300.652611 25.486622 \nL 301.256507 25.30639 \nL 301.457806 25.012072 \nL 301.659105 25.692948 \nL 301.860403 25.276655 \nL 302.061702 25.448391 \nL 302.665598 25.807034 \nL 302.866897 26.48427 \nL 303.068195 26.197233 \nL 303.269494 27.262847 \nL 303.470793 26.952144 \nL 304.074689 29.246612 \nL 304.275988 28.883114 \nL 304.477286 30.304944 \nL 304.678585 29.292732 \nL 304.879884 29.167723 \nL 305.48378 28.661617 \nL 305.685079 29.480246 \nL 306.087676 28.060844 \nL 306.288975 26.652365 \nL 307.094169 24.58789 \nL 307.295468 25.79065 \nL 307.496767 24.317845 \nL 307.698066 24.134579 \nL 308.301962 24.30935 \nL 308.704559 23.266189 \nL 308.905858 23.941604 \nL 309.107156 24.103023 \nL 309.711053 23.7905 \nL 309.912351 22.976119 \nL 310.11365 21.418357 \nL 310.314949 21.942061 \nL 310.516247 23.072 \nL 311.120143 24.056297 \nL 311.321442 23.225531 \nL 311.522741 23.402728 \nL 311.925338 21.76547 \nL 312.529234 21.155594 \nL 312.730533 20.667087 \nL 312.931832 20.7126 \nL 313.13313 20.962619 \nL 313.334429 22.194507 \nL 313.938325 22.883272 \nL 314.139624 21.789137 \nL 314.340923 23.099308 \nL 314.542221 21.744837 \nL 314.74352 21.171979 \nL 315.347416 20.752045 \nL 315.548715 20.393401 \nL 315.750014 20.462581 \nL 315.951312 20.756293 \nL 316.152611 19.681576 \nL 316.756507 18.343491 \nL 316.957806 18.296157 \nL 317.159105 17.293655 \nL 317.360403 18.077087 \nL 317.561702 18.05342 \nL 318.366897 18.344704 \nL 318.970793 19.864236 \nL 319.574689 19.533507 \nL 319.775988 18.880545 \nL 319.977286 18.818041 \nL 320.178585 17.892001 \nL 320.379884 17.843453 \nL 320.98378 18.825323 \nL 321.185079 17.884112 \nL 321.386377 17.663221 \nL 321.587676 16.279623 \nL 321.788975 16.345162 \nL 322.594169 17.201415 \nL 322.795468 17.783376 \nL 322.996767 17.296082 \nL 323.198066 17.297296 \nL 323.801962 16.653437 \nL 324.00326 16.723831 \nL 324.204559 16.597608 \nL 324.607156 19.021333 \nL 325.211053 19.090513 \nL 325.412351 19.338711 \nL 325.814949 28.560881 \nL 326.016247 26.208763 \nL 326.620143 27.200342 \nL 326.821442 23.612089 \nL 327.022741 23.655174 \nL 327.22404 26.108635 \nL 327.425338 26.169319 \nL 328.029234 26.89146 \nL 328.230533 27.813252 \nL 328.431832 32.946525 \nL 328.63313 29.94448 \nL 328.834429 32.789353 \nL 329.438325 33.847684 \nL 329.840923 29.570059 \nL 330.042221 27.832671 \nL 330.24352 28.883114 \nL 330.847416 27.957681 \nL 331.048715 26.917554 \nL 331.250014 23.371173 \nL 331.451312 23.799603 \nL 331.652611 25.366467 \nL 332.256507 28.691352 \nL 332.457806 28.936516 \nL 332.659105 30.18661 \nL 332.860403 28.449829 \nL 333.061702 28.081476 \nL 333.665598 30.845033 \nL 333.866897 33.808846 \nL 334.068195 33.320946 \nL 334.470793 34.37503 \nL 335.275988 31.364489 \nL 335.477286 27.625132 \nL 335.678585 27.991057 \nL 335.879884 26.631125 \nL 336.48378 24.798464 \nL 336.685079 30.278849 \nL 337.087676 30.528261 \nL 337.288975 34.343474 \nL 337.892871 34.061899 \nL 338.094169 34.118942 \nL 338.295468 33.251766 \nL 338.496767 33.283929 \nL 338.698066 36.35394 \nL 339.301962 39.631491 \nL 339.50326 39.61814 \nL 340.107156 47.479165 \nL 340.711053 51.455191 \nL 341.11365 44.379419 \nL 341.314949 43.097163 \nL 341.516247 43.284677 \nL 342.120143 42.003634 \nL 342.522741 41.810659 \nL 342.72404 45.581572 \nL 342.925338 40.481069 \nL 343.529234 39.403925 \nL 343.730533 37.903813 \nL 344.13313 36.554804 \nL 344.334429 36.577864 \nL 344.938325 37.406203 \nL 345.139624 35.725859 \nL 345.340923 35.373891 \nL 345.542221 34.168703 \nL 345.74352 32.059929 \nL 346.548715 34.354397 \nL 346.951312 33.782145 \nL 347.152611 32.421 \nL 347.957806 33.92354 \nL 348.360403 30.033685 \nL 348.561702 29.886223 \nL 349.165598 28.773276 \nL 349.366897 27.994698 \nL 349.568195 28.363658 \nL 349.769494 29.915351 \nL 349.970793 29.804299 \nL 350.574689 29.687786 \nL 350.775988 27.568088 \nL 350.977286 27.06441 \nL 351.178585 27.507404 \nL 351.379884 25.694769 \nL 352.185079 25.442323 \nL 352.386377 25.142543 \nL 352.587676 25.738461 \nL 352.788975 24.65889 \nL 353.392871 24.450137 \nL 353.795468 24.676489 \nL 353.996767 25.155287 \nL 354.198066 23.990151 \nL 355.00326 24.842156 \nL 355.607156 27.668824 \nL 356.61365 23.551405 \nL 356.814949 23.699474 \nL 357.016247 22.849896 \nL 357.620143 22.21514 \nL 357.821442 22.237593 \nL 358.022741 22.743698 \nL 358.22404 20.883729 \nL 358.425338 24.17099 \nL 359.029234 24.313597 \nL 359.230533 23.093846 \nL 359.431832 23.888202 \nL 359.63313 23.277112 \nL 359.834429 22.126541 \nL 360.438325 20.136707 \nL 360.639624 20.133673 \nL 361.042221 19.396361 \nL 361.24352 18.586227 \nL 361.847416 18.402354 \nL 362.048715 19.468575 \nL 362.250014 18.861127 \nL 362.451312 18.854451 \nL 362.652611 17.695991 \nL 363.256507 17.807043 \nL 363.457806 17.71723 \nL 363.659105 18.118353 \nL 363.860403 17.840419 \nL 364.665598 17.662008 \nL 364.866897 16.101818 \nL 364.866897 16.101818 \n\" style=\"fill:none;stroke:#9467bd;stroke-linecap:square;stroke-width:1.5;\"/>\n   </g>\n   <g id=\"line2d_23\">\n    <path clip-path=\"url(#pad771993dc)\" d=\"M 60.50326 194.129815 \nL 115.256507 194.12994 \nL 125.925338 194.128076 \nL 156.522741 194.129629 \nL 201.814949 194.129078 \nL 230.801962 194.129424 \nL 261.198066 194.129731 \nL 364.866897 194.129395 \nL 364.866897 194.129395 \n\" style=\"fill:none;stroke:#8c564b;stroke-linecap:square;stroke-width:1.5;\"/>\n   </g>\n   <g id=\"line2d_24\">\n    <path clip-path=\"url(#pad771993dc)\" d=\"M 60.50326 194.129755 \nL 170.211053 194.129448 \nL 273.477286 194.129911 \nL 364.866897 194.129113 \nL 364.866897 194.129113 \n\" style=\"fill:none;stroke:#e377c2;stroke-linecap:square;stroke-width:1.5;\"/>\n   </g>\n   <g id=\"patch_3\">\n    <path d=\"M 45.285079 203.04 \nL 45.285079 7.2 \n\" style=\"fill:none;stroke:#000000;stroke-linecap:square;stroke-linejoin:miter;stroke-width:0.8;\"/>\n   </g>\n   <g id=\"patch_4\">\n    <path d=\"M 380.085079 203.04 \nL 380.085079 7.2 \n\" style=\"fill:none;stroke:#000000;stroke-linecap:square;stroke-linejoin:miter;stroke-width:0.8;\"/>\n   </g>\n   <g id=\"patch_5\">\n    <path d=\"M 45.285079 203.04 \nL 380.085079 203.04 \n\" style=\"fill:none;stroke:#000000;stroke-linecap:square;stroke-linejoin:miter;stroke-width:0.8;\"/>\n   </g>\n   <g id=\"patch_6\">\n    <path d=\"M 45.285079 7.2 \nL 380.085079 7.2 \n\" style=\"fill:none;stroke:#000000;stroke-linecap:square;stroke-linejoin:miter;stroke-width:0.8;\"/>\n   </g>\n   <g id=\"legend_1\">\n    <g id=\"patch_7\">\n     <path d=\"M 171.028829 157.993437 \nL 373.085079 157.993437 \nQ 375.085079 157.993437 375.085079 155.993437 \nL 375.085079 54.246562 \nQ 375.085079 52.246562 373.085079 52.246562 \nL 171.028829 52.246562 \nQ 169.028829 52.246562 169.028829 54.246562 \nL 169.028829 155.993437 \nQ 169.028829 157.993437 171.028829 157.993437 \nz\n\" style=\"fill:#ffffff;opacity:0.8;stroke:#cccccc;stroke-linejoin:miter;\"/>\n    </g>\n    <g id=\"line2d_25\">\n     <path d=\"M 173.028829 60.345 \nL 193.028829 60.345 \n\" style=\"fill:none;stroke:#1f77b4;stroke-linecap:square;stroke-width:1.5;\"/>\n    </g>\n    <g id=\"line2d_26\"/>\n    <g id=\"text_19\">\n     <!-- SOROS FUND MANAGEMENT LLC -->\n     <g transform=\"translate(201.028829 63.845)scale(0.1 -0.1)\">\n      <defs>\n       <path d=\"M 53.515625 70.515625 \nL 53.515625 60.890625 \nQ 47.90625 63.578125 42.921875 64.890625 \nQ 37.9375 66.21875 33.296875 66.21875 \nQ 25.25 66.21875 20.875 63.09375 \nQ 16.5 59.96875 16.5 54.203125 \nQ 16.5 49.359375 19.40625 46.890625 \nQ 22.3125 44.4375 30.421875 42.921875 \nL 36.375 41.703125 \nQ 47.40625 39.59375 52.65625 34.296875 \nQ 57.90625 29 57.90625 20.125 \nQ 57.90625 9.515625 50.796875 4.046875 \nQ 43.703125 -1.421875 29.984375 -1.421875 \nQ 24.8125 -1.421875 18.96875 -0.25 \nQ 13.140625 0.921875 6.890625 3.21875 \nL 6.890625 13.375 \nQ 12.890625 10.015625 18.65625 8.296875 \nQ 24.421875 6.59375 29.984375 6.59375 \nQ 38.421875 6.59375 43.015625 9.90625 \nQ 47.609375 13.234375 47.609375 19.390625 \nQ 47.609375 24.75 44.3125 27.78125 \nQ 41.015625 30.8125 33.5 32.328125 \nL 27.484375 33.5 \nQ 16.453125 35.6875 11.515625 40.375 \nQ 6.59375 45.0625 6.59375 53.421875 \nQ 6.59375 63.09375 13.40625 68.65625 \nQ 20.21875 74.21875 32.171875 74.21875 \nQ 37.3125 74.21875 42.625 73.28125 \nQ 47.953125 72.359375 53.515625 70.515625 \nz\n\" id=\"DejaVuSans-83\"/>\n       <path d=\"M 39.40625 66.21875 \nQ 28.65625 66.21875 22.328125 58.203125 \nQ 16.015625 50.203125 16.015625 36.375 \nQ 16.015625 22.609375 22.328125 14.59375 \nQ 28.65625 6.59375 39.40625 6.59375 \nQ 50.140625 6.59375 56.421875 14.59375 \nQ 62.703125 22.609375 62.703125 36.375 \nQ 62.703125 50.203125 56.421875 58.203125 \nQ 50.140625 66.21875 39.40625 66.21875 \nz\nM 39.40625 74.21875 \nQ 54.734375 74.21875 63.90625 63.9375 \nQ 73.09375 53.65625 73.09375 36.375 \nQ 73.09375 19.140625 63.90625 8.859375 \nQ 54.734375 -1.421875 39.40625 -1.421875 \nQ 24.03125 -1.421875 14.8125 8.828125 \nQ 5.609375 19.09375 5.609375 36.375 \nQ 5.609375 53.65625 14.8125 63.9375 \nQ 24.03125 74.21875 39.40625 74.21875 \nz\n\" id=\"DejaVuSans-79\"/>\n       <path d=\"M 44.390625 34.1875 \nQ 47.5625 33.109375 50.5625 29.59375 \nQ 53.5625 26.078125 56.59375 19.921875 \nL 66.609375 0 \nL 56 0 \nL 46.6875 18.703125 \nQ 43.0625 26.03125 39.671875 28.421875 \nQ 36.28125 30.8125 30.421875 30.8125 \nL 19.671875 30.8125 \nL 19.671875 0 \nL 9.8125 0 \nL 9.8125 72.90625 \nL 32.078125 72.90625 \nQ 44.578125 72.90625 50.734375 67.671875 \nQ 56.890625 62.453125 56.890625 51.90625 \nQ 56.890625 45.015625 53.6875 40.46875 \nQ 50.484375 35.9375 44.390625 34.1875 \nz\nM 19.671875 64.796875 \nL 19.671875 38.921875 \nL 32.078125 38.921875 \nQ 39.203125 38.921875 42.84375 42.21875 \nQ 46.484375 45.515625 46.484375 51.90625 \nQ 46.484375 58.296875 42.84375 61.546875 \nQ 39.203125 64.796875 32.078125 64.796875 \nz\n\" id=\"DejaVuSans-82\"/>\n       <path id=\"DejaVuSans-32\"/>\n       <path d=\"M 9.8125 72.90625 \nL 51.703125 72.90625 \nL 51.703125 64.59375 \nL 19.671875 64.59375 \nL 19.671875 43.109375 \nL 48.578125 43.109375 \nL 48.578125 34.8125 \nL 19.671875 34.8125 \nL 19.671875 0 \nL 9.8125 0 \nz\n\" id=\"DejaVuSans-70\"/>\n       <path d=\"M 8.6875 72.90625 \nL 18.609375 72.90625 \nL 18.609375 28.609375 \nQ 18.609375 16.890625 22.84375 11.734375 \nQ 27.09375 6.59375 36.625 6.59375 \nQ 46.09375 6.59375 50.34375 11.734375 \nQ 54.59375 16.890625 54.59375 28.609375 \nL 54.59375 72.90625 \nL 64.5 72.90625 \nL 64.5 27.390625 \nQ 64.5 13.140625 57.4375 5.859375 \nQ 50.390625 -1.421875 36.625 -1.421875 \nQ 22.796875 -1.421875 15.734375 5.859375 \nQ 8.6875 13.140625 8.6875 27.390625 \nz\n\" id=\"DejaVuSans-85\"/>\n       <path d=\"M 9.8125 72.90625 \nL 23.09375 72.90625 \nL 55.421875 11.921875 \nL 55.421875 72.90625 \nL 64.984375 72.90625 \nL 64.984375 0 \nL 51.703125 0 \nL 19.390625 60.984375 \nL 19.390625 0 \nL 9.8125 0 \nz\n\" id=\"DejaVuSans-78\"/>\n       <path d=\"M 9.8125 72.90625 \nL 24.515625 72.90625 \nL 43.109375 23.296875 \nL 61.8125 72.90625 \nL 76.515625 72.90625 \nL 76.515625 0 \nL 66.890625 0 \nL 66.890625 64.015625 \nL 48.09375 14.015625 \nL 38.1875 14.015625 \nL 19.390625 64.015625 \nL 19.390625 0 \nL 9.8125 0 \nz\n\" id=\"DejaVuSans-77\"/>\n       <path d=\"M 34.1875 63.1875 \nL 20.796875 26.90625 \nL 47.609375 26.90625 \nz\nM 28.609375 72.90625 \nL 39.796875 72.90625 \nL 67.578125 0 \nL 57.328125 0 \nL 50.6875 18.703125 \nL 17.828125 18.703125 \nL 11.1875 0 \nL 0.78125 0 \nz\n\" id=\"DejaVuSans-65\"/>\n       <path d=\"M 59.515625 10.40625 \nL 59.515625 29.984375 \nL 43.40625 29.984375 \nL 43.40625 38.09375 \nL 69.28125 38.09375 \nL 69.28125 6.78125 \nQ 63.578125 2.734375 56.6875 0.65625 \nQ 49.8125 -1.421875 42 -1.421875 \nQ 24.90625 -1.421875 15.25 8.5625 \nQ 5.609375 18.5625 5.609375 36.375 \nQ 5.609375 54.25 15.25 64.234375 \nQ 24.90625 74.21875 42 74.21875 \nQ 49.125 74.21875 55.546875 72.453125 \nQ 61.96875 70.703125 67.390625 67.28125 \nL 67.390625 56.78125 \nQ 61.921875 61.421875 55.765625 63.765625 \nQ 49.609375 66.109375 42.828125 66.109375 \nQ 29.4375 66.109375 22.71875 58.640625 \nQ 16.015625 51.171875 16.015625 36.375 \nQ 16.015625 21.625 22.71875 14.15625 \nQ 29.4375 6.6875 42.828125 6.6875 \nQ 48.046875 6.6875 52.140625 7.59375 \nQ 56.25 8.5 59.515625 10.40625 \nz\n\" id=\"DejaVuSans-71\"/>\n       <path d=\"M 9.8125 72.90625 \nL 55.90625 72.90625 \nL 55.90625 64.59375 \nL 19.671875 64.59375 \nL 19.671875 43.015625 \nL 54.390625 43.015625 \nL 54.390625 34.71875 \nL 19.671875 34.71875 \nL 19.671875 8.296875 \nL 56.78125 8.296875 \nL 56.78125 0 \nL 9.8125 0 \nz\n\" id=\"DejaVuSans-69\"/>\n       <path d=\"M -0.296875 72.90625 \nL 61.375 72.90625 \nL 61.375 64.59375 \nL 35.5 64.59375 \nL 35.5 0 \nL 25.59375 0 \nL 25.59375 64.59375 \nL -0.296875 64.59375 \nz\n\" id=\"DejaVuSans-84\"/>\n       <path d=\"M 9.8125 72.90625 \nL 19.671875 72.90625 \nL 19.671875 8.296875 \nL 55.171875 8.296875 \nL 55.171875 0 \nL 9.8125 0 \nz\n\" id=\"DejaVuSans-76\"/>\n       <path d=\"M 64.40625 67.28125 \nL 64.40625 56.890625 \nQ 59.421875 61.53125 53.78125 63.8125 \nQ 48.140625 66.109375 41.796875 66.109375 \nQ 29.296875 66.109375 22.65625 58.46875 \nQ 16.015625 50.828125 16.015625 36.375 \nQ 16.015625 21.96875 22.65625 14.328125 \nQ 29.296875 6.6875 41.796875 6.6875 \nQ 48.140625 6.6875 53.78125 8.984375 \nQ 59.421875 11.28125 64.40625 15.921875 \nL 64.40625 5.609375 \nQ 59.234375 2.09375 53.4375 0.328125 \nQ 47.65625 -1.421875 41.21875 -1.421875 \nQ 24.65625 -1.421875 15.125 8.703125 \nQ 5.609375 18.84375 5.609375 36.375 \nQ 5.609375 53.953125 15.125 64.078125 \nQ 24.65625 74.21875 41.21875 74.21875 \nQ 47.75 74.21875 53.53125 72.484375 \nQ 59.328125 70.75 64.40625 67.28125 \nz\n\" id=\"DejaVuSans-67\"/>\n      </defs>\n      <use xlink:href=\"#DejaVuSans-83\"/>\n      <use x=\"63.476562\" xlink:href=\"#DejaVuSans-79\"/>\n      <use x=\"142.1875\" xlink:href=\"#DejaVuSans-82\"/>\n      <use x=\"211.669922\" xlink:href=\"#DejaVuSans-79\"/>\n      <use x=\"290.380859\" xlink:href=\"#DejaVuSans-83\"/>\n      <use x=\"353.857422\" xlink:href=\"#DejaVuSans-32\"/>\n      <use x=\"385.644531\" xlink:href=\"#DejaVuSans-70\"/>\n      <use x=\"443.164062\" xlink:href=\"#DejaVuSans-85\"/>\n      <use x=\"516.357422\" xlink:href=\"#DejaVuSans-78\"/>\n      <use x=\"591.162109\" xlink:href=\"#DejaVuSans-68\"/>\n      <use x=\"668.164062\" xlink:href=\"#DejaVuSans-32\"/>\n      <use x=\"699.951172\" xlink:href=\"#DejaVuSans-77\"/>\n      <use x=\"786.230469\" xlink:href=\"#DejaVuSans-65\"/>\n      <use x=\"854.638672\" xlink:href=\"#DejaVuSans-78\"/>\n      <use x=\"929.443359\" xlink:href=\"#DejaVuSans-65\"/>\n      <use x=\"996.101562\" xlink:href=\"#DejaVuSans-71\"/>\n      <use x=\"1073.591797\" xlink:href=\"#DejaVuSans-69\"/>\n      <use x=\"1136.775391\" xlink:href=\"#DejaVuSans-77\"/>\n      <use x=\"1223.054688\" xlink:href=\"#DejaVuSans-69\"/>\n      <use x=\"1286.238281\" xlink:href=\"#DejaVuSans-78\"/>\n      <use x=\"1361.042969\" xlink:href=\"#DejaVuSans-84\"/>\n      <use x=\"1422.126953\" xlink:href=\"#DejaVuSans-32\"/>\n      <use x=\"1453.914062\" xlink:href=\"#DejaVuSans-76\"/>\n      <use x=\"1509.626953\" xlink:href=\"#DejaVuSans-76\"/>\n      <use x=\"1565.339844\" xlink:href=\"#DejaVuSans-67\"/>\n     </g>\n    </g>\n    <g id=\"line2d_27\">\n     <path d=\"M 173.028829 75.023125 \nL 193.028829 75.023125 \n\" style=\"fill:none;stroke:#ff7f0e;stroke-linecap:square;stroke-width:1.5;\"/>\n    </g>\n    <g id=\"line2d_28\"/>\n    <g id=\"text_20\">\n     <!-- PAULSON &amp; CO.INC.  -->\n     <g transform=\"translate(201.028829 78.523125)scale(0.1 -0.1)\">\n      <defs>\n       <path d=\"M 19.671875 64.796875 \nL 19.671875 37.40625 \nL 32.078125 37.40625 \nQ 38.96875 37.40625 42.71875 40.96875 \nQ 46.484375 44.53125 46.484375 51.125 \nQ 46.484375 57.671875 42.71875 61.234375 \nQ 38.96875 64.796875 32.078125 64.796875 \nz\nM 9.8125 72.90625 \nL 32.078125 72.90625 \nQ 44.34375 72.90625 50.609375 67.359375 \nQ 56.890625 61.8125 56.890625 51.125 \nQ 56.890625 40.328125 50.609375 34.8125 \nQ 44.34375 29.296875 32.078125 29.296875 \nL 19.671875 29.296875 \nL 19.671875 0 \nL 9.8125 0 \nz\n\" id=\"DejaVuSans-80\"/>\n       <path d=\"M 24.3125 39.203125 \nQ 19.875 35.25 17.796875 31.3125 \nQ 15.71875 27.390625 15.71875 23.09375 \nQ 15.71875 15.96875 20.890625 11.234375 \nQ 26.078125 6.5 33.890625 6.5 \nQ 38.53125 6.5 42.578125 8.03125 \nQ 46.625 9.578125 50.203125 12.703125 \nz\nM 31.203125 44.671875 \nL 56 19.28125 \nQ 58.890625 23.640625 60.5 28.59375 \nQ 62.109375 33.546875 62.40625 39.109375 \nL 71.484375 39.109375 \nQ 70.90625 32.671875 68.359375 26.359375 \nQ 65.828125 20.0625 61.28125 13.921875 \nL 74.90625 0 \nL 62.59375 0 \nL 55.609375 7.171875 \nQ 50.53125 2.828125 44.96875 0.703125 \nQ 39.40625 -1.421875 33.015625 -1.421875 \nQ 21.234375 -1.421875 13.765625 5.296875 \nQ 6.296875 12.015625 6.296875 22.515625 \nQ 6.296875 28.765625 9.5625 34.25 \nQ 12.84375 39.75 19.390625 44.578125 \nQ 17.046875 47.65625 15.8125 50.703125 \nQ 14.59375 53.765625 14.59375 56.6875 \nQ 14.59375 64.59375 20.015625 69.40625 \nQ 25.4375 74.21875 34.421875 74.21875 \nQ 38.484375 74.21875 42.5 73.34375 \nQ 46.53125 72.46875 50.6875 70.703125 \nL 50.6875 61.8125 \nQ 46.4375 64.109375 42.578125 65.296875 \nQ 38.71875 66.5 35.40625 66.5 \nQ 30.28125 66.5 27.078125 63.78125 \nQ 23.875 61.078125 23.875 56.78125 \nQ 23.875 54.296875 25.3125 51.78125 \nQ 26.765625 49.265625 31.203125 44.671875 \nz\n\" id=\"DejaVuSans-38\"/>\n       <path d=\"M 10.6875 12.40625 \nL 21 12.40625 \nL 21 0 \nL 10.6875 0 \nz\n\" id=\"DejaVuSans-46\"/>\n       <path d=\"M 9.8125 72.90625 \nL 19.671875 72.90625 \nL 19.671875 0 \nL 9.8125 0 \nz\n\" id=\"DejaVuSans-73\"/>\n      </defs>\n      <use xlink:href=\"#DejaVuSans-80\"/>\n      <use x=\"53.927734\" xlink:href=\"#DejaVuSans-65\"/>\n      <use x=\"122.335938\" xlink:href=\"#DejaVuSans-85\"/>\n      <use x=\"195.529297\" xlink:href=\"#DejaVuSans-76\"/>\n      <use x=\"251.242188\" xlink:href=\"#DejaVuSans-83\"/>\n      <use x=\"314.71875\" xlink:href=\"#DejaVuSans-79\"/>\n      <use x=\"393.429688\" xlink:href=\"#DejaVuSans-78\"/>\n      <use x=\"468.234375\" xlink:href=\"#DejaVuSans-32\"/>\n      <use x=\"500.021484\" xlink:href=\"#DejaVuSans-38\"/>\n      <use x=\"578\" xlink:href=\"#DejaVuSans-32\"/>\n      <use x=\"609.787109\" xlink:href=\"#DejaVuSans-67\"/>\n      <use x=\"679.611328\" xlink:href=\"#DejaVuSans-79\"/>\n      <use x=\"754.322266\" xlink:href=\"#DejaVuSans-46\"/>\n      <use x=\"786.109375\" xlink:href=\"#DejaVuSans-73\"/>\n      <use x=\"815.601562\" xlink:href=\"#DejaVuSans-78\"/>\n      <use x=\"890.40625\" xlink:href=\"#DejaVuSans-67\"/>\n      <use x=\"960.230469\" xlink:href=\"#DejaVuSans-46\"/>\n      <use x=\"992.017578\" xlink:href=\"#DejaVuSans-32\"/>\n     </g>\n    </g>\n    <g id=\"line2d_29\">\n     <path d=\"M 173.028829 89.70125 \nL 193.028829 89.70125 \n\" style=\"fill:none;stroke:#2ca02c;stroke-linecap:square;stroke-width:1.5;\"/>\n    </g>\n    <g id=\"line2d_30\"/>\n    <g id=\"text_21\">\n     <!-- TIGER GLOBAL MANAGEMENT LLC -->\n     <g transform=\"translate(201.028829 93.20125)scale(0.1 -0.1)\">\n      <defs>\n       <path d=\"M 19.671875 34.8125 \nL 19.671875 8.109375 \nL 35.5 8.109375 \nQ 43.453125 8.109375 47.28125 11.40625 \nQ 51.125 14.703125 51.125 21.484375 \nQ 51.125 28.328125 47.28125 31.5625 \nQ 43.453125 34.8125 35.5 34.8125 \nz\nM 19.671875 64.796875 \nL 19.671875 42.828125 \nL 34.28125 42.828125 \nQ 41.5 42.828125 45.03125 45.53125 \nQ 48.578125 48.25 48.578125 53.8125 \nQ 48.578125 59.328125 45.03125 62.0625 \nQ 41.5 64.796875 34.28125 64.796875 \nz\nM 9.8125 72.90625 \nL 35.015625 72.90625 \nQ 46.296875 72.90625 52.390625 68.21875 \nQ 58.5 63.53125 58.5 54.890625 \nQ 58.5 48.1875 55.375 44.234375 \nQ 52.25 40.28125 46.1875 39.3125 \nQ 53.46875 37.75 57.5 32.78125 \nQ 61.53125 27.828125 61.53125 20.40625 \nQ 61.53125 10.640625 54.890625 5.3125 \nQ 48.25 0 35.984375 0 \nL 9.8125 0 \nz\n\" id=\"DejaVuSans-66\"/>\n      </defs>\n      <use xlink:href=\"#DejaVuSans-84\"/>\n      <use x=\"61.083984\" xlink:href=\"#DejaVuSans-73\"/>\n      <use x=\"90.576172\" xlink:href=\"#DejaVuSans-71\"/>\n      <use x=\"168.066406\" xlink:href=\"#DejaVuSans-69\"/>\n      <use x=\"231.25\" xlink:href=\"#DejaVuSans-82\"/>\n      <use x=\"300.732422\" xlink:href=\"#DejaVuSans-32\"/>\n      <use x=\"332.519531\" xlink:href=\"#DejaVuSans-71\"/>\n      <use x=\"410.009766\" xlink:href=\"#DejaVuSans-76\"/>\n      <use x=\"462.097656\" xlink:href=\"#DejaVuSans-79\"/>\n      <use x=\"540.808594\" xlink:href=\"#DejaVuSans-66\"/>\n      <use x=\"609.412109\" xlink:href=\"#DejaVuSans-65\"/>\n      <use x=\"677.820312\" xlink:href=\"#DejaVuSans-76\"/>\n      <use x=\"733.533203\" xlink:href=\"#DejaVuSans-32\"/>\n      <use x=\"765.320312\" xlink:href=\"#DejaVuSans-77\"/>\n      <use x=\"851.599609\" xlink:href=\"#DejaVuSans-65\"/>\n      <use x=\"920.007812\" xlink:href=\"#DejaVuSans-78\"/>\n      <use x=\"994.8125\" xlink:href=\"#DejaVuSans-65\"/>\n      <use x=\"1061.470703\" xlink:href=\"#DejaVuSans-71\"/>\n      <use x=\"1138.960938\" xlink:href=\"#DejaVuSans-69\"/>\n      <use x=\"1202.144531\" xlink:href=\"#DejaVuSans-77\"/>\n      <use x=\"1288.423828\" xlink:href=\"#DejaVuSans-69\"/>\n      <use x=\"1351.607422\" xlink:href=\"#DejaVuSans-78\"/>\n      <use x=\"1426.412109\" xlink:href=\"#DejaVuSans-84\"/>\n      <use x=\"1487.496094\" xlink:href=\"#DejaVuSans-32\"/>\n      <use x=\"1519.283203\" xlink:href=\"#DejaVuSans-76\"/>\n      <use x=\"1574.996094\" xlink:href=\"#DejaVuSans-76\"/>\n      <use x=\"1630.708984\" xlink:href=\"#DejaVuSans-67\"/>\n     </g>\n    </g>\n    <g id=\"line2d_31\">\n     <path d=\"M 173.028829 104.379375 \nL 193.028829 104.379375 \n\" style=\"fill:none;stroke:#d62728;stroke-linecap:square;stroke-width:1.5;\"/>\n    </g>\n    <g id=\"line2d_32\"/>\n    <g id=\"text_22\">\n     <!-- BERKSHIRE HATHAWAY INC -->\n     <g transform=\"translate(201.028829 107.879375)scale(0.1 -0.1)\">\n      <defs>\n       <path d=\"M 9.8125 72.90625 \nL 19.671875 72.90625 \nL 19.671875 42.09375 \nL 52.390625 72.90625 \nL 65.09375 72.90625 \nL 28.90625 38.921875 \nL 67.671875 0 \nL 54.6875 0 \nL 19.671875 35.109375 \nL 19.671875 0 \nL 9.8125 0 \nz\n\" id=\"DejaVuSans-75\"/>\n       <path d=\"M 9.8125 72.90625 \nL 19.671875 72.90625 \nL 19.671875 43.015625 \nL 55.515625 43.015625 \nL 55.515625 72.90625 \nL 65.375 72.90625 \nL 65.375 0 \nL 55.515625 0 \nL 55.515625 34.71875 \nL 19.671875 34.71875 \nL 19.671875 0 \nL 9.8125 0 \nz\n\" id=\"DejaVuSans-72\"/>\n       <path d=\"M 3.328125 72.90625 \nL 13.28125 72.90625 \nL 28.609375 11.28125 \nL 43.890625 72.90625 \nL 54.984375 72.90625 \nL 70.3125 11.28125 \nL 85.59375 72.90625 \nL 95.609375 72.90625 \nL 77.296875 0 \nL 64.890625 0 \nL 49.515625 63.28125 \nL 33.984375 0 \nL 21.578125 0 \nz\n\" id=\"DejaVuSans-87\"/>\n       <path d=\"M -0.203125 72.90625 \nL 10.40625 72.90625 \nL 30.609375 42.921875 \nL 50.6875 72.90625 \nL 61.28125 72.90625 \nL 35.5 34.71875 \nL 35.5 0 \nL 25.59375 0 \nL 25.59375 34.71875 \nz\n\" id=\"DejaVuSans-89\"/>\n      </defs>\n      <use xlink:href=\"#DejaVuSans-66\"/>\n      <use x=\"68.603516\" xlink:href=\"#DejaVuSans-69\"/>\n      <use x=\"131.787109\" xlink:href=\"#DejaVuSans-82\"/>\n      <use x=\"201.269531\" xlink:href=\"#DejaVuSans-75\"/>\n      <use x=\"266.845703\" xlink:href=\"#DejaVuSans-83\"/>\n      <use x=\"330.322266\" xlink:href=\"#DejaVuSans-72\"/>\n      <use x=\"405.517578\" xlink:href=\"#DejaVuSans-73\"/>\n      <use x=\"435.009766\" xlink:href=\"#DejaVuSans-82\"/>\n      <use x=\"504.492188\" xlink:href=\"#DejaVuSans-69\"/>\n      <use x=\"567.675781\" xlink:href=\"#DejaVuSans-32\"/>\n      <use x=\"599.462891\" xlink:href=\"#DejaVuSans-72\"/>\n      <use x=\"674.658203\" xlink:href=\"#DejaVuSans-65\"/>\n      <use x=\"735.316406\" xlink:href=\"#DejaVuSans-84\"/>\n      <use x=\"796.400391\" xlink:href=\"#DejaVuSans-72\"/>\n      <use x=\"871.595703\" xlink:href=\"#DejaVuSans-65\"/>\n      <use x=\"934.503906\" xlink:href=\"#DejaVuSans-87\"/>\n      <use x=\"1027.880859\" xlink:href=\"#DejaVuSans-65\"/>\n      <use x=\"1088.539062\" xlink:href=\"#DejaVuSans-89\"/>\n      <use x=\"1149.623047\" xlink:href=\"#DejaVuSans-32\"/>\n      <use x=\"1181.410156\" xlink:href=\"#DejaVuSans-73\"/>\n      <use x=\"1210.902344\" xlink:href=\"#DejaVuSans-78\"/>\n      <use x=\"1285.707031\" xlink:href=\"#DejaVuSans-67\"/>\n     </g>\n    </g>\n    <g id=\"line2d_33\">\n     <path d=\"M 173.028829 119.0575 \nL 193.028829 119.0575 \n\" style=\"fill:none;stroke:#9467bd;stroke-linecap:square;stroke-width:1.5;\"/>\n    </g>\n    <g id=\"line2d_34\"/>\n    <g id=\"text_23\">\n     <!-- SP500 DR -->\n     <g transform=\"translate(201.028829 122.5575)scale(0.1 -0.1)\">\n      <use xlink:href=\"#DejaVuSans-83\"/>\n      <use x=\"63.476562\" xlink:href=\"#DejaVuSans-80\"/>\n      <use x=\"123.779297\" xlink:href=\"#DejaVuSans-53\"/>\n      <use x=\"187.402344\" xlink:href=\"#DejaVuSans-48\"/>\n      <use x=\"251.025391\" xlink:href=\"#DejaVuSans-48\"/>\n      <use x=\"314.648438\" xlink:href=\"#DejaVuSans-32\"/>\n      <use x=\"346.435547\" xlink:href=\"#DejaVuSans-68\"/>\n      <use x=\"423.4375\" xlink:href=\"#DejaVuSans-82\"/>\n     </g>\n    </g>\n    <g id=\"line2d_35\">\n     <path d=\"M 173.028829 133.735625 \nL 193.028829 133.735625 \n\" style=\"fill:none;stroke:#8c564b;stroke-linecap:square;stroke-width:1.5;\"/>\n    </g>\n    <g id=\"line2d_36\"/>\n    <g id=\"text_24\">\n     <!-- Algo 1 -->\n     <g transform=\"translate(201.028829 137.235625)scale(0.1 -0.1)\">\n      <defs>\n       <path d=\"M 9.421875 75.984375 \nL 18.40625 75.984375 \nL 18.40625 0 \nL 9.421875 0 \nz\n\" id=\"DejaVuSans-108\"/>\n       <path d=\"M 45.40625 27.984375 \nQ 45.40625 37.75 41.375 43.109375 \nQ 37.359375 48.484375 30.078125 48.484375 \nQ 22.859375 48.484375 18.828125 43.109375 \nQ 14.796875 37.75 14.796875 27.984375 \nQ 14.796875 18.265625 18.828125 12.890625 \nQ 22.859375 7.515625 30.078125 7.515625 \nQ 37.359375 7.515625 41.375 12.890625 \nQ 45.40625 18.265625 45.40625 27.984375 \nz\nM 54.390625 6.78125 \nQ 54.390625 -7.171875 48.1875 -13.984375 \nQ 42 -20.796875 29.203125 -20.796875 \nQ 24.46875 -20.796875 20.265625 -20.09375 \nQ 16.0625 -19.390625 12.109375 -17.921875 \nL 12.109375 -9.1875 \nQ 16.0625 -11.328125 19.921875 -12.34375 \nQ 23.78125 -13.375 27.78125 -13.375 \nQ 36.625 -13.375 41.015625 -8.765625 \nQ 45.40625 -4.15625 45.40625 5.171875 \nL 45.40625 9.625 \nQ 42.625 4.78125 38.28125 2.390625 \nQ 33.9375 0 27.875 0 \nQ 17.828125 0 11.671875 7.65625 \nQ 5.515625 15.328125 5.515625 27.984375 \nQ 5.515625 40.671875 11.671875 48.328125 \nQ 17.828125 56 27.875 56 \nQ 33.9375 56 38.28125 53.609375 \nQ 42.625 51.21875 45.40625 46.390625 \nL 45.40625 54.6875 \nL 54.390625 54.6875 \nz\n\" id=\"DejaVuSans-103\"/>\n       <path d=\"M 30.609375 48.390625 \nQ 23.390625 48.390625 19.1875 42.75 \nQ 14.984375 37.109375 14.984375 27.296875 \nQ 14.984375 17.484375 19.15625 11.84375 \nQ 23.34375 6.203125 30.609375 6.203125 \nQ 37.796875 6.203125 41.984375 11.859375 \nQ 46.1875 17.53125 46.1875 27.296875 \nQ 46.1875 37.015625 41.984375 42.703125 \nQ 37.796875 48.390625 30.609375 48.390625 \nz\nM 30.609375 56 \nQ 42.328125 56 49.015625 48.375 \nQ 55.71875 40.765625 55.71875 27.296875 \nQ 55.71875 13.875 49.015625 6.21875 \nQ 42.328125 -1.421875 30.609375 -1.421875 \nQ 18.84375 -1.421875 12.171875 6.21875 \nQ 5.515625 13.875 5.515625 27.296875 \nQ 5.515625 40.765625 12.171875 48.375 \nQ 18.84375 56 30.609375 56 \nz\n\" id=\"DejaVuSans-111\"/>\n      </defs>\n      <use xlink:href=\"#DejaVuSans-65\"/>\n      <use x=\"68.408203\" xlink:href=\"#DejaVuSans-108\"/>\n      <use x=\"96.191406\" xlink:href=\"#DejaVuSans-103\"/>\n      <use x=\"159.667969\" xlink:href=\"#DejaVuSans-111\"/>\n      <use x=\"220.849609\" xlink:href=\"#DejaVuSans-32\"/>\n      <use x=\"252.636719\" xlink:href=\"#DejaVuSans-49\"/>\n     </g>\n    </g>\n    <g id=\"line2d_37\">\n     <path d=\"M 173.028829 148.41375 \nL 193.028829 148.41375 \n\" style=\"fill:none;stroke:#e377c2;stroke-linecap:square;stroke-width:1.5;\"/>\n    </g>\n    <g id=\"line2d_38\"/>\n    <g id=\"text_25\">\n     <!-- Algo 2 -->\n     <g transform=\"translate(201.028829 151.91375)scale(0.1 -0.1)\">\n      <use xlink:href=\"#DejaVuSans-65\"/>\n      <use x=\"68.408203\" xlink:href=\"#DejaVuSans-108\"/>\n      <use x=\"96.191406\" xlink:href=\"#DejaVuSans-103\"/>\n      <use x=\"159.667969\" xlink:href=\"#DejaVuSans-111\"/>\n      <use x=\"220.849609\" xlink:href=\"#DejaVuSans-32\"/>\n      <use x=\"252.636719\" xlink:href=\"#DejaVuSans-50\"/>\n     </g>\n    </g>\n   </g>\n  </g>\n </g>\n <defs>\n  <clipPath id=\"pad771993dc\">\n   <rect height=\"195.84\" width=\"334.8\" x=\"45.285079\" y=\"7.2\"/>\n  </clipPath>\n </defs>\n</svg>\n",
      "image/png": "[encoded data removed]"
     },
     "metadata": {
      "needs_background": "light"
     }
    }
   ],
   "metadata": {}
  },
  {
   "cell_type": "markdown",
   "source": [
    "#### Calculate and Plot cumulative returns."
   ],
   "metadata": {}
  },
  {
   "cell_type": "code",
   "execution_count": 119,
   "source": [
    "# Calculate cumulative returns of all portfolios\n",
    "cumulative_returns = (1 + combined_df).cumprod() - 1\n",
    "cumulative_returns.head()\n",
    "\n",
    "# Plot cumulative returns\n",
    "cumulative_returns.plot()"
   ],
   "outputs": [
    {
     "output_type": "execute_result",
     "data": {
      "text/plain": [
       "<AxesSubplot:xlabel='Date'>"
      ]
     },
     "metadata": {},
     "execution_count": 119
    },
    {
     "output_type": "display_data",
     "data": {
      "text/plain": [
       "<Figure size 432x288 with 1 Axes>"
      ],
      "image/svg+xml": "<?xml version=\"1.0\" encoding=\"utf-8\" standalone=\"no\"?>\n<!DOCTYPE svg PUBLIC \"-//W3C//DTD SVG 1.1//EN\"\n  \"http://www.w3.org/Graphics/SVG/1.1/DTD/svg11.dtd\">\n<!-- Created with matplotlib (https://matplotlib.org/) -->\n<svg height=\"270.789471pt\" version=\"1.1\" viewBox=\"0 0 387.285079 270.789471\" width=\"387.285079pt\" xmlns=\"http://www.w3.org/2000/svg\" xmlns:xlink=\"http://www.w3.org/1999/xlink\">\n <metadata>\n  <rdf:RDF xmlns:cc=\"http://creativecommons.org/ns#\" xmlns:dc=\"http://purl.org/dc/elements/1.1/\" xmlns:rdf=\"http://www.w3.org/1999/02/22-rdf-syntax-ns#\">\n   <cc:Work>\n    <dc:type rdf:resource=\"http://purl.org/dc/dcmitype/StillImage\"/>\n    <dc:date>2021-09-21T21:46:28.020069</dc:date>\n    <dc:format>image/svg+xml</dc:format>\n    <dc:creator>\n     <cc:Agent>\n      <dc:title>Matplotlib v3.3.4, https://matplotlib.org/</dc:title>\n     </cc:Agent>\n    </dc:creator>\n   </cc:Work>\n  </rdf:RDF>\n </metadata>\n <defs>\n  <style type=\"text/css\">*{stroke-linecap:butt;stroke-linejoin:round;}</style>\n </defs>\n <g id=\"figure_1\">\n  <g id=\"patch_1\">\n   <path d=\"M 0 270.789471 \nL 387.285079 270.789471 \nL 387.285079 0 \nL 0 0 \nz\n\" style=\"fill:none;\"/>\n  </g>\n  <g id=\"axes_1\">\n   <g id=\"patch_2\">\n    <path d=\"M 45.285079 213.638437 \nL 380.085079 213.638437 \nL 380.085079 17.798437 \nL 45.285079 17.798437 \nz\n\" style=\"fill:#ffffff;\"/>\n   </g>\n   <g id=\"matplotlib.axis_1\">\n    <g id=\"xtick_1\">\n     <g id=\"line2d_1\">\n      <defs>\n       <path d=\"M 0 0 \nL 0 3.5 \n\" id=\"m8acee274fd\" style=\"stroke:#000000;stroke-width:0.8;\"/>\n      </defs>\n      <g>\n       <use style=\"stroke:#000000;stroke-width:0.8;\" x=\"48.22404\" xlink:href=\"#m8acee274fd\" y=\"213.638437\"/>\n      </g>\n     </g>\n     <g id=\"text_1\">\n      <!-- 2015-01 -->\n      <g transform=\"translate(10.999219 248.110284)rotate(-30)scale(0.1 -0.1)\">\n       <defs>\n        <path d=\"M 19.1875 8.296875 \nL 53.609375 8.296875 \nL 53.609375 0 \nL 7.328125 0 \nL 7.328125 8.296875 \nQ 12.9375 14.109375 22.625 23.890625 \nQ 32.328125 33.6875 34.8125 36.53125 \nQ 39.546875 41.84375 41.421875 45.53125 \nQ 43.3125 49.21875 43.3125 52.78125 \nQ 43.3125 58.59375 39.234375 62.25 \nQ 35.15625 65.921875 28.609375 65.921875 \nQ 23.96875 65.921875 18.8125 64.3125 \nQ 13.671875 62.703125 7.8125 59.421875 \nL 7.8125 69.390625 \nQ 13.765625 71.78125 18.9375 73 \nQ 24.125 74.21875 28.421875 74.21875 \nQ 39.75 74.21875 46.484375 68.546875 \nQ 53.21875 62.890625 53.21875 53.421875 \nQ 53.21875 48.921875 51.53125 44.890625 \nQ 49.859375 40.875 45.40625 35.40625 \nQ 44.1875 33.984375 37.640625 27.21875 \nQ 31.109375 20.453125 19.1875 8.296875 \nz\n\" id=\"DejaVuSans-50\"/>\n        <path d=\"M 31.78125 66.40625 \nQ 24.171875 66.40625 20.328125 58.90625 \nQ 16.5 51.421875 16.5 36.375 \nQ 16.5 21.390625 20.328125 13.890625 \nQ 24.171875 6.390625 31.78125 6.390625 \nQ 39.453125 6.390625 43.28125 13.890625 \nQ 47.125 21.390625 47.125 36.375 \nQ 47.125 51.421875 43.28125 58.90625 \nQ 39.453125 66.40625 31.78125 66.40625 \nz\nM 31.78125 74.21875 \nQ 44.046875 74.21875 50.515625 64.515625 \nQ 56.984375 54.828125 56.984375 36.375 \nQ 56.984375 17.96875 50.515625 8.265625 \nQ 44.046875 -1.421875 31.78125 -1.421875 \nQ 19.53125 -1.421875 13.0625 8.265625 \nQ 6.59375 17.96875 6.59375 36.375 \nQ 6.59375 54.828125 13.0625 64.515625 \nQ 19.53125 74.21875 31.78125 74.21875 \nz\n\" id=\"DejaVuSans-48\"/>\n        <path d=\"M 12.40625 8.296875 \nL 28.515625 8.296875 \nL 28.515625 63.921875 \nL 10.984375 60.40625 \nL 10.984375 69.390625 \nL 28.421875 72.90625 \nL 38.28125 72.90625 \nL 38.28125 8.296875 \nL 54.390625 8.296875 \nL 54.390625 0 \nL 12.40625 0 \nz\n\" id=\"DejaVuSans-49\"/>\n        <path d=\"M 10.796875 72.90625 \nL 49.515625 72.90625 \nL 49.515625 64.59375 \nL 19.828125 64.59375 \nL 19.828125 46.734375 \nQ 21.96875 47.46875 24.109375 47.828125 \nQ 26.265625 48.1875 28.421875 48.1875 \nQ 40.625 48.1875 47.75 41.5 \nQ 54.890625 34.8125 54.890625 23.390625 \nQ 54.890625 11.625 47.5625 5.09375 \nQ 40.234375 -1.421875 26.90625 -1.421875 \nQ 22.3125 -1.421875 17.546875 -0.640625 \nQ 12.796875 0.140625 7.71875 1.703125 \nL 7.71875 11.625 \nQ 12.109375 9.234375 16.796875 8.0625 \nQ 21.484375 6.890625 26.703125 6.890625 \nQ 35.15625 6.890625 40.078125 11.328125 \nQ 45.015625 15.765625 45.015625 23.390625 \nQ 45.015625 31 40.078125 35.4375 \nQ 35.15625 39.890625 26.703125 39.890625 \nQ 22.75 39.890625 18.8125 39.015625 \nQ 14.890625 38.140625 10.796875 36.28125 \nz\n\" id=\"DejaVuSans-53\"/>\n        <path d=\"M 4.890625 31.390625 \nL 31.203125 31.390625 \nL 31.203125 23.390625 \nL 4.890625 23.390625 \nz\n\" id=\"DejaVuSans-45\"/>\n       </defs>\n       <use xlink:href=\"#DejaVuSans-50\"/>\n       <use x=\"63.623047\" xlink:href=\"#DejaVuSans-48\"/>\n       <use x=\"127.246094\" xlink:href=\"#DejaVuSans-49\"/>\n       <use x=\"190.869141\" xlink:href=\"#DejaVuSans-53\"/>\n       <use x=\"254.492188\" xlink:href=\"#DejaVuSans-45\"/>\n       <use x=\"290.576172\" xlink:href=\"#DejaVuSans-48\"/>\n       <use x=\"354.199219\" xlink:href=\"#DejaVuSans-49\"/>\n      </g>\n     </g>\n    </g>\n    <g id=\"xtick_2\">\n     <g id=\"line2d_2\">\n      <g>\n       <use style=\"stroke:#000000;stroke-width:0.8;\" x=\"84.659105\" xlink:href=\"#m8acee274fd\" y=\"213.638437\"/>\n      </g>\n     </g>\n     <g id=\"text_2\">\n      <!-- 2015-07 -->\n      <g transform=\"translate(47.434284 248.110284)rotate(-30)scale(0.1 -0.1)\">\n       <defs>\n        <path d=\"M 8.203125 72.90625 \nL 55.078125 72.90625 \nL 55.078125 68.703125 \nL 28.609375 0 \nL 18.3125 0 \nL 43.21875 64.59375 \nL 8.203125 64.59375 \nz\n\" id=\"DejaVuSans-55\"/>\n       </defs>\n       <use xlink:href=\"#DejaVuSans-50\"/>\n       <use x=\"63.623047\" xlink:href=\"#DejaVuSans-48\"/>\n       <use x=\"127.246094\" xlink:href=\"#DejaVuSans-49\"/>\n       <use x=\"190.869141\" xlink:href=\"#DejaVuSans-53\"/>\n       <use x=\"254.492188\" xlink:href=\"#DejaVuSans-45\"/>\n       <use x=\"290.576172\" xlink:href=\"#DejaVuSans-48\"/>\n       <use x=\"354.199219\" xlink:href=\"#DejaVuSans-55\"/>\n      </g>\n     </g>\n    </g>\n    <g id=\"xtick_3\">\n     <g id=\"line2d_3\">\n      <g>\n       <use style=\"stroke:#000000;stroke-width:0.8;\" x=\"121.698066\" xlink:href=\"#m8acee274fd\" y=\"213.638437\"/>\n      </g>\n     </g>\n     <g id=\"text_3\">\n      <!-- 2016-01 -->\n      <g transform=\"translate(84.473245 248.110284)rotate(-30)scale(0.1 -0.1)\">\n       <defs>\n        <path d=\"M 33.015625 40.375 \nQ 26.375 40.375 22.484375 35.828125 \nQ 18.609375 31.296875 18.609375 23.390625 \nQ 18.609375 15.53125 22.484375 10.953125 \nQ 26.375 6.390625 33.015625 6.390625 \nQ 39.65625 6.390625 43.53125 10.953125 \nQ 47.40625 15.53125 47.40625 23.390625 \nQ 47.40625 31.296875 43.53125 35.828125 \nQ 39.65625 40.375 33.015625 40.375 \nz\nM 52.59375 71.296875 \nL 52.59375 62.3125 \nQ 48.875 64.0625 45.09375 64.984375 \nQ 41.3125 65.921875 37.59375 65.921875 \nQ 27.828125 65.921875 22.671875 59.328125 \nQ 17.53125 52.734375 16.796875 39.40625 \nQ 19.671875 43.65625 24.015625 45.921875 \nQ 28.375 48.1875 33.59375 48.1875 \nQ 44.578125 48.1875 50.953125 41.515625 \nQ 57.328125 34.859375 57.328125 23.390625 \nQ 57.328125 12.15625 50.6875 5.359375 \nQ 44.046875 -1.421875 33.015625 -1.421875 \nQ 20.359375 -1.421875 13.671875 8.265625 \nQ 6.984375 17.96875 6.984375 36.375 \nQ 6.984375 53.65625 15.1875 63.9375 \nQ 23.390625 74.21875 37.203125 74.21875 \nQ 40.921875 74.21875 44.703125 73.484375 \nQ 48.484375 72.75 52.59375 71.296875 \nz\n\" id=\"DejaVuSans-54\"/>\n       </defs>\n       <use xlink:href=\"#DejaVuSans-50\"/>\n       <use x=\"63.623047\" xlink:href=\"#DejaVuSans-48\"/>\n       <use x=\"127.246094\" xlink:href=\"#DejaVuSans-49\"/>\n       <use x=\"190.869141\" xlink:href=\"#DejaVuSans-54\"/>\n       <use x=\"254.492188\" xlink:href=\"#DejaVuSans-45\"/>\n       <use x=\"290.576172\" xlink:href=\"#DejaVuSans-48\"/>\n       <use x=\"354.199219\" xlink:href=\"#DejaVuSans-49\"/>\n      </g>\n     </g>\n    </g>\n    <g id=\"xtick_4\">\n     <g id=\"line2d_4\">\n      <g>\n       <use style=\"stroke:#000000;stroke-width:0.8;\" x=\"158.334429\" xlink:href=\"#m8acee274fd\" y=\"213.638437\"/>\n      </g>\n     </g>\n     <g id=\"text_4\">\n      <!-- 2016-07 -->\n      <g transform=\"translate(121.109608 248.110284)rotate(-30)scale(0.1 -0.1)\">\n       <use xlink:href=\"#DejaVuSans-50\"/>\n       <use x=\"63.623047\" xlink:href=\"#DejaVuSans-48\"/>\n       <use x=\"127.246094\" xlink:href=\"#DejaVuSans-49\"/>\n       <use x=\"190.869141\" xlink:href=\"#DejaVuSans-54\"/>\n       <use x=\"254.492188\" xlink:href=\"#DejaVuSans-45\"/>\n       <use x=\"290.576172\" xlink:href=\"#DejaVuSans-48\"/>\n       <use x=\"354.199219\" xlink:href=\"#DejaVuSans-55\"/>\n      </g>\n     </g>\n    </g>\n    <g id=\"xtick_5\">\n     <g id=\"line2d_5\">\n      <g>\n       <use style=\"stroke:#000000;stroke-width:0.8;\" x=\"195.37339\" xlink:href=\"#m8acee274fd\" y=\"213.638437\"/>\n      </g>\n     </g>\n     <g id=\"text_5\">\n      <!-- 2017-01 -->\n      <g transform=\"translate(158.148569 248.110284)rotate(-30)scale(0.1 -0.1)\">\n       <use xlink:href=\"#DejaVuSans-50\"/>\n       <use x=\"63.623047\" xlink:href=\"#DejaVuSans-48\"/>\n       <use x=\"127.246094\" xlink:href=\"#DejaVuSans-49\"/>\n       <use x=\"190.869141\" xlink:href=\"#DejaVuSans-55\"/>\n       <use x=\"254.492188\" xlink:href=\"#DejaVuSans-45\"/>\n       <use x=\"290.576172\" xlink:href=\"#DejaVuSans-48\"/>\n       <use x=\"354.199219\" xlink:href=\"#DejaVuSans-49\"/>\n      </g>\n     </g>\n    </g>\n    <g id=\"xtick_6\">\n     <g id=\"line2d_6\">\n      <g>\n       <use style=\"stroke:#000000;stroke-width:0.8;\" x=\"231.808455\" xlink:href=\"#m8acee274fd\" y=\"213.638437\"/>\n      </g>\n     </g>\n     <g id=\"text_6\">\n      <!-- 2017-07 -->\n      <g transform=\"translate(194.583634 248.110284)rotate(-30)scale(0.1 -0.1)\">\n       <use xlink:href=\"#DejaVuSans-50\"/>\n       <use x=\"63.623047\" xlink:href=\"#DejaVuSans-48\"/>\n       <use x=\"127.246094\" xlink:href=\"#DejaVuSans-49\"/>\n       <use x=\"190.869141\" xlink:href=\"#DejaVuSans-55\"/>\n       <use x=\"254.492188\" xlink:href=\"#DejaVuSans-45\"/>\n       <use x=\"290.576172\" xlink:href=\"#DejaVuSans-48\"/>\n       <use x=\"354.199219\" xlink:href=\"#DejaVuSans-55\"/>\n      </g>\n     </g>\n    </g>\n    <g id=\"xtick_7\">\n     <g id=\"line2d_7\">\n      <g>\n       <use style=\"stroke:#000000;stroke-width:0.8;\" x=\"268.847416\" xlink:href=\"#m8acee274fd\" y=\"213.638437\"/>\n      </g>\n     </g>\n     <g id=\"text_7\">\n      <!-- 2018-01 -->\n      <g transform=\"translate(231.622595 248.110284)rotate(-30)scale(0.1 -0.1)\">\n       <defs>\n        <path d=\"M 31.78125 34.625 \nQ 24.75 34.625 20.71875 30.859375 \nQ 16.703125 27.09375 16.703125 20.515625 \nQ 16.703125 13.921875 20.71875 10.15625 \nQ 24.75 6.390625 31.78125 6.390625 \nQ 38.8125 6.390625 42.859375 10.171875 \nQ 46.921875 13.96875 46.921875 20.515625 \nQ 46.921875 27.09375 42.890625 30.859375 \nQ 38.875 34.625 31.78125 34.625 \nz\nM 21.921875 38.8125 \nQ 15.578125 40.375 12.03125 44.71875 \nQ 8.5 49.078125 8.5 55.328125 \nQ 8.5 64.0625 14.71875 69.140625 \nQ 20.953125 74.21875 31.78125 74.21875 \nQ 42.671875 74.21875 48.875 69.140625 \nQ 55.078125 64.0625 55.078125 55.328125 \nQ 55.078125 49.078125 51.53125 44.71875 \nQ 48 40.375 41.703125 38.8125 \nQ 48.828125 37.15625 52.796875 32.3125 \nQ 56.78125 27.484375 56.78125 20.515625 \nQ 56.78125 9.90625 50.3125 4.234375 \nQ 43.84375 -1.421875 31.78125 -1.421875 \nQ 19.734375 -1.421875 13.25 4.234375 \nQ 6.78125 9.90625 6.78125 20.515625 \nQ 6.78125 27.484375 10.78125 32.3125 \nQ 14.796875 37.15625 21.921875 38.8125 \nz\nM 18.3125 54.390625 \nQ 18.3125 48.734375 21.84375 45.5625 \nQ 25.390625 42.390625 31.78125 42.390625 \nQ 38.140625 42.390625 41.71875 45.5625 \nQ 45.3125 48.734375 45.3125 54.390625 \nQ 45.3125 60.0625 41.71875 63.234375 \nQ 38.140625 66.40625 31.78125 66.40625 \nQ 25.390625 66.40625 21.84375 63.234375 \nQ 18.3125 60.0625 18.3125 54.390625 \nz\n\" id=\"DejaVuSans-56\"/>\n       </defs>\n       <use xlink:href=\"#DejaVuSans-50\"/>\n       <use x=\"63.623047\" xlink:href=\"#DejaVuSans-48\"/>\n       <use x=\"127.246094\" xlink:href=\"#DejaVuSans-49\"/>\n       <use x=\"190.869141\" xlink:href=\"#DejaVuSans-56\"/>\n       <use x=\"254.492188\" xlink:href=\"#DejaVuSans-45\"/>\n       <use x=\"290.576172\" xlink:href=\"#DejaVuSans-48\"/>\n       <use x=\"354.199219\" xlink:href=\"#DejaVuSans-49\"/>\n      </g>\n     </g>\n    </g>\n    <g id=\"xtick_8\">\n     <g id=\"line2d_8\">\n      <g>\n       <use style=\"stroke:#000000;stroke-width:0.8;\" x=\"305.282481\" xlink:href=\"#m8acee274fd\" y=\"213.638437\"/>\n      </g>\n     </g>\n     <g id=\"text_8\">\n      <!-- 2018-07 -->\n      <g transform=\"translate(268.05766 248.110284)rotate(-30)scale(0.1 -0.1)\">\n       <use xlink:href=\"#DejaVuSans-50\"/>\n       <use x=\"63.623047\" xlink:href=\"#DejaVuSans-48\"/>\n       <use x=\"127.246094\" xlink:href=\"#DejaVuSans-49\"/>\n       <use x=\"190.869141\" xlink:href=\"#DejaVuSans-56\"/>\n       <use x=\"254.492188\" xlink:href=\"#DejaVuSans-45\"/>\n       <use x=\"290.576172\" xlink:href=\"#DejaVuSans-48\"/>\n       <use x=\"354.199219\" xlink:href=\"#DejaVuSans-55\"/>\n      </g>\n     </g>\n    </g>\n    <g id=\"xtick_9\">\n     <g id=\"line2d_9\">\n      <g>\n       <use style=\"stroke:#000000;stroke-width:0.8;\" x=\"342.321442\" xlink:href=\"#m8acee274fd\" y=\"213.638437\"/>\n      </g>\n     </g>\n     <g id=\"text_9\">\n      <!-- 2019-01 -->\n      <g transform=\"translate(305.096621 248.110284)rotate(-30)scale(0.1 -0.1)\">\n       <defs>\n        <path d=\"M 10.984375 1.515625 \nL 10.984375 10.5 \nQ 14.703125 8.734375 18.5 7.8125 \nQ 22.3125 6.890625 25.984375 6.890625 \nQ 35.75 6.890625 40.890625 13.453125 \nQ 46.046875 20.015625 46.78125 33.40625 \nQ 43.953125 29.203125 39.59375 26.953125 \nQ 35.25 24.703125 29.984375 24.703125 \nQ 19.046875 24.703125 12.671875 31.3125 \nQ 6.296875 37.9375 6.296875 49.421875 \nQ 6.296875 60.640625 12.9375 67.421875 \nQ 19.578125 74.21875 30.609375 74.21875 \nQ 43.265625 74.21875 49.921875 64.515625 \nQ 56.59375 54.828125 56.59375 36.375 \nQ 56.59375 19.140625 48.40625 8.859375 \nQ 40.234375 -1.421875 26.421875 -1.421875 \nQ 22.703125 -1.421875 18.890625 -0.6875 \nQ 15.09375 0.046875 10.984375 1.515625 \nz\nM 30.609375 32.421875 \nQ 37.25 32.421875 41.125 36.953125 \nQ 45.015625 41.5 45.015625 49.421875 \nQ 45.015625 57.28125 41.125 61.84375 \nQ 37.25 66.40625 30.609375 66.40625 \nQ 23.96875 66.40625 20.09375 61.84375 \nQ 16.21875 57.28125 16.21875 49.421875 \nQ 16.21875 41.5 20.09375 36.953125 \nQ 23.96875 32.421875 30.609375 32.421875 \nz\n\" id=\"DejaVuSans-57\"/>\n       </defs>\n       <use xlink:href=\"#DejaVuSans-50\"/>\n       <use x=\"63.623047\" xlink:href=\"#DejaVuSans-48\"/>\n       <use x=\"127.246094\" xlink:href=\"#DejaVuSans-49\"/>\n       <use x=\"190.869141\" xlink:href=\"#DejaVuSans-57\"/>\n       <use x=\"254.492188\" xlink:href=\"#DejaVuSans-45\"/>\n       <use x=\"290.576172\" xlink:href=\"#DejaVuSans-48\"/>\n       <use x=\"354.199219\" xlink:href=\"#DejaVuSans-49\"/>\n      </g>\n     </g>\n    </g>\n    <g id=\"xtick_10\">\n     <g id=\"line2d_10\">\n      <g>\n       <use style=\"stroke:#000000;stroke-width:0.8;\" x=\"378.756507\" xlink:href=\"#m8acee274fd\" y=\"213.638437\"/>\n      </g>\n     </g>\n     <g id=\"text_10\">\n      <!-- 2019-07 -->\n      <g transform=\"translate(341.531686 248.110284)rotate(-30)scale(0.1 -0.1)\">\n       <use xlink:href=\"#DejaVuSans-50\"/>\n       <use x=\"63.623047\" xlink:href=\"#DejaVuSans-48\"/>\n       <use x=\"127.246094\" xlink:href=\"#DejaVuSans-49\"/>\n       <use x=\"190.869141\" xlink:href=\"#DejaVuSans-57\"/>\n       <use x=\"254.492188\" xlink:href=\"#DejaVuSans-45\"/>\n       <use x=\"290.576172\" xlink:href=\"#DejaVuSans-48\"/>\n       <use x=\"354.199219\" xlink:href=\"#DejaVuSans-55\"/>\n      </g>\n     </g>\n    </g>\n    <g id=\"text_11\">\n     <!-- Date -->\n     <g transform=\"translate(200.734297 261.509783)scale(0.1 -0.1)\">\n      <defs>\n       <path d=\"M 19.671875 64.796875 \nL 19.671875 8.109375 \nL 31.59375 8.109375 \nQ 46.6875 8.109375 53.6875 14.9375 \nQ 60.6875 21.78125 60.6875 36.53125 \nQ 60.6875 51.171875 53.6875 57.984375 \nQ 46.6875 64.796875 31.59375 64.796875 \nz\nM 9.8125 72.90625 \nL 30.078125 72.90625 \nQ 51.265625 72.90625 61.171875 64.09375 \nQ 71.09375 55.28125 71.09375 36.53125 \nQ 71.09375 17.671875 61.125 8.828125 \nQ 51.171875 0 30.078125 0 \nL 9.8125 0 \nz\n\" id=\"DejaVuSans-68\"/>\n       <path d=\"M 34.28125 27.484375 \nQ 23.390625 27.484375 19.1875 25 \nQ 14.984375 22.515625 14.984375 16.5 \nQ 14.984375 11.71875 18.140625 8.90625 \nQ 21.296875 6.109375 26.703125 6.109375 \nQ 34.1875 6.109375 38.703125 11.40625 \nQ 43.21875 16.703125 43.21875 25.484375 \nL 43.21875 27.484375 \nz\nM 52.203125 31.203125 \nL 52.203125 0 \nL 43.21875 0 \nL 43.21875 8.296875 \nQ 40.140625 3.328125 35.546875 0.953125 \nQ 30.953125 -1.421875 24.3125 -1.421875 \nQ 15.921875 -1.421875 10.953125 3.296875 \nQ 6 8.015625 6 15.921875 \nQ 6 25.140625 12.171875 29.828125 \nQ 18.359375 34.515625 30.609375 34.515625 \nL 43.21875 34.515625 \nL 43.21875 35.40625 \nQ 43.21875 41.609375 39.140625 45 \nQ 35.0625 48.390625 27.6875 48.390625 \nQ 23 48.390625 18.546875 47.265625 \nQ 14.109375 46.140625 10.015625 43.890625 \nL 10.015625 52.203125 \nQ 14.9375 54.109375 19.578125 55.046875 \nQ 24.21875 56 28.609375 56 \nQ 40.484375 56 46.34375 49.84375 \nQ 52.203125 43.703125 52.203125 31.203125 \nz\n\" id=\"DejaVuSans-97\"/>\n       <path d=\"M 18.3125 70.21875 \nL 18.3125 54.6875 \nL 36.8125 54.6875 \nL 36.8125 47.703125 \nL 18.3125 47.703125 \nL 18.3125 18.015625 \nQ 18.3125 11.328125 20.140625 9.421875 \nQ 21.96875 7.515625 27.59375 7.515625 \nL 36.8125 7.515625 \nL 36.8125 0 \nL 27.59375 0 \nQ 17.1875 0 13.234375 3.875 \nQ 9.28125 7.765625 9.28125 18.015625 \nL 9.28125 47.703125 \nL 2.6875 47.703125 \nL 2.6875 54.6875 \nL 9.28125 54.6875 \nL 9.28125 70.21875 \nz\n\" id=\"DejaVuSans-116\"/>\n       <path d=\"M 56.203125 29.59375 \nL 56.203125 25.203125 \nL 14.890625 25.203125 \nQ 15.484375 15.921875 20.484375 11.0625 \nQ 25.484375 6.203125 34.421875 6.203125 \nQ 39.59375 6.203125 44.453125 7.46875 \nQ 49.3125 8.734375 54.109375 11.28125 \nL 54.109375 2.78125 \nQ 49.265625 0.734375 44.1875 -0.34375 \nQ 39.109375 -1.421875 33.890625 -1.421875 \nQ 20.796875 -1.421875 13.15625 6.1875 \nQ 5.515625 13.8125 5.515625 26.8125 \nQ 5.515625 40.234375 12.765625 48.109375 \nQ 20.015625 56 32.328125 56 \nQ 43.359375 56 49.78125 48.890625 \nQ 56.203125 41.796875 56.203125 29.59375 \nz\nM 47.21875 32.234375 \nQ 47.125 39.59375 43.09375 43.984375 \nQ 39.0625 48.390625 32.421875 48.390625 \nQ 24.90625 48.390625 20.390625 44.140625 \nQ 15.875 39.890625 15.1875 32.171875 \nz\n\" id=\"DejaVuSans-101\"/>\n      </defs>\n      <use xlink:href=\"#DejaVuSans-68\"/>\n      <use x=\"77.001953\" xlink:href=\"#DejaVuSans-97\"/>\n      <use x=\"138.28125\" xlink:href=\"#DejaVuSans-116\"/>\n      <use x=\"177.490234\" xlink:href=\"#DejaVuSans-101\"/>\n     </g>\n    </g>\n   </g>\n   <g id=\"matplotlib.axis_2\">\n    <g id=\"ytick_1\">\n     <g id=\"line2d_11\">\n      <defs>\n       <path d=\"M 0 0 \nL -3.5 0 \n\" id=\"m794db6b261\" style=\"stroke:#000000;stroke-width:0.8;\"/>\n      </defs>\n      <g>\n       <use style=\"stroke:#000000;stroke-width:0.8;\" x=\"45.285079\" xlink:href=\"#m794db6b261\" y=\"204.736619\"/>\n      </g>\n     </g>\n     <g id=\"text_12\">\n      <!-- 0.0 -->\n      <g transform=\"translate(22.381954 208.535838)scale(0.1 -0.1)\">\n       <defs>\n        <path d=\"M 10.6875 12.40625 \nL 21 12.40625 \nL 21 0 \nL 10.6875 0 \nz\n\" id=\"DejaVuSans-46\"/>\n       </defs>\n       <use xlink:href=\"#DejaVuSans-48\"/>\n       <use x=\"63.623047\" xlink:href=\"#DejaVuSans-46\"/>\n       <use x=\"95.410156\" xlink:href=\"#DejaVuSans-48\"/>\n      </g>\n     </g>\n    </g>\n    <g id=\"ytick_2\">\n     <g id=\"line2d_12\">\n      <g>\n       <use style=\"stroke:#000000;stroke-width:0.8;\" x=\"45.285079\" xlink:href=\"#m794db6b261\" y=\"179.318847\"/>\n      </g>\n     </g>\n     <g id=\"text_13\">\n      <!-- 0.5 -->\n      <g transform=\"translate(22.381954 183.118065)scale(0.1 -0.1)\">\n       <use xlink:href=\"#DejaVuSans-48\"/>\n       <use x=\"63.623047\" xlink:href=\"#DejaVuSans-46\"/>\n       <use x=\"95.410156\" xlink:href=\"#DejaVuSans-53\"/>\n      </g>\n     </g>\n    </g>\n    <g id=\"ytick_3\">\n     <g id=\"line2d_13\">\n      <g>\n       <use style=\"stroke:#000000;stroke-width:0.8;\" x=\"45.285079\" xlink:href=\"#m794db6b261\" y=\"153.901074\"/>\n      </g>\n     </g>\n     <g id=\"text_14\">\n      <!-- 1.0 -->\n      <g transform=\"translate(22.381954 157.700293)scale(0.1 -0.1)\">\n       <use xlink:href=\"#DejaVuSans-49\"/>\n       <use x=\"63.623047\" xlink:href=\"#DejaVuSans-46\"/>\n       <use x=\"95.410156\" xlink:href=\"#DejaVuSans-48\"/>\n      </g>\n     </g>\n    </g>\n    <g id=\"ytick_4\">\n     <g id=\"line2d_14\">\n      <g>\n       <use style=\"stroke:#000000;stroke-width:0.8;\" x=\"45.285079\" xlink:href=\"#m794db6b261\" y=\"128.483301\"/>\n      </g>\n     </g>\n     <g id=\"text_15\">\n      <!-- 1.5 -->\n      <g transform=\"translate(22.381954 132.28252)scale(0.1 -0.1)\">\n       <use xlink:href=\"#DejaVuSans-49\"/>\n       <use x=\"63.623047\" xlink:href=\"#DejaVuSans-46\"/>\n       <use x=\"95.410156\" xlink:href=\"#DejaVuSans-53\"/>\n      </g>\n     </g>\n    </g>\n    <g id=\"ytick_5\">\n     <g id=\"line2d_15\">\n      <g>\n       <use style=\"stroke:#000000;stroke-width:0.8;\" x=\"45.285079\" xlink:href=\"#m794db6b261\" y=\"103.065528\"/>\n      </g>\n     </g>\n     <g id=\"text_16\">\n      <!-- 2.0 -->\n      <g transform=\"translate(22.381954 106.864747)scale(0.1 -0.1)\">\n       <use xlink:href=\"#DejaVuSans-50\"/>\n       <use x=\"63.623047\" xlink:href=\"#DejaVuSans-46\"/>\n       <use x=\"95.410156\" xlink:href=\"#DejaVuSans-48\"/>\n      </g>\n     </g>\n    </g>\n    <g id=\"ytick_6\">\n     <g id=\"line2d_16\">\n      <g>\n       <use style=\"stroke:#000000;stroke-width:0.8;\" x=\"45.285079\" xlink:href=\"#m794db6b261\" y=\"77.647756\"/>\n      </g>\n     </g>\n     <g id=\"text_17\">\n      <!-- 2.5 -->\n      <g transform=\"translate(22.381954 81.446974)scale(0.1 -0.1)\">\n       <use xlink:href=\"#DejaVuSans-50\"/>\n       <use x=\"63.623047\" xlink:href=\"#DejaVuSans-46\"/>\n       <use x=\"95.410156\" xlink:href=\"#DejaVuSans-53\"/>\n      </g>\n     </g>\n    </g>\n    <g id=\"ytick_7\">\n     <g id=\"line2d_17\">\n      <g>\n       <use style=\"stroke:#000000;stroke-width:0.8;\" x=\"45.285079\" xlink:href=\"#m794db6b261\" y=\"52.229983\"/>\n      </g>\n     </g>\n     <g id=\"text_18\">\n      <!-- 3.0 -->\n      <g transform=\"translate(22.381954 56.029202)scale(0.1 -0.1)\">\n       <defs>\n        <path d=\"M 40.578125 39.3125 \nQ 47.65625 37.796875 51.625 33 \nQ 55.609375 28.21875 55.609375 21.1875 \nQ 55.609375 10.40625 48.1875 4.484375 \nQ 40.765625 -1.421875 27.09375 -1.421875 \nQ 22.515625 -1.421875 17.65625 -0.515625 \nQ 12.796875 0.390625 7.625 2.203125 \nL 7.625 11.71875 \nQ 11.71875 9.328125 16.59375 8.109375 \nQ 21.484375 6.890625 26.8125 6.890625 \nQ 36.078125 6.890625 40.9375 10.546875 \nQ 45.796875 14.203125 45.796875 21.1875 \nQ 45.796875 27.640625 41.28125 31.265625 \nQ 36.765625 34.90625 28.71875 34.90625 \nL 20.21875 34.90625 \nL 20.21875 43.015625 \nL 29.109375 43.015625 \nQ 36.375 43.015625 40.234375 45.921875 \nQ 44.09375 48.828125 44.09375 54.296875 \nQ 44.09375 59.90625 40.109375 62.90625 \nQ 36.140625 65.921875 28.71875 65.921875 \nQ 24.65625 65.921875 20.015625 65.03125 \nQ 15.375 64.15625 9.8125 62.3125 \nL 9.8125 71.09375 \nQ 15.4375 72.65625 20.34375 73.4375 \nQ 25.25 74.21875 29.59375 74.21875 \nQ 40.828125 74.21875 47.359375 69.109375 \nQ 53.90625 64.015625 53.90625 55.328125 \nQ 53.90625 49.265625 50.4375 45.09375 \nQ 46.96875 40.921875 40.578125 39.3125 \nz\n\" id=\"DejaVuSans-51\"/>\n       </defs>\n       <use xlink:href=\"#DejaVuSans-51\"/>\n       <use x=\"63.623047\" xlink:href=\"#DejaVuSans-46\"/>\n       <use x=\"95.410156\" xlink:href=\"#DejaVuSans-48\"/>\n      </g>\n     </g>\n    </g>\n    <g id=\"ytick_8\">\n     <g id=\"line2d_18\">\n      <g>\n       <use style=\"stroke:#000000;stroke-width:0.8;\" x=\"45.285079\" xlink:href=\"#m794db6b261\" y=\"26.81221\"/>\n      </g>\n     </g>\n     <g id=\"text_19\">\n      <!-- 3.5 -->\n      <g transform=\"translate(22.381954 30.611429)scale(0.1 -0.1)\">\n       <use xlink:href=\"#DejaVuSans-51\"/>\n       <use x=\"63.623047\" xlink:href=\"#DejaVuSans-46\"/>\n       <use x=\"95.410156\" xlink:href=\"#DejaVuSans-53\"/>\n      </g>\n     </g>\n    </g>\n    <g id=\"text_20\">\n     <!-- 1e305 -->\n     <g transform=\"translate(45.285079 14.798437)scale(0.1 -0.1)\">\n      <use xlink:href=\"#DejaVuSans-49\"/>\n      <use x=\"63.623047\" xlink:href=\"#DejaVuSans-101\"/>\n      <use x=\"125.146484\" xlink:href=\"#DejaVuSans-51\"/>\n      <use x=\"188.769531\" xlink:href=\"#DejaVuSans-48\"/>\n      <use x=\"252.392578\" xlink:href=\"#DejaVuSans-53\"/>\n     </g>\n    </g>\n   </g>\n   <g id=\"line2d_19\">\n    <path clip-path=\"url(#pdf7271d876)\" d=\"M 60.50326 204.736619 \nL 364.866897 204.736619 \nL 364.866897 204.736619 \n\" style=\"fill:none;stroke:#1f77b4;stroke-linecap:square;stroke-width:1.5;\"/>\n   </g>\n   <g id=\"line2d_20\">\n    <path clip-path=\"url(#pdf7271d876)\" d=\"M 60.50326 204.736619 \nL 364.866897 204.736619 \nL 364.866897 204.736619 \n\" style=\"fill:none;stroke:#ff7f0e;stroke-linecap:square;stroke-width:1.5;\"/>\n   </g>\n   <g id=\"line2d_21\">\n    <path clip-path=\"url(#pdf7271d876)\" d=\"M 60.50326 204.736619 \nL 364.866897 204.736619 \nL 364.866897 204.736619 \n\" style=\"fill:none;stroke:#2ca02c;stroke-linecap:square;stroke-width:1.5;\"/>\n   </g>\n   <g id=\"line2d_22\">\n    <path clip-path=\"url(#pdf7271d876)\" d=\"M 60.50326 204.736619 \nL 364.866897 204.736619 \nL 364.866897 204.736619 \n\" style=\"fill:none;stroke:#d62728;stroke-linecap:square;stroke-width:1.5;\"/>\n   </g>\n   <g id=\"line2d_23\">\n    <path clip-path=\"url(#pdf7271d876)\" d=\"M 60.50326 204.736619 \nL 86.470793 204.651864 \nL 87.074689 26.700256 \nL 87.074689 26.700256 \n\" style=\"fill:none;stroke:#9467bd;stroke-linecap:square;stroke-width:1.5;\"/>\n   </g>\n   <g id=\"line2d_24\">\n    <path clip-path=\"url(#pdf7271d876)\" d=\"M 60.50326 204.736619 \nL 364.866897 204.736619 \nL 364.866897 204.736619 \n\" style=\"fill:none;stroke:#8c564b;stroke-linecap:square;stroke-width:1.5;\"/>\n   </g>\n   <g id=\"line2d_25\">\n    <path clip-path=\"url(#pdf7271d876)\" d=\"M 60.50326 204.736619 \nL 364.866897 204.736619 \nL 364.866897 204.736619 \n\" style=\"fill:none;stroke:#e377c2;stroke-linecap:square;stroke-width:1.5;\"/>\n   </g>\n   <g id=\"patch_3\">\n    <path d=\"M 45.285079 213.638437 \nL 45.285079 17.798438 \n\" style=\"fill:none;stroke:#000000;stroke-linecap:square;stroke-linejoin:miter;stroke-width:0.8;\"/>\n   </g>\n   <g id=\"patch_4\">\n    <path d=\"M 380.085079 213.638437 \nL 380.085079 17.798438 \n\" style=\"fill:none;stroke:#000000;stroke-linecap:square;stroke-linejoin:miter;stroke-width:0.8;\"/>\n   </g>\n   <g id=\"patch_5\">\n    <path d=\"M 45.285079 213.638437 \nL 380.085079 213.638437 \n\" style=\"fill:none;stroke:#000000;stroke-linecap:square;stroke-linejoin:miter;stroke-width:0.8;\"/>\n   </g>\n   <g id=\"patch_6\">\n    <path d=\"M 45.285079 17.798437 \nL 380.085079 17.798437 \n\" style=\"fill:none;stroke:#000000;stroke-linecap:square;stroke-linejoin:miter;stroke-width:0.8;\"/>\n   </g>\n   <g id=\"legend_1\">\n    <g id=\"patch_7\">\n     <path d=\"M 171.028829 128.545312 \nL 373.085079 128.545312 \nQ 375.085079 128.545312 375.085079 126.545312 \nL 375.085079 24.798437 \nQ 375.085079 22.798437 373.085079 22.798437 \nL 171.028829 22.798437 \nQ 169.028829 22.798437 169.028829 24.798437 \nL 169.028829 126.545312 \nQ 169.028829 128.545312 171.028829 128.545312 \nz\n\" style=\"fill:#ffffff;opacity:0.8;stroke:#cccccc;stroke-linejoin:miter;\"/>\n    </g>\n    <g id=\"line2d_26\">\n     <path d=\"M 173.028829 30.896875 \nL 193.028829 30.896875 \n\" style=\"fill:none;stroke:#1f77b4;stroke-linecap:square;stroke-width:1.5;\"/>\n    </g>\n    <g id=\"line2d_27\"/>\n    <g id=\"text_21\">\n     <!-- SOROS FUND MANAGEMENT LLC -->\n     <g transform=\"translate(201.028829 34.396875)scale(0.1 -0.1)\">\n      <defs>\n       <path d=\"M 53.515625 70.515625 \nL 53.515625 60.890625 \nQ 47.90625 63.578125 42.921875 64.890625 \nQ 37.9375 66.21875 33.296875 66.21875 \nQ 25.25 66.21875 20.875 63.09375 \nQ 16.5 59.96875 16.5 54.203125 \nQ 16.5 49.359375 19.40625 46.890625 \nQ 22.3125 44.4375 30.421875 42.921875 \nL 36.375 41.703125 \nQ 47.40625 39.59375 52.65625 34.296875 \nQ 57.90625 29 57.90625 20.125 \nQ 57.90625 9.515625 50.796875 4.046875 \nQ 43.703125 -1.421875 29.984375 -1.421875 \nQ 24.8125 -1.421875 18.96875 -0.25 \nQ 13.140625 0.921875 6.890625 3.21875 \nL 6.890625 13.375 \nQ 12.890625 10.015625 18.65625 8.296875 \nQ 24.421875 6.59375 29.984375 6.59375 \nQ 38.421875 6.59375 43.015625 9.90625 \nQ 47.609375 13.234375 47.609375 19.390625 \nQ 47.609375 24.75 44.3125 27.78125 \nQ 41.015625 30.8125 33.5 32.328125 \nL 27.484375 33.5 \nQ 16.453125 35.6875 11.515625 40.375 \nQ 6.59375 45.0625 6.59375 53.421875 \nQ 6.59375 63.09375 13.40625 68.65625 \nQ 20.21875 74.21875 32.171875 74.21875 \nQ 37.3125 74.21875 42.625 73.28125 \nQ 47.953125 72.359375 53.515625 70.515625 \nz\n\" id=\"DejaVuSans-83\"/>\n       <path d=\"M 39.40625 66.21875 \nQ 28.65625 66.21875 22.328125 58.203125 \nQ 16.015625 50.203125 16.015625 36.375 \nQ 16.015625 22.609375 22.328125 14.59375 \nQ 28.65625 6.59375 39.40625 6.59375 \nQ 50.140625 6.59375 56.421875 14.59375 \nQ 62.703125 22.609375 62.703125 36.375 \nQ 62.703125 50.203125 56.421875 58.203125 \nQ 50.140625 66.21875 39.40625 66.21875 \nz\nM 39.40625 74.21875 \nQ 54.734375 74.21875 63.90625 63.9375 \nQ 73.09375 53.65625 73.09375 36.375 \nQ 73.09375 19.140625 63.90625 8.859375 \nQ 54.734375 -1.421875 39.40625 -1.421875 \nQ 24.03125 -1.421875 14.8125 8.828125 \nQ 5.609375 19.09375 5.609375 36.375 \nQ 5.609375 53.65625 14.8125 63.9375 \nQ 24.03125 74.21875 39.40625 74.21875 \nz\n\" id=\"DejaVuSans-79\"/>\n       <path d=\"M 44.390625 34.1875 \nQ 47.5625 33.109375 50.5625 29.59375 \nQ 53.5625 26.078125 56.59375 19.921875 \nL 66.609375 0 \nL 56 0 \nL 46.6875 18.703125 \nQ 43.0625 26.03125 39.671875 28.421875 \nQ 36.28125 30.8125 30.421875 30.8125 \nL 19.671875 30.8125 \nL 19.671875 0 \nL 9.8125 0 \nL 9.8125 72.90625 \nL 32.078125 72.90625 \nQ 44.578125 72.90625 50.734375 67.671875 \nQ 56.890625 62.453125 56.890625 51.90625 \nQ 56.890625 45.015625 53.6875 40.46875 \nQ 50.484375 35.9375 44.390625 34.1875 \nz\nM 19.671875 64.796875 \nL 19.671875 38.921875 \nL 32.078125 38.921875 \nQ 39.203125 38.921875 42.84375 42.21875 \nQ 46.484375 45.515625 46.484375 51.90625 \nQ 46.484375 58.296875 42.84375 61.546875 \nQ 39.203125 64.796875 32.078125 64.796875 \nz\n\" id=\"DejaVuSans-82\"/>\n       <path id=\"DejaVuSans-32\"/>\n       <path d=\"M 9.8125 72.90625 \nL 51.703125 72.90625 \nL 51.703125 64.59375 \nL 19.671875 64.59375 \nL 19.671875 43.109375 \nL 48.578125 43.109375 \nL 48.578125 34.8125 \nL 19.671875 34.8125 \nL 19.671875 0 \nL 9.8125 0 \nz\n\" id=\"DejaVuSans-70\"/>\n       <path d=\"M 8.6875 72.90625 \nL 18.609375 72.90625 \nL 18.609375 28.609375 \nQ 18.609375 16.890625 22.84375 11.734375 \nQ 27.09375 6.59375 36.625 6.59375 \nQ 46.09375 6.59375 50.34375 11.734375 \nQ 54.59375 16.890625 54.59375 28.609375 \nL 54.59375 72.90625 \nL 64.5 72.90625 \nL 64.5 27.390625 \nQ 64.5 13.140625 57.4375 5.859375 \nQ 50.390625 -1.421875 36.625 -1.421875 \nQ 22.796875 -1.421875 15.734375 5.859375 \nQ 8.6875 13.140625 8.6875 27.390625 \nz\n\" id=\"DejaVuSans-85\"/>\n       <path d=\"M 9.8125 72.90625 \nL 23.09375 72.90625 \nL 55.421875 11.921875 \nL 55.421875 72.90625 \nL 64.984375 72.90625 \nL 64.984375 0 \nL 51.703125 0 \nL 19.390625 60.984375 \nL 19.390625 0 \nL 9.8125 0 \nz\n\" id=\"DejaVuSans-78\"/>\n       <path d=\"M 9.8125 72.90625 \nL 24.515625 72.90625 \nL 43.109375 23.296875 \nL 61.8125 72.90625 \nL 76.515625 72.90625 \nL 76.515625 0 \nL 66.890625 0 \nL 66.890625 64.015625 \nL 48.09375 14.015625 \nL 38.1875 14.015625 \nL 19.390625 64.015625 \nL 19.390625 0 \nL 9.8125 0 \nz\n\" id=\"DejaVuSans-77\"/>\n       <path d=\"M 34.1875 63.1875 \nL 20.796875 26.90625 \nL 47.609375 26.90625 \nz\nM 28.609375 72.90625 \nL 39.796875 72.90625 \nL 67.578125 0 \nL 57.328125 0 \nL 50.6875 18.703125 \nL 17.828125 18.703125 \nL 11.1875 0 \nL 0.78125 0 \nz\n\" id=\"DejaVuSans-65\"/>\n       <path d=\"M 59.515625 10.40625 \nL 59.515625 29.984375 \nL 43.40625 29.984375 \nL 43.40625 38.09375 \nL 69.28125 38.09375 \nL 69.28125 6.78125 \nQ 63.578125 2.734375 56.6875 0.65625 \nQ 49.8125 -1.421875 42 -1.421875 \nQ 24.90625 -1.421875 15.25 8.5625 \nQ 5.609375 18.5625 5.609375 36.375 \nQ 5.609375 54.25 15.25 64.234375 \nQ 24.90625 74.21875 42 74.21875 \nQ 49.125 74.21875 55.546875 72.453125 \nQ 61.96875 70.703125 67.390625 67.28125 \nL 67.390625 56.78125 \nQ 61.921875 61.421875 55.765625 63.765625 \nQ 49.609375 66.109375 42.828125 66.109375 \nQ 29.4375 66.109375 22.71875 58.640625 \nQ 16.015625 51.171875 16.015625 36.375 \nQ 16.015625 21.625 22.71875 14.15625 \nQ 29.4375 6.6875 42.828125 6.6875 \nQ 48.046875 6.6875 52.140625 7.59375 \nQ 56.25 8.5 59.515625 10.40625 \nz\n\" id=\"DejaVuSans-71\"/>\n       <path d=\"M 9.8125 72.90625 \nL 55.90625 72.90625 \nL 55.90625 64.59375 \nL 19.671875 64.59375 \nL 19.671875 43.015625 \nL 54.390625 43.015625 \nL 54.390625 34.71875 \nL 19.671875 34.71875 \nL 19.671875 8.296875 \nL 56.78125 8.296875 \nL 56.78125 0 \nL 9.8125 0 \nz\n\" id=\"DejaVuSans-69\"/>\n       <path d=\"M -0.296875 72.90625 \nL 61.375 72.90625 \nL 61.375 64.59375 \nL 35.5 64.59375 \nL 35.5 0 \nL 25.59375 0 \nL 25.59375 64.59375 \nL -0.296875 64.59375 \nz\n\" id=\"DejaVuSans-84\"/>\n       <path d=\"M 9.8125 72.90625 \nL 19.671875 72.90625 \nL 19.671875 8.296875 \nL 55.171875 8.296875 \nL 55.171875 0 \nL 9.8125 0 \nz\n\" id=\"DejaVuSans-76\"/>\n       <path d=\"M 64.40625 67.28125 \nL 64.40625 56.890625 \nQ 59.421875 61.53125 53.78125 63.8125 \nQ 48.140625 66.109375 41.796875 66.109375 \nQ 29.296875 66.109375 22.65625 58.46875 \nQ 16.015625 50.828125 16.015625 36.375 \nQ 16.015625 21.96875 22.65625 14.328125 \nQ 29.296875 6.6875 41.796875 6.6875 \nQ 48.140625 6.6875 53.78125 8.984375 \nQ 59.421875 11.28125 64.40625 15.921875 \nL 64.40625 5.609375 \nQ 59.234375 2.09375 53.4375 0.328125 \nQ 47.65625 -1.421875 41.21875 -1.421875 \nQ 24.65625 -1.421875 15.125 8.703125 \nQ 5.609375 18.84375 5.609375 36.375 \nQ 5.609375 53.953125 15.125 64.078125 \nQ 24.65625 74.21875 41.21875 74.21875 \nQ 47.75 74.21875 53.53125 72.484375 \nQ 59.328125 70.75 64.40625 67.28125 \nz\n\" id=\"DejaVuSans-67\"/>\n      </defs>\n      <use xlink:href=\"#DejaVuSans-83\"/>\n      <use x=\"63.476562\" xlink:href=\"#DejaVuSans-79\"/>\n      <use x=\"142.1875\" xlink:href=\"#DejaVuSans-82\"/>\n      <use x=\"211.669922\" xlink:href=\"#DejaVuSans-79\"/>\n      <use x=\"290.380859\" xlink:href=\"#DejaVuSans-83\"/>\n      <use x=\"353.857422\" xlink:href=\"#DejaVuSans-32\"/>\n      <use x=\"385.644531\" xlink:href=\"#DejaVuSans-70\"/>\n      <use x=\"443.164062\" xlink:href=\"#DejaVuSans-85\"/>\n      <use x=\"516.357422\" xlink:href=\"#DejaVuSans-78\"/>\n      <use x=\"591.162109\" xlink:href=\"#DejaVuSans-68\"/>\n      <use x=\"668.164062\" xlink:href=\"#DejaVuSans-32\"/>\n      <use x=\"699.951172\" xlink:href=\"#DejaVuSans-77\"/>\n      <use x=\"786.230469\" xlink:href=\"#DejaVuSans-65\"/>\n      <use x=\"854.638672\" xlink:href=\"#DejaVuSans-78\"/>\n      <use x=\"929.443359\" xlink:href=\"#DejaVuSans-65\"/>\n      <use x=\"996.101562\" xlink:href=\"#DejaVuSans-71\"/>\n      <use x=\"1073.591797\" xlink:href=\"#DejaVuSans-69\"/>\n      <use x=\"1136.775391\" xlink:href=\"#DejaVuSans-77\"/>\n      <use x=\"1223.054688\" xlink:href=\"#DejaVuSans-69\"/>\n      <use x=\"1286.238281\" xlink:href=\"#DejaVuSans-78\"/>\n      <use x=\"1361.042969\" xlink:href=\"#DejaVuSans-84\"/>\n      <use x=\"1422.126953\" xlink:href=\"#DejaVuSans-32\"/>\n      <use x=\"1453.914062\" xlink:href=\"#DejaVuSans-76\"/>\n      <use x=\"1509.626953\" xlink:href=\"#DejaVuSans-76\"/>\n      <use x=\"1565.339844\" xlink:href=\"#DejaVuSans-67\"/>\n     </g>\n    </g>\n    <g id=\"line2d_28\">\n     <path d=\"M 173.028829 45.575 \nL 193.028829 45.575 \n\" style=\"fill:none;stroke:#ff7f0e;stroke-linecap:square;stroke-width:1.5;\"/>\n    </g>\n    <g id=\"line2d_29\"/>\n    <g id=\"text_22\">\n     <!-- PAULSON &amp; CO.INC.  -->\n     <g transform=\"translate(201.028829 49.075)scale(0.1 -0.1)\">\n      <defs>\n       <path d=\"M 19.671875 64.796875 \nL 19.671875 37.40625 \nL 32.078125 37.40625 \nQ 38.96875 37.40625 42.71875 40.96875 \nQ 46.484375 44.53125 46.484375 51.125 \nQ 46.484375 57.671875 42.71875 61.234375 \nQ 38.96875 64.796875 32.078125 64.796875 \nz\nM 9.8125 72.90625 \nL 32.078125 72.90625 \nQ 44.34375 72.90625 50.609375 67.359375 \nQ 56.890625 61.8125 56.890625 51.125 \nQ 56.890625 40.328125 50.609375 34.8125 \nQ 44.34375 29.296875 32.078125 29.296875 \nL 19.671875 29.296875 \nL 19.671875 0 \nL 9.8125 0 \nz\n\" id=\"DejaVuSans-80\"/>\n       <path d=\"M 24.3125 39.203125 \nQ 19.875 35.25 17.796875 31.3125 \nQ 15.71875 27.390625 15.71875 23.09375 \nQ 15.71875 15.96875 20.890625 11.234375 \nQ 26.078125 6.5 33.890625 6.5 \nQ 38.53125 6.5 42.578125 8.03125 \nQ 46.625 9.578125 50.203125 12.703125 \nz\nM 31.203125 44.671875 \nL 56 19.28125 \nQ 58.890625 23.640625 60.5 28.59375 \nQ 62.109375 33.546875 62.40625 39.109375 \nL 71.484375 39.109375 \nQ 70.90625 32.671875 68.359375 26.359375 \nQ 65.828125 20.0625 61.28125 13.921875 \nL 74.90625 0 \nL 62.59375 0 \nL 55.609375 7.171875 \nQ 50.53125 2.828125 44.96875 0.703125 \nQ 39.40625 -1.421875 33.015625 -1.421875 \nQ 21.234375 -1.421875 13.765625 5.296875 \nQ 6.296875 12.015625 6.296875 22.515625 \nQ 6.296875 28.765625 9.5625 34.25 \nQ 12.84375 39.75 19.390625 44.578125 \nQ 17.046875 47.65625 15.8125 50.703125 \nQ 14.59375 53.765625 14.59375 56.6875 \nQ 14.59375 64.59375 20.015625 69.40625 \nQ 25.4375 74.21875 34.421875 74.21875 \nQ 38.484375 74.21875 42.5 73.34375 \nQ 46.53125 72.46875 50.6875 70.703125 \nL 50.6875 61.8125 \nQ 46.4375 64.109375 42.578125 65.296875 \nQ 38.71875 66.5 35.40625 66.5 \nQ 30.28125 66.5 27.078125 63.78125 \nQ 23.875 61.078125 23.875 56.78125 \nQ 23.875 54.296875 25.3125 51.78125 \nQ 26.765625 49.265625 31.203125 44.671875 \nz\n\" id=\"DejaVuSans-38\"/>\n       <path d=\"M 9.8125 72.90625 \nL 19.671875 72.90625 \nL 19.671875 0 \nL 9.8125 0 \nz\n\" id=\"DejaVuSans-73\"/>\n      </defs>\n      <use xlink:href=\"#DejaVuSans-80\"/>\n      <use x=\"53.927734\" xlink:href=\"#DejaVuSans-65\"/>\n      <use x=\"122.335938\" xlink:href=\"#DejaVuSans-85\"/>\n      <use x=\"195.529297\" xlink:href=\"#DejaVuSans-76\"/>\n      <use x=\"251.242188\" xlink:href=\"#DejaVuSans-83\"/>\n      <use x=\"314.71875\" xlink:href=\"#DejaVuSans-79\"/>\n      <use x=\"393.429688\" xlink:href=\"#DejaVuSans-78\"/>\n      <use x=\"468.234375\" xlink:href=\"#DejaVuSans-32\"/>\n      <use x=\"500.021484\" xlink:href=\"#DejaVuSans-38\"/>\n      <use x=\"578\" xlink:href=\"#DejaVuSans-32\"/>\n      <use x=\"609.787109\" xlink:href=\"#DejaVuSans-67\"/>\n      <use x=\"679.611328\" xlink:href=\"#DejaVuSans-79\"/>\n      <use x=\"754.322266\" xlink:href=\"#DejaVuSans-46\"/>\n      <use x=\"786.109375\" xlink:href=\"#DejaVuSans-73\"/>\n      <use x=\"815.601562\" xlink:href=\"#DejaVuSans-78\"/>\n      <use x=\"890.40625\" xlink:href=\"#DejaVuSans-67\"/>\n      <use x=\"960.230469\" xlink:href=\"#DejaVuSans-46\"/>\n      <use x=\"992.017578\" xlink:href=\"#DejaVuSans-32\"/>\n     </g>\n    </g>\n    <g id=\"line2d_30\">\n     <path d=\"M 173.028829 60.253125 \nL 193.028829 60.253125 \n\" style=\"fill:none;stroke:#2ca02c;stroke-linecap:square;stroke-width:1.5;\"/>\n    </g>\n    <g id=\"line2d_31\"/>\n    <g id=\"text_23\">\n     <!-- TIGER GLOBAL MANAGEMENT LLC -->\n     <g transform=\"translate(201.028829 63.753125)scale(0.1 -0.1)\">\n      <defs>\n       <path d=\"M 19.671875 34.8125 \nL 19.671875 8.109375 \nL 35.5 8.109375 \nQ 43.453125 8.109375 47.28125 11.40625 \nQ 51.125 14.703125 51.125 21.484375 \nQ 51.125 28.328125 47.28125 31.5625 \nQ 43.453125 34.8125 35.5 34.8125 \nz\nM 19.671875 64.796875 \nL 19.671875 42.828125 \nL 34.28125 42.828125 \nQ 41.5 42.828125 45.03125 45.53125 \nQ 48.578125 48.25 48.578125 53.8125 \nQ 48.578125 59.328125 45.03125 62.0625 \nQ 41.5 64.796875 34.28125 64.796875 \nz\nM 9.8125 72.90625 \nL 35.015625 72.90625 \nQ 46.296875 72.90625 52.390625 68.21875 \nQ 58.5 63.53125 58.5 54.890625 \nQ 58.5 48.1875 55.375 44.234375 \nQ 52.25 40.28125 46.1875 39.3125 \nQ 53.46875 37.75 57.5 32.78125 \nQ 61.53125 27.828125 61.53125 20.40625 \nQ 61.53125 10.640625 54.890625 5.3125 \nQ 48.25 0 35.984375 0 \nL 9.8125 0 \nz\n\" id=\"DejaVuSans-66\"/>\n      </defs>\n      <use xlink:href=\"#DejaVuSans-84\"/>\n      <use x=\"61.083984\" xlink:href=\"#DejaVuSans-73\"/>\n      <use x=\"90.576172\" xlink:href=\"#DejaVuSans-71\"/>\n      <use x=\"168.066406\" xlink:href=\"#DejaVuSans-69\"/>\n      <use x=\"231.25\" xlink:href=\"#DejaVuSans-82\"/>\n      <use x=\"300.732422\" xlink:href=\"#DejaVuSans-32\"/>\n      <use x=\"332.519531\" xlink:href=\"#DejaVuSans-71\"/>\n      <use x=\"410.009766\" xlink:href=\"#DejaVuSans-76\"/>\n      <use x=\"462.097656\" xlink:href=\"#DejaVuSans-79\"/>\n      <use x=\"540.808594\" xlink:href=\"#DejaVuSans-66\"/>\n      <use x=\"609.412109\" xlink:href=\"#DejaVuSans-65\"/>\n      <use x=\"677.820312\" xlink:href=\"#DejaVuSans-76\"/>\n      <use x=\"733.533203\" xlink:href=\"#DejaVuSans-32\"/>\n      <use x=\"765.320312\" xlink:href=\"#DejaVuSans-77\"/>\n      <use x=\"851.599609\" xlink:href=\"#DejaVuSans-65\"/>\n      <use x=\"920.007812\" xlink:href=\"#DejaVuSans-78\"/>\n      <use x=\"994.8125\" xlink:href=\"#DejaVuSans-65\"/>\n      <use x=\"1061.470703\" xlink:href=\"#DejaVuSans-71\"/>\n      <use x=\"1138.960938\" xlink:href=\"#DejaVuSans-69\"/>\n      <use x=\"1202.144531\" xlink:href=\"#DejaVuSans-77\"/>\n      <use x=\"1288.423828\" xlink:href=\"#DejaVuSans-69\"/>\n      <use x=\"1351.607422\" xlink:href=\"#DejaVuSans-78\"/>\n      <use x=\"1426.412109\" xlink:href=\"#DejaVuSans-84\"/>\n      <use x=\"1487.496094\" xlink:href=\"#DejaVuSans-32\"/>\n      <use x=\"1519.283203\" xlink:href=\"#DejaVuSans-76\"/>\n      <use x=\"1574.996094\" xlink:href=\"#DejaVuSans-76\"/>\n      <use x=\"1630.708984\" xlink:href=\"#DejaVuSans-67\"/>\n     </g>\n    </g>\n    <g id=\"line2d_32\">\n     <path d=\"M 173.028829 74.93125 \nL 193.028829 74.93125 \n\" style=\"fill:none;stroke:#d62728;stroke-linecap:square;stroke-width:1.5;\"/>\n    </g>\n    <g id=\"line2d_33\"/>\n    <g id=\"text_24\">\n     <!-- BERKSHIRE HATHAWAY INC -->\n     <g transform=\"translate(201.028829 78.43125)scale(0.1 -0.1)\">\n      <defs>\n       <path d=\"M 9.8125 72.90625 \nL 19.671875 72.90625 \nL 19.671875 42.09375 \nL 52.390625 72.90625 \nL 65.09375 72.90625 \nL 28.90625 38.921875 \nL 67.671875 0 \nL 54.6875 0 \nL 19.671875 35.109375 \nL 19.671875 0 \nL 9.8125 0 \nz\n\" id=\"DejaVuSans-75\"/>\n       <path d=\"M 9.8125 72.90625 \nL 19.671875 72.90625 \nL 19.671875 43.015625 \nL 55.515625 43.015625 \nL 55.515625 72.90625 \nL 65.375 72.90625 \nL 65.375 0 \nL 55.515625 0 \nL 55.515625 34.71875 \nL 19.671875 34.71875 \nL 19.671875 0 \nL 9.8125 0 \nz\n\" id=\"DejaVuSans-72\"/>\n       <path d=\"M 3.328125 72.90625 \nL 13.28125 72.90625 \nL 28.609375 11.28125 \nL 43.890625 72.90625 \nL 54.984375 72.90625 \nL 70.3125 11.28125 \nL 85.59375 72.90625 \nL 95.609375 72.90625 \nL 77.296875 0 \nL 64.890625 0 \nL 49.515625 63.28125 \nL 33.984375 0 \nL 21.578125 0 \nz\n\" id=\"DejaVuSans-87\"/>\n       <path d=\"M -0.203125 72.90625 \nL 10.40625 72.90625 \nL 30.609375 42.921875 \nL 50.6875 72.90625 \nL 61.28125 72.90625 \nL 35.5 34.71875 \nL 35.5 0 \nL 25.59375 0 \nL 25.59375 34.71875 \nz\n\" id=\"DejaVuSans-89\"/>\n      </defs>\n      <use xlink:href=\"#DejaVuSans-66\"/>\n      <use x=\"68.603516\" xlink:href=\"#DejaVuSans-69\"/>\n      <use x=\"131.787109\" xlink:href=\"#DejaVuSans-82\"/>\n      <use x=\"201.269531\" xlink:href=\"#DejaVuSans-75\"/>\n      <use x=\"266.845703\" xlink:href=\"#DejaVuSans-83\"/>\n      <use x=\"330.322266\" xlink:href=\"#DejaVuSans-72\"/>\n      <use x=\"405.517578\" xlink:href=\"#DejaVuSans-73\"/>\n      <use x=\"435.009766\" xlink:href=\"#DejaVuSans-82\"/>\n      <use x=\"504.492188\" xlink:href=\"#DejaVuSans-69\"/>\n      <use x=\"567.675781\" xlink:href=\"#DejaVuSans-32\"/>\n      <use x=\"599.462891\" xlink:href=\"#DejaVuSans-72\"/>\n      <use x=\"674.658203\" xlink:href=\"#DejaVuSans-65\"/>\n      <use x=\"735.316406\" xlink:href=\"#DejaVuSans-84\"/>\n      <use x=\"796.400391\" xlink:href=\"#DejaVuSans-72\"/>\n      <use x=\"871.595703\" xlink:href=\"#DejaVuSans-65\"/>\n      <use x=\"934.503906\" xlink:href=\"#DejaVuSans-87\"/>\n      <use x=\"1027.880859\" xlink:href=\"#DejaVuSans-65\"/>\n      <use x=\"1088.539062\" xlink:href=\"#DejaVuSans-89\"/>\n      <use x=\"1149.623047\" xlink:href=\"#DejaVuSans-32\"/>\n      <use x=\"1181.410156\" xlink:href=\"#DejaVuSans-73\"/>\n      <use x=\"1210.902344\" xlink:href=\"#DejaVuSans-78\"/>\n      <use x=\"1285.707031\" xlink:href=\"#DejaVuSans-67\"/>\n     </g>\n    </g>\n    <g id=\"line2d_34\">\n     <path d=\"M 173.028829 89.609375 \nL 193.028829 89.609375 \n\" style=\"fill:none;stroke:#9467bd;stroke-linecap:square;stroke-width:1.5;\"/>\n    </g>\n    <g id=\"line2d_35\"/>\n    <g id=\"text_25\">\n     <!-- SP500 DR -->\n     <g transform=\"translate(201.028829 93.109375)scale(0.1 -0.1)\">\n      <use xlink:href=\"#DejaVuSans-83\"/>\n      <use x=\"63.476562\" xlink:href=\"#DejaVuSans-80\"/>\n      <use x=\"123.779297\" xlink:href=\"#DejaVuSans-53\"/>\n      <use x=\"187.402344\" xlink:href=\"#DejaVuSans-48\"/>\n      <use x=\"251.025391\" xlink:href=\"#DejaVuSans-48\"/>\n      <use x=\"314.648438\" xlink:href=\"#DejaVuSans-32\"/>\n      <use x=\"346.435547\" xlink:href=\"#DejaVuSans-68\"/>\n      <use x=\"423.4375\" xlink:href=\"#DejaVuSans-82\"/>\n     </g>\n    </g>\n    <g id=\"line2d_36\">\n     <path d=\"M 173.028829 104.2875 \nL 193.028829 104.2875 \n\" style=\"fill:none;stroke:#8c564b;stroke-linecap:square;stroke-width:1.5;\"/>\n    </g>\n    <g id=\"line2d_37\"/>\n    <g id=\"text_26\">\n     <!-- Algo 1 -->\n     <g transform=\"translate(201.028829 107.7875)scale(0.1 -0.1)\">\n      <defs>\n       <path d=\"M 9.421875 75.984375 \nL 18.40625 75.984375 \nL 18.40625 0 \nL 9.421875 0 \nz\n\" id=\"DejaVuSans-108\"/>\n       <path d=\"M 45.40625 27.984375 \nQ 45.40625 37.75 41.375 43.109375 \nQ 37.359375 48.484375 30.078125 48.484375 \nQ 22.859375 48.484375 18.828125 43.109375 \nQ 14.796875 37.75 14.796875 27.984375 \nQ 14.796875 18.265625 18.828125 12.890625 \nQ 22.859375 7.515625 30.078125 7.515625 \nQ 37.359375 7.515625 41.375 12.890625 \nQ 45.40625 18.265625 45.40625 27.984375 \nz\nM 54.390625 6.78125 \nQ 54.390625 -7.171875 48.1875 -13.984375 \nQ 42 -20.796875 29.203125 -20.796875 \nQ 24.46875 -20.796875 20.265625 -20.09375 \nQ 16.0625 -19.390625 12.109375 -17.921875 \nL 12.109375 -9.1875 \nQ 16.0625 -11.328125 19.921875 -12.34375 \nQ 23.78125 -13.375 27.78125 -13.375 \nQ 36.625 -13.375 41.015625 -8.765625 \nQ 45.40625 -4.15625 45.40625 5.171875 \nL 45.40625 9.625 \nQ 42.625 4.78125 38.28125 2.390625 \nQ 33.9375 0 27.875 0 \nQ 17.828125 0 11.671875 7.65625 \nQ 5.515625 15.328125 5.515625 27.984375 \nQ 5.515625 40.671875 11.671875 48.328125 \nQ 17.828125 56 27.875 56 \nQ 33.9375 56 38.28125 53.609375 \nQ 42.625 51.21875 45.40625 46.390625 \nL 45.40625 54.6875 \nL 54.390625 54.6875 \nz\n\" id=\"DejaVuSans-103\"/>\n       <path d=\"M 30.609375 48.390625 \nQ 23.390625 48.390625 19.1875 42.75 \nQ 14.984375 37.109375 14.984375 27.296875 \nQ 14.984375 17.484375 19.15625 11.84375 \nQ 23.34375 6.203125 30.609375 6.203125 \nQ 37.796875 6.203125 41.984375 11.859375 \nQ 46.1875 17.53125 46.1875 27.296875 \nQ 46.1875 37.015625 41.984375 42.703125 \nQ 37.796875 48.390625 30.609375 48.390625 \nz\nM 30.609375 56 \nQ 42.328125 56 49.015625 48.375 \nQ 55.71875 40.765625 55.71875 27.296875 \nQ 55.71875 13.875 49.015625 6.21875 \nQ 42.328125 -1.421875 30.609375 -1.421875 \nQ 18.84375 -1.421875 12.171875 6.21875 \nQ 5.515625 13.875 5.515625 27.296875 \nQ 5.515625 40.765625 12.171875 48.375 \nQ 18.84375 56 30.609375 56 \nz\n\" id=\"DejaVuSans-111\"/>\n      </defs>\n      <use xlink:href=\"#DejaVuSans-65\"/>\n      <use x=\"68.408203\" xlink:href=\"#DejaVuSans-108\"/>\n      <use x=\"96.191406\" xlink:href=\"#DejaVuSans-103\"/>\n      <use x=\"159.667969\" xlink:href=\"#DejaVuSans-111\"/>\n      <use x=\"220.849609\" xlink:href=\"#DejaVuSans-32\"/>\n      <use x=\"252.636719\" xlink:href=\"#DejaVuSans-49\"/>\n     </g>\n    </g>\n    <g id=\"line2d_38\">\n     <path d=\"M 173.028829 118.965625 \nL 193.028829 118.965625 \n\" style=\"fill:none;stroke:#e377c2;stroke-linecap:square;stroke-width:1.5;\"/>\n    </g>\n    <g id=\"line2d_39\"/>\n    <g id=\"text_27\">\n     <!-- Algo 2 -->\n     <g transform=\"translate(201.028829 122.465625)scale(0.1 -0.1)\">\n      <use xlink:href=\"#DejaVuSans-65\"/>\n      <use x=\"68.408203\" xlink:href=\"#DejaVuSans-108\"/>\n      <use x=\"96.191406\" xlink:href=\"#DejaVuSans-103\"/>\n      <use x=\"159.667969\" xlink:href=\"#DejaVuSans-111\"/>\n      <use x=\"220.849609\" xlink:href=\"#DejaVuSans-32\"/>\n      <use x=\"252.636719\" xlink:href=\"#DejaVuSans-50\"/>\n     </g>\n    </g>\n   </g>\n  </g>\n </g>\n <defs>\n  <clipPath id=\"pdf7271d876\">\n   <rect height=\"195.84\" width=\"334.8\" x=\"45.285079\" y=\"17.798437\"/>\n  </clipPath>\n </defs>\n</svg>\n",
      "image/png": "[encoded data removed]"
     },
     "metadata": {
      "needs_background": "light"
     }
    }
   ],
   "metadata": {}
  },
  {
   "cell_type": "markdown",
   "source": [
    "---"
   ],
   "metadata": {}
  },
  {
   "cell_type": "markdown",
   "source": [
    "## Risk Analysis\n",
    "\n",
    "Determine the _risk_ of each portfolio:\n",
    "\n",
    "1. Create a box plot for each portfolio. \n",
    "2. Calculate the standard deviation for all portfolios\n",
    "4. Determine which portfolios are riskier than the S&P 500\n",
    "5. Calculate the Annualized Standard Deviation"
   ],
   "metadata": {}
  },
  {
   "cell_type": "markdown",
   "source": [
    "### Create a box plot for each portfolio\n"
   ],
   "metadata": {}
  },
  {
   "cell_type": "code",
   "execution_count": 136,
   "source": [
    "# Box plot to visually show risk\n",
    "#calculate the sharp ratio,  with the risk free rate at 0\n",
    "sharpe_ratios = (combined_df.mean() * 252) / (combined_df.std() * np.sqrt(252))\n",
    "combined_df.mean()\n",
    "combined_df.std()\n",
    "combined_df.plot(kind = \"box\", title = \"Box Plot For Each Portfolio\")"
   ],
   "outputs": [
    {
     "output_type": "execute_result",
     "data": {
      "text/plain": [
       "<AxesSubplot:title={'center':'Box Plot For Each Portfolio'}>"
      ]
     },
     "metadata": {},
     "execution_count": 136
    },
    {
     "output_type": "display_data",
     "data": {
      "text/plain": [
       "<Figure size 432x288 with 1 Axes>"
      ],
      "image/svg+xml": "<?xml version=\"1.0\" encoding=\"utf-8\" standalone=\"no\"?>\n<!DOCTYPE svg PUBLIC \"-//W3C//DTD SVG 1.1//EN\"\n  \"http://www.w3.org/Graphics/SVG/1.1/DTD/svg11.dtd\">\n<!-- Created with matplotlib (https://matplotlib.org/) -->\n<svg height=\"263.63625pt\" version=\"1.1\" viewBox=\"0 0 407.045871 263.63625\" width=\"407.045871pt\" xmlns=\"http://www.w3.org/2000/svg\" xmlns:xlink=\"http://www.w3.org/1999/xlink\">\n <metadata>\n  <rdf:RDF xmlns:cc=\"http://creativecommons.org/ns#\" xmlns:dc=\"http://purl.org/dc/elements/1.1/\" xmlns:rdf=\"http://www.w3.org/1999/02/22-rdf-syntax-ns#\">\n   <cc:Work>\n    <dc:type rdf:resource=\"http://purl.org/dc/dcmitype/StillImage\"/>\n    <dc:date>2021-09-22T20:34:23.879374</dc:date>\n    <dc:format>image/svg+xml</dc:format>\n    <dc:creator>\n     <cc:Agent>\n      <dc:title>Matplotlib v3.3.4, https://matplotlib.org/</dc:title>\n     </cc:Agent>\n    </dc:creator>\n   </cc:Work>\n  </rdf:RDF>\n </metadata>\n <defs>\n  <style type=\"text/css\">*{stroke-linecap:butt;stroke-linejoin:round;}</style>\n </defs>\n <g id=\"figure_1\">\n  <g id=\"patch_1\">\n   <path d=\"M 0 263.63625 \nL 407.045871 263.63625 \nL 407.045871 0 \nL 0 0 \nz\n\" style=\"fill:none;\"/>\n  </g>\n  <g id=\"axes_1\">\n   <g id=\"patch_2\">\n    <path d=\"M 65.045871 239.758125 \nL 399.845871 239.758125 \nL 399.845871 22.318125 \nL 65.045871 22.318125 \nz\n\" style=\"fill:#ffffff;\"/>\n   </g>\n   <g id=\"matplotlib.axis_1\">\n    <g id=\"xtick_1\">\n     <g id=\"line2d_1\">\n      <defs>\n       <path d=\"M 0 0 \nL 0 3.5 \n\" id=\"mcb4395e8ef\" style=\"stroke:#000000;stroke-width:0.8;\"/>\n      </defs>\n      <g>\n       <use style=\"stroke:#000000;stroke-width:0.8;\" x=\"88.960156\" xlink:href=\"#mcb4395e8ef\" y=\"239.758125\"/>\n      </g>\n     </g>\n     <g id=\"text_1\">\n      <!-- SOROS FUND MANAGEMENT LLC -->\n      <g transform=\"translate(7.2 254.356563)scale(0.1 -0.1)\">\n       <defs>\n        <path d=\"M 53.515625 70.515625 \nL 53.515625 60.890625 \nQ 47.90625 63.578125 42.921875 64.890625 \nQ 37.9375 66.21875 33.296875 66.21875 \nQ 25.25 66.21875 20.875 63.09375 \nQ 16.5 59.96875 16.5 54.203125 \nQ 16.5 49.359375 19.40625 46.890625 \nQ 22.3125 44.4375 30.421875 42.921875 \nL 36.375 41.703125 \nQ 47.40625 39.59375 52.65625 34.296875 \nQ 57.90625 29 57.90625 20.125 \nQ 57.90625 9.515625 50.796875 4.046875 \nQ 43.703125 -1.421875 29.984375 -1.421875 \nQ 24.8125 -1.421875 18.96875 -0.25 \nQ 13.140625 0.921875 6.890625 3.21875 \nL 6.890625 13.375 \nQ 12.890625 10.015625 18.65625 8.296875 \nQ 24.421875 6.59375 29.984375 6.59375 \nQ 38.421875 6.59375 43.015625 9.90625 \nQ 47.609375 13.234375 47.609375 19.390625 \nQ 47.609375 24.75 44.3125 27.78125 \nQ 41.015625 30.8125 33.5 32.328125 \nL 27.484375 33.5 \nQ 16.453125 35.6875 11.515625 40.375 \nQ 6.59375 45.0625 6.59375 53.421875 \nQ 6.59375 63.09375 13.40625 68.65625 \nQ 20.21875 74.21875 32.171875 74.21875 \nQ 37.3125 74.21875 42.625 73.28125 \nQ 47.953125 72.359375 53.515625 70.515625 \nz\n\" id=\"DejaVuSans-83\"/>\n        <path d=\"M 39.40625 66.21875 \nQ 28.65625 66.21875 22.328125 58.203125 \nQ 16.015625 50.203125 16.015625 36.375 \nQ 16.015625 22.609375 22.328125 14.59375 \nQ 28.65625 6.59375 39.40625 6.59375 \nQ 50.140625 6.59375 56.421875 14.59375 \nQ 62.703125 22.609375 62.703125 36.375 \nQ 62.703125 50.203125 56.421875 58.203125 \nQ 50.140625 66.21875 39.40625 66.21875 \nz\nM 39.40625 74.21875 \nQ 54.734375 74.21875 63.90625 63.9375 \nQ 73.09375 53.65625 73.09375 36.375 \nQ 73.09375 19.140625 63.90625 8.859375 \nQ 54.734375 -1.421875 39.40625 -1.421875 \nQ 24.03125 -1.421875 14.8125 8.828125 \nQ 5.609375 19.09375 5.609375 36.375 \nQ 5.609375 53.65625 14.8125 63.9375 \nQ 24.03125 74.21875 39.40625 74.21875 \nz\n\" id=\"DejaVuSans-79\"/>\n        <path d=\"M 44.390625 34.1875 \nQ 47.5625 33.109375 50.5625 29.59375 \nQ 53.5625 26.078125 56.59375 19.921875 \nL 66.609375 0 \nL 56 0 \nL 46.6875 18.703125 \nQ 43.0625 26.03125 39.671875 28.421875 \nQ 36.28125 30.8125 30.421875 30.8125 \nL 19.671875 30.8125 \nL 19.671875 0 \nL 9.8125 0 \nL 9.8125 72.90625 \nL 32.078125 72.90625 \nQ 44.578125 72.90625 50.734375 67.671875 \nQ 56.890625 62.453125 56.890625 51.90625 \nQ 56.890625 45.015625 53.6875 40.46875 \nQ 50.484375 35.9375 44.390625 34.1875 \nz\nM 19.671875 64.796875 \nL 19.671875 38.921875 \nL 32.078125 38.921875 \nQ 39.203125 38.921875 42.84375 42.21875 \nQ 46.484375 45.515625 46.484375 51.90625 \nQ 46.484375 58.296875 42.84375 61.546875 \nQ 39.203125 64.796875 32.078125 64.796875 \nz\n\" id=\"DejaVuSans-82\"/>\n        <path id=\"DejaVuSans-32\"/>\n        <path d=\"M 9.8125 72.90625 \nL 51.703125 72.90625 \nL 51.703125 64.59375 \nL 19.671875 64.59375 \nL 19.671875 43.109375 \nL 48.578125 43.109375 \nL 48.578125 34.8125 \nL 19.671875 34.8125 \nL 19.671875 0 \nL 9.8125 0 \nz\n\" id=\"DejaVuSans-70\"/>\n        <path d=\"M 8.6875 72.90625 \nL 18.609375 72.90625 \nL 18.609375 28.609375 \nQ 18.609375 16.890625 22.84375 11.734375 \nQ 27.09375 6.59375 36.625 6.59375 \nQ 46.09375 6.59375 50.34375 11.734375 \nQ 54.59375 16.890625 54.59375 28.609375 \nL 54.59375 72.90625 \nL 64.5 72.90625 \nL 64.5 27.390625 \nQ 64.5 13.140625 57.4375 5.859375 \nQ 50.390625 -1.421875 36.625 -1.421875 \nQ 22.796875 -1.421875 15.734375 5.859375 \nQ 8.6875 13.140625 8.6875 27.390625 \nz\n\" id=\"DejaVuSans-85\"/>\n        <path d=\"M 9.8125 72.90625 \nL 23.09375 72.90625 \nL 55.421875 11.921875 \nL 55.421875 72.90625 \nL 64.984375 72.90625 \nL 64.984375 0 \nL 51.703125 0 \nL 19.390625 60.984375 \nL 19.390625 0 \nL 9.8125 0 \nz\n\" id=\"DejaVuSans-78\"/>\n        <path d=\"M 19.671875 64.796875 \nL 19.671875 8.109375 \nL 31.59375 8.109375 \nQ 46.6875 8.109375 53.6875 14.9375 \nQ 60.6875 21.78125 60.6875 36.53125 \nQ 60.6875 51.171875 53.6875 57.984375 \nQ 46.6875 64.796875 31.59375 64.796875 \nz\nM 9.8125 72.90625 \nL 30.078125 72.90625 \nQ 51.265625 72.90625 61.171875 64.09375 \nQ 71.09375 55.28125 71.09375 36.53125 \nQ 71.09375 17.671875 61.125 8.828125 \nQ 51.171875 0 30.078125 0 \nL 9.8125 0 \nz\n\" id=\"DejaVuSans-68\"/>\n        <path d=\"M 9.8125 72.90625 \nL 24.515625 72.90625 \nL 43.109375 23.296875 \nL 61.8125 72.90625 \nL 76.515625 72.90625 \nL 76.515625 0 \nL 66.890625 0 \nL 66.890625 64.015625 \nL 48.09375 14.015625 \nL 38.1875 14.015625 \nL 19.390625 64.015625 \nL 19.390625 0 \nL 9.8125 0 \nz\n\" id=\"DejaVuSans-77\"/>\n        <path d=\"M 34.1875 63.1875 \nL 20.796875 26.90625 \nL 47.609375 26.90625 \nz\nM 28.609375 72.90625 \nL 39.796875 72.90625 \nL 67.578125 0 \nL 57.328125 0 \nL 50.6875 18.703125 \nL 17.828125 18.703125 \nL 11.1875 0 \nL 0.78125 0 \nz\n\" id=\"DejaVuSans-65\"/>\n        <path d=\"M 59.515625 10.40625 \nL 59.515625 29.984375 \nL 43.40625 29.984375 \nL 43.40625 38.09375 \nL 69.28125 38.09375 \nL 69.28125 6.78125 \nQ 63.578125 2.734375 56.6875 0.65625 \nQ 49.8125 -1.421875 42 -1.421875 \nQ 24.90625 -1.421875 15.25 8.5625 \nQ 5.609375 18.5625 5.609375 36.375 \nQ 5.609375 54.25 15.25 64.234375 \nQ 24.90625 74.21875 42 74.21875 \nQ 49.125 74.21875 55.546875 72.453125 \nQ 61.96875 70.703125 67.390625 67.28125 \nL 67.390625 56.78125 \nQ 61.921875 61.421875 55.765625 63.765625 \nQ 49.609375 66.109375 42.828125 66.109375 \nQ 29.4375 66.109375 22.71875 58.640625 \nQ 16.015625 51.171875 16.015625 36.375 \nQ 16.015625 21.625 22.71875 14.15625 \nQ 29.4375 6.6875 42.828125 6.6875 \nQ 48.046875 6.6875 52.140625 7.59375 \nQ 56.25 8.5 59.515625 10.40625 \nz\n\" id=\"DejaVuSans-71\"/>\n        <path d=\"M 9.8125 72.90625 \nL 55.90625 72.90625 \nL 55.90625 64.59375 \nL 19.671875 64.59375 \nL 19.671875 43.015625 \nL 54.390625 43.015625 \nL 54.390625 34.71875 \nL 19.671875 34.71875 \nL 19.671875 8.296875 \nL 56.78125 8.296875 \nL 56.78125 0 \nL 9.8125 0 \nz\n\" id=\"DejaVuSans-69\"/>\n        <path d=\"M -0.296875 72.90625 \nL 61.375 72.90625 \nL 61.375 64.59375 \nL 35.5 64.59375 \nL 35.5 0 \nL 25.59375 0 \nL 25.59375 64.59375 \nL -0.296875 64.59375 \nz\n\" id=\"DejaVuSans-84\"/>\n        <path d=\"M 9.8125 72.90625 \nL 19.671875 72.90625 \nL 19.671875 8.296875 \nL 55.171875 8.296875 \nL 55.171875 0 \nL 9.8125 0 \nz\n\" id=\"DejaVuSans-76\"/>\n        <path d=\"M 64.40625 67.28125 \nL 64.40625 56.890625 \nQ 59.421875 61.53125 53.78125 63.8125 \nQ 48.140625 66.109375 41.796875 66.109375 \nQ 29.296875 66.109375 22.65625 58.46875 \nQ 16.015625 50.828125 16.015625 36.375 \nQ 16.015625 21.96875 22.65625 14.328125 \nQ 29.296875 6.6875 41.796875 6.6875 \nQ 48.140625 6.6875 53.78125 8.984375 \nQ 59.421875 11.28125 64.40625 15.921875 \nL 64.40625 5.609375 \nQ 59.234375 2.09375 53.4375 0.328125 \nQ 47.65625 -1.421875 41.21875 -1.421875 \nQ 24.65625 -1.421875 15.125 8.703125 \nQ 5.609375 18.84375 5.609375 36.375 \nQ 5.609375 53.953125 15.125 64.078125 \nQ 24.65625 74.21875 41.21875 74.21875 \nQ 47.75 74.21875 53.53125 72.484375 \nQ 59.328125 70.75 64.40625 67.28125 \nz\n\" id=\"DejaVuSans-67\"/>\n       </defs>\n       <use xlink:href=\"#DejaVuSans-83\"/>\n       <use x=\"63.476562\" xlink:href=\"#DejaVuSans-79\"/>\n       <use x=\"142.1875\" xlink:href=\"#DejaVuSans-82\"/>\n       <use x=\"211.669922\" xlink:href=\"#DejaVuSans-79\"/>\n       <use x=\"290.380859\" xlink:href=\"#DejaVuSans-83\"/>\n       <use x=\"353.857422\" xlink:href=\"#DejaVuSans-32\"/>\n       <use x=\"385.644531\" xlink:href=\"#DejaVuSans-70\"/>\n       <use x=\"443.164062\" xlink:href=\"#DejaVuSans-85\"/>\n       <use x=\"516.357422\" xlink:href=\"#DejaVuSans-78\"/>\n       <use x=\"591.162109\" xlink:href=\"#DejaVuSans-68\"/>\n       <use x=\"668.164062\" xlink:href=\"#DejaVuSans-32\"/>\n       <use x=\"699.951172\" xlink:href=\"#DejaVuSans-77\"/>\n       <use x=\"786.230469\" xlink:href=\"#DejaVuSans-65\"/>\n       <use x=\"854.638672\" xlink:href=\"#DejaVuSans-78\"/>\n       <use x=\"929.443359\" xlink:href=\"#DejaVuSans-65\"/>\n       <use x=\"996.101562\" xlink:href=\"#DejaVuSans-71\"/>\n       <use x=\"1073.591797\" xlink:href=\"#DejaVuSans-69\"/>\n       <use x=\"1136.775391\" xlink:href=\"#DejaVuSans-77\"/>\n       <use x=\"1223.054688\" xlink:href=\"#DejaVuSans-69\"/>\n       <use x=\"1286.238281\" xlink:href=\"#DejaVuSans-78\"/>\n       <use x=\"1361.042969\" xlink:href=\"#DejaVuSans-84\"/>\n       <use x=\"1422.126953\" xlink:href=\"#DejaVuSans-32\"/>\n       <use x=\"1453.914062\" xlink:href=\"#DejaVuSans-76\"/>\n       <use x=\"1509.626953\" xlink:href=\"#DejaVuSans-76\"/>\n       <use x=\"1565.339844\" xlink:href=\"#DejaVuSans-67\"/>\n      </g>\n     </g>\n    </g>\n    <g id=\"xtick_2\">\n     <g id=\"line2d_2\">\n      <g>\n       <use style=\"stroke:#000000;stroke-width:0.8;\" x=\"136.788728\" xlink:href=\"#mcb4395e8ef\" y=\"239.758125\"/>\n      </g>\n     </g>\n     <g id=\"text_2\">\n      <!-- PAULSON &amp; CO.INC.  -->\n      <g transform=\"translate(85.597321 254.356563)scale(0.1 -0.1)\">\n       <defs>\n        <path d=\"M 19.671875 64.796875 \nL 19.671875 37.40625 \nL 32.078125 37.40625 \nQ 38.96875 37.40625 42.71875 40.96875 \nQ 46.484375 44.53125 46.484375 51.125 \nQ 46.484375 57.671875 42.71875 61.234375 \nQ 38.96875 64.796875 32.078125 64.796875 \nz\nM 9.8125 72.90625 \nL 32.078125 72.90625 \nQ 44.34375 72.90625 50.609375 67.359375 \nQ 56.890625 61.8125 56.890625 51.125 \nQ 56.890625 40.328125 50.609375 34.8125 \nQ 44.34375 29.296875 32.078125 29.296875 \nL 19.671875 29.296875 \nL 19.671875 0 \nL 9.8125 0 \nz\n\" id=\"DejaVuSans-80\"/>\n        <path d=\"M 24.3125 39.203125 \nQ 19.875 35.25 17.796875 31.3125 \nQ 15.71875 27.390625 15.71875 23.09375 \nQ 15.71875 15.96875 20.890625 11.234375 \nQ 26.078125 6.5 33.890625 6.5 \nQ 38.53125 6.5 42.578125 8.03125 \nQ 46.625 9.578125 50.203125 12.703125 \nz\nM 31.203125 44.671875 \nL 56 19.28125 \nQ 58.890625 23.640625 60.5 28.59375 \nQ 62.109375 33.546875 62.40625 39.109375 \nL 71.484375 39.109375 \nQ 70.90625 32.671875 68.359375 26.359375 \nQ 65.828125 20.0625 61.28125 13.921875 \nL 74.90625 0 \nL 62.59375 0 \nL 55.609375 7.171875 \nQ 50.53125 2.828125 44.96875 0.703125 \nQ 39.40625 -1.421875 33.015625 -1.421875 \nQ 21.234375 -1.421875 13.765625 5.296875 \nQ 6.296875 12.015625 6.296875 22.515625 \nQ 6.296875 28.765625 9.5625 34.25 \nQ 12.84375 39.75 19.390625 44.578125 \nQ 17.046875 47.65625 15.8125 50.703125 \nQ 14.59375 53.765625 14.59375 56.6875 \nQ 14.59375 64.59375 20.015625 69.40625 \nQ 25.4375 74.21875 34.421875 74.21875 \nQ 38.484375 74.21875 42.5 73.34375 \nQ 46.53125 72.46875 50.6875 70.703125 \nL 50.6875 61.8125 \nQ 46.4375 64.109375 42.578125 65.296875 \nQ 38.71875 66.5 35.40625 66.5 \nQ 30.28125 66.5 27.078125 63.78125 \nQ 23.875 61.078125 23.875 56.78125 \nQ 23.875 54.296875 25.3125 51.78125 \nQ 26.765625 49.265625 31.203125 44.671875 \nz\n\" id=\"DejaVuSans-38\"/>\n        <path d=\"M 10.6875 12.40625 \nL 21 12.40625 \nL 21 0 \nL 10.6875 0 \nz\n\" id=\"DejaVuSans-46\"/>\n        <path d=\"M 9.8125 72.90625 \nL 19.671875 72.90625 \nL 19.671875 0 \nL 9.8125 0 \nz\n\" id=\"DejaVuSans-73\"/>\n       </defs>\n       <use xlink:href=\"#DejaVuSans-80\"/>\n       <use x=\"53.927734\" xlink:href=\"#DejaVuSans-65\"/>\n       <use x=\"122.335938\" xlink:href=\"#DejaVuSans-85\"/>\n       <use x=\"195.529297\" xlink:href=\"#DejaVuSans-76\"/>\n       <use x=\"251.242188\" xlink:href=\"#DejaVuSans-83\"/>\n       <use x=\"314.71875\" xlink:href=\"#DejaVuSans-79\"/>\n       <use x=\"393.429688\" xlink:href=\"#DejaVuSans-78\"/>\n       <use x=\"468.234375\" xlink:href=\"#DejaVuSans-32\"/>\n       <use x=\"500.021484\" xlink:href=\"#DejaVuSans-38\"/>\n       <use x=\"578\" xlink:href=\"#DejaVuSans-32\"/>\n       <use x=\"609.787109\" xlink:href=\"#DejaVuSans-67\"/>\n       <use x=\"679.611328\" xlink:href=\"#DejaVuSans-79\"/>\n       <use x=\"754.322266\" xlink:href=\"#DejaVuSans-46\"/>\n       <use x=\"786.109375\" xlink:href=\"#DejaVuSans-73\"/>\n       <use x=\"815.601562\" xlink:href=\"#DejaVuSans-78\"/>\n       <use x=\"890.40625\" xlink:href=\"#DejaVuSans-67\"/>\n       <use x=\"960.230469\" xlink:href=\"#DejaVuSans-46\"/>\n       <use x=\"992.017578\" xlink:href=\"#DejaVuSans-32\"/>\n      </g>\n     </g>\n    </g>\n    <g id=\"xtick_3\">\n     <g id=\"line2d_3\">\n      <g>\n       <use style=\"stroke:#000000;stroke-width:0.8;\" x=\"184.617299\" xlink:href=\"#mcb4395e8ef\" y=\"239.758125\"/>\n      </g>\n     </g>\n     <g id=\"text_3\">\n      <!-- TIGER GLOBAL MANAGEMENT LLC -->\n      <g transform=\"translate(99.589174 254.356563)scale(0.1 -0.1)\">\n       <defs>\n        <path d=\"M 19.671875 34.8125 \nL 19.671875 8.109375 \nL 35.5 8.109375 \nQ 43.453125 8.109375 47.28125 11.40625 \nQ 51.125 14.703125 51.125 21.484375 \nQ 51.125 28.328125 47.28125 31.5625 \nQ 43.453125 34.8125 35.5 34.8125 \nz\nM 19.671875 64.796875 \nL 19.671875 42.828125 \nL 34.28125 42.828125 \nQ 41.5 42.828125 45.03125 45.53125 \nQ 48.578125 48.25 48.578125 53.8125 \nQ 48.578125 59.328125 45.03125 62.0625 \nQ 41.5 64.796875 34.28125 64.796875 \nz\nM 9.8125 72.90625 \nL 35.015625 72.90625 \nQ 46.296875 72.90625 52.390625 68.21875 \nQ 58.5 63.53125 58.5 54.890625 \nQ 58.5 48.1875 55.375 44.234375 \nQ 52.25 40.28125 46.1875 39.3125 \nQ 53.46875 37.75 57.5 32.78125 \nQ 61.53125 27.828125 61.53125 20.40625 \nQ 61.53125 10.640625 54.890625 5.3125 \nQ 48.25 0 35.984375 0 \nL 9.8125 0 \nz\n\" id=\"DejaVuSans-66\"/>\n       </defs>\n       <use xlink:href=\"#DejaVuSans-84\"/>\n       <use x=\"61.083984\" xlink:href=\"#DejaVuSans-73\"/>\n       <use x=\"90.576172\" xlink:href=\"#DejaVuSans-71\"/>\n       <use x=\"168.066406\" xlink:href=\"#DejaVuSans-69\"/>\n       <use x=\"231.25\" xlink:href=\"#DejaVuSans-82\"/>\n       <use x=\"300.732422\" xlink:href=\"#DejaVuSans-32\"/>\n       <use x=\"332.519531\" xlink:href=\"#DejaVuSans-71\"/>\n       <use x=\"410.009766\" xlink:href=\"#DejaVuSans-76\"/>\n       <use x=\"462.097656\" xlink:href=\"#DejaVuSans-79\"/>\n       <use x=\"540.808594\" xlink:href=\"#DejaVuSans-66\"/>\n       <use x=\"609.412109\" xlink:href=\"#DejaVuSans-65\"/>\n       <use x=\"677.820312\" xlink:href=\"#DejaVuSans-76\"/>\n       <use x=\"733.533203\" xlink:href=\"#DejaVuSans-32\"/>\n       <use x=\"765.320312\" xlink:href=\"#DejaVuSans-77\"/>\n       <use x=\"851.599609\" xlink:href=\"#DejaVuSans-65\"/>\n       <use x=\"920.007812\" xlink:href=\"#DejaVuSans-78\"/>\n       <use x=\"994.8125\" xlink:href=\"#DejaVuSans-65\"/>\n       <use x=\"1061.470703\" xlink:href=\"#DejaVuSans-71\"/>\n       <use x=\"1138.960938\" xlink:href=\"#DejaVuSans-69\"/>\n       <use x=\"1202.144531\" xlink:href=\"#DejaVuSans-77\"/>\n       <use x=\"1288.423828\" xlink:href=\"#DejaVuSans-69\"/>\n       <use x=\"1351.607422\" xlink:href=\"#DejaVuSans-78\"/>\n       <use x=\"1426.412109\" xlink:href=\"#DejaVuSans-84\"/>\n       <use x=\"1487.496094\" xlink:href=\"#DejaVuSans-32\"/>\n       <use x=\"1519.283203\" xlink:href=\"#DejaVuSans-76\"/>\n       <use x=\"1574.996094\" xlink:href=\"#DejaVuSans-76\"/>\n       <use x=\"1630.708984\" xlink:href=\"#DejaVuSans-67\"/>\n      </g>\n     </g>\n    </g>\n    <g id=\"xtick_4\">\n     <g id=\"line2d_4\">\n      <g>\n       <use style=\"stroke:#000000;stroke-width:0.8;\" x=\"232.445871\" xlink:href=\"#mcb4395e8ef\" y=\"239.758125\"/>\n      </g>\n     </g>\n     <g id=\"text_4\">\n      <!-- BERKSHIRE HATHAWAY INC -->\n      <g transform=\"translate(164.666964 254.356563)scale(0.1 -0.1)\">\n       <defs>\n        <path d=\"M 9.8125 72.90625 \nL 19.671875 72.90625 \nL 19.671875 42.09375 \nL 52.390625 72.90625 \nL 65.09375 72.90625 \nL 28.90625 38.921875 \nL 67.671875 0 \nL 54.6875 0 \nL 19.671875 35.109375 \nL 19.671875 0 \nL 9.8125 0 \nz\n\" id=\"DejaVuSans-75\"/>\n        <path d=\"M 9.8125 72.90625 \nL 19.671875 72.90625 \nL 19.671875 43.015625 \nL 55.515625 43.015625 \nL 55.515625 72.90625 \nL 65.375 72.90625 \nL 65.375 0 \nL 55.515625 0 \nL 55.515625 34.71875 \nL 19.671875 34.71875 \nL 19.671875 0 \nL 9.8125 0 \nz\n\" id=\"DejaVuSans-72\"/>\n        <path d=\"M 3.328125 72.90625 \nL 13.28125 72.90625 \nL 28.609375 11.28125 \nL 43.890625 72.90625 \nL 54.984375 72.90625 \nL 70.3125 11.28125 \nL 85.59375 72.90625 \nL 95.609375 72.90625 \nL 77.296875 0 \nL 64.890625 0 \nL 49.515625 63.28125 \nL 33.984375 0 \nL 21.578125 0 \nz\n\" id=\"DejaVuSans-87\"/>\n        <path d=\"M -0.203125 72.90625 \nL 10.40625 72.90625 \nL 30.609375 42.921875 \nL 50.6875 72.90625 \nL 61.28125 72.90625 \nL 35.5 34.71875 \nL 35.5 0 \nL 25.59375 0 \nL 25.59375 34.71875 \nz\n\" id=\"DejaVuSans-89\"/>\n       </defs>\n       <use xlink:href=\"#DejaVuSans-66\"/>\n       <use x=\"68.603516\" xlink:href=\"#DejaVuSans-69\"/>\n       <use x=\"131.787109\" xlink:href=\"#DejaVuSans-82\"/>\n       <use x=\"201.269531\" xlink:href=\"#DejaVuSans-75\"/>\n       <use x=\"266.845703\" xlink:href=\"#DejaVuSans-83\"/>\n       <use x=\"330.322266\" xlink:href=\"#DejaVuSans-72\"/>\n       <use x=\"405.517578\" xlink:href=\"#DejaVuSans-73\"/>\n       <use x=\"435.009766\" xlink:href=\"#DejaVuSans-82\"/>\n       <use x=\"504.492188\" xlink:href=\"#DejaVuSans-69\"/>\n       <use x=\"567.675781\" xlink:href=\"#DejaVuSans-32\"/>\n       <use x=\"599.462891\" xlink:href=\"#DejaVuSans-72\"/>\n       <use x=\"674.658203\" xlink:href=\"#DejaVuSans-65\"/>\n       <use x=\"735.316406\" xlink:href=\"#DejaVuSans-84\"/>\n       <use x=\"796.400391\" xlink:href=\"#DejaVuSans-72\"/>\n       <use x=\"871.595703\" xlink:href=\"#DejaVuSans-65\"/>\n       <use x=\"934.503906\" xlink:href=\"#DejaVuSans-87\"/>\n       <use x=\"1027.880859\" xlink:href=\"#DejaVuSans-65\"/>\n       <use x=\"1088.539062\" xlink:href=\"#DejaVuSans-89\"/>\n       <use x=\"1149.623047\" xlink:href=\"#DejaVuSans-32\"/>\n       <use x=\"1181.410156\" xlink:href=\"#DejaVuSans-73\"/>\n       <use x=\"1210.902344\" xlink:href=\"#DejaVuSans-78\"/>\n       <use x=\"1285.707031\" xlink:href=\"#DejaVuSans-67\"/>\n      </g>\n     </g>\n    </g>\n    <g id=\"xtick_5\">\n     <g id=\"line2d_5\">\n      <g>\n       <use style=\"stroke:#000000;stroke-width:0.8;\" x=\"280.274442\" xlink:href=\"#mcb4395e8ef\" y=\"239.758125\"/>\n      </g>\n     </g>\n     <g id=\"text_5\">\n      <!-- SP500 DR -->\n      <g transform=\"translate(255.628348 254.356563)scale(0.1 -0.1)\">\n       <defs>\n        <path d=\"M 10.796875 72.90625 \nL 49.515625 72.90625 \nL 49.515625 64.59375 \nL 19.828125 64.59375 \nL 19.828125 46.734375 \nQ 21.96875 47.46875 24.109375 47.828125 \nQ 26.265625 48.1875 28.421875 48.1875 \nQ 40.625 48.1875 47.75 41.5 \nQ 54.890625 34.8125 54.890625 23.390625 \nQ 54.890625 11.625 47.5625 5.09375 \nQ 40.234375 -1.421875 26.90625 -1.421875 \nQ 22.3125 -1.421875 17.546875 -0.640625 \nQ 12.796875 0.140625 7.71875 1.703125 \nL 7.71875 11.625 \nQ 12.109375 9.234375 16.796875 8.0625 \nQ 21.484375 6.890625 26.703125 6.890625 \nQ 35.15625 6.890625 40.078125 11.328125 \nQ 45.015625 15.765625 45.015625 23.390625 \nQ 45.015625 31 40.078125 35.4375 \nQ 35.15625 39.890625 26.703125 39.890625 \nQ 22.75 39.890625 18.8125 39.015625 \nQ 14.890625 38.140625 10.796875 36.28125 \nz\n\" id=\"DejaVuSans-53\"/>\n        <path d=\"M 31.78125 66.40625 \nQ 24.171875 66.40625 20.328125 58.90625 \nQ 16.5 51.421875 16.5 36.375 \nQ 16.5 21.390625 20.328125 13.890625 \nQ 24.171875 6.390625 31.78125 6.390625 \nQ 39.453125 6.390625 43.28125 13.890625 \nQ 47.125 21.390625 47.125 36.375 \nQ 47.125 51.421875 43.28125 58.90625 \nQ 39.453125 66.40625 31.78125 66.40625 \nz\nM 31.78125 74.21875 \nQ 44.046875 74.21875 50.515625 64.515625 \nQ 56.984375 54.828125 56.984375 36.375 \nQ 56.984375 17.96875 50.515625 8.265625 \nQ 44.046875 -1.421875 31.78125 -1.421875 \nQ 19.53125 -1.421875 13.0625 8.265625 \nQ 6.59375 17.96875 6.59375 36.375 \nQ 6.59375 54.828125 13.0625 64.515625 \nQ 19.53125 74.21875 31.78125 74.21875 \nz\n\" id=\"DejaVuSans-48\"/>\n       </defs>\n       <use xlink:href=\"#DejaVuSans-83\"/>\n       <use x=\"63.476562\" xlink:href=\"#DejaVuSans-80\"/>\n       <use x=\"123.779297\" xlink:href=\"#DejaVuSans-53\"/>\n       <use x=\"187.402344\" xlink:href=\"#DejaVuSans-48\"/>\n       <use x=\"251.025391\" xlink:href=\"#DejaVuSans-48\"/>\n       <use x=\"314.648438\" xlink:href=\"#DejaVuSans-32\"/>\n       <use x=\"346.435547\" xlink:href=\"#DejaVuSans-68\"/>\n       <use x=\"423.4375\" xlink:href=\"#DejaVuSans-82\"/>\n      </g>\n     </g>\n    </g>\n    <g id=\"xtick_6\">\n     <g id=\"line2d_6\">\n      <g>\n       <use style=\"stroke:#000000;stroke-width:0.8;\" x=\"328.103013\" xlink:href=\"#mcb4395e8ef\" y=\"239.758125\"/>\n      </g>\n     </g>\n     <g id=\"text_6\">\n      <!-- Algo 1 -->\n      <g transform=\"translate(312.289732 254.356563)scale(0.1 -0.1)\">\n       <defs>\n        <path d=\"M 9.421875 75.984375 \nL 18.40625 75.984375 \nL 18.40625 0 \nL 9.421875 0 \nz\n\" id=\"DejaVuSans-108\"/>\n        <path d=\"M 45.40625 27.984375 \nQ 45.40625 37.75 41.375 43.109375 \nQ 37.359375 48.484375 30.078125 48.484375 \nQ 22.859375 48.484375 18.828125 43.109375 \nQ 14.796875 37.75 14.796875 27.984375 \nQ 14.796875 18.265625 18.828125 12.890625 \nQ 22.859375 7.515625 30.078125 7.515625 \nQ 37.359375 7.515625 41.375 12.890625 \nQ 45.40625 18.265625 45.40625 27.984375 \nz\nM 54.390625 6.78125 \nQ 54.390625 -7.171875 48.1875 -13.984375 \nQ 42 -20.796875 29.203125 -20.796875 \nQ 24.46875 -20.796875 20.265625 -20.09375 \nQ 16.0625 -19.390625 12.109375 -17.921875 \nL 12.109375 -9.1875 \nQ 16.0625 -11.328125 19.921875 -12.34375 \nQ 23.78125 -13.375 27.78125 -13.375 \nQ 36.625 -13.375 41.015625 -8.765625 \nQ 45.40625 -4.15625 45.40625 5.171875 \nL 45.40625 9.625 \nQ 42.625 4.78125 38.28125 2.390625 \nQ 33.9375 0 27.875 0 \nQ 17.828125 0 11.671875 7.65625 \nQ 5.515625 15.328125 5.515625 27.984375 \nQ 5.515625 40.671875 11.671875 48.328125 \nQ 17.828125 56 27.875 56 \nQ 33.9375 56 38.28125 53.609375 \nQ 42.625 51.21875 45.40625 46.390625 \nL 45.40625 54.6875 \nL 54.390625 54.6875 \nz\n\" id=\"DejaVuSans-103\"/>\n        <path d=\"M 30.609375 48.390625 \nQ 23.390625 48.390625 19.1875 42.75 \nQ 14.984375 37.109375 14.984375 27.296875 \nQ 14.984375 17.484375 19.15625 11.84375 \nQ 23.34375 6.203125 30.609375 6.203125 \nQ 37.796875 6.203125 41.984375 11.859375 \nQ 46.1875 17.53125 46.1875 27.296875 \nQ 46.1875 37.015625 41.984375 42.703125 \nQ 37.796875 48.390625 30.609375 48.390625 \nz\nM 30.609375 56 \nQ 42.328125 56 49.015625 48.375 \nQ 55.71875 40.765625 55.71875 27.296875 \nQ 55.71875 13.875 49.015625 6.21875 \nQ 42.328125 -1.421875 30.609375 -1.421875 \nQ 18.84375 -1.421875 12.171875 6.21875 \nQ 5.515625 13.875 5.515625 27.296875 \nQ 5.515625 40.765625 12.171875 48.375 \nQ 18.84375 56 30.609375 56 \nz\n\" id=\"DejaVuSans-111\"/>\n        <path d=\"M 12.40625 8.296875 \nL 28.515625 8.296875 \nL 28.515625 63.921875 \nL 10.984375 60.40625 \nL 10.984375 69.390625 \nL 28.421875 72.90625 \nL 38.28125 72.90625 \nL 38.28125 8.296875 \nL 54.390625 8.296875 \nL 54.390625 0 \nL 12.40625 0 \nz\n\" id=\"DejaVuSans-49\"/>\n       </defs>\n       <use xlink:href=\"#DejaVuSans-65\"/>\n       <use x=\"68.408203\" xlink:href=\"#DejaVuSans-108\"/>\n       <use x=\"96.191406\" xlink:href=\"#DejaVuSans-103\"/>\n       <use x=\"159.667969\" xlink:href=\"#DejaVuSans-111\"/>\n       <use x=\"220.849609\" xlink:href=\"#DejaVuSans-32\"/>\n       <use x=\"252.636719\" xlink:href=\"#DejaVuSans-49\"/>\n      </g>\n     </g>\n    </g>\n    <g id=\"xtick_7\">\n     <g id=\"line2d_7\">\n      <g>\n       <use style=\"stroke:#000000;stroke-width:0.8;\" x=\"375.931585\" xlink:href=\"#mcb4395e8ef\" y=\"239.758125\"/>\n      </g>\n     </g>\n     <g id=\"text_7\">\n      <!-- Algo 2 -->\n      <g transform=\"translate(360.118304 254.356563)scale(0.1 -0.1)\">\n       <defs>\n        <path d=\"M 19.1875 8.296875 \nL 53.609375 8.296875 \nL 53.609375 0 \nL 7.328125 0 \nL 7.328125 8.296875 \nQ 12.9375 14.109375 22.625 23.890625 \nQ 32.328125 33.6875 34.8125 36.53125 \nQ 39.546875 41.84375 41.421875 45.53125 \nQ 43.3125 49.21875 43.3125 52.78125 \nQ 43.3125 58.59375 39.234375 62.25 \nQ 35.15625 65.921875 28.609375 65.921875 \nQ 23.96875 65.921875 18.8125 64.3125 \nQ 13.671875 62.703125 7.8125 59.421875 \nL 7.8125 69.390625 \nQ 13.765625 71.78125 18.9375 73 \nQ 24.125 74.21875 28.421875 74.21875 \nQ 39.75 74.21875 46.484375 68.546875 \nQ 53.21875 62.890625 53.21875 53.421875 \nQ 53.21875 48.921875 51.53125 44.890625 \nQ 49.859375 40.875 45.40625 35.40625 \nQ 44.1875 33.984375 37.640625 27.21875 \nQ 31.109375 20.453125 19.1875 8.296875 \nz\n\" id=\"DejaVuSans-50\"/>\n       </defs>\n       <use xlink:href=\"#DejaVuSans-65\"/>\n       <use x=\"68.408203\" xlink:href=\"#DejaVuSans-108\"/>\n       <use x=\"96.191406\" xlink:href=\"#DejaVuSans-103\"/>\n       <use x=\"159.667969\" xlink:href=\"#DejaVuSans-111\"/>\n       <use x=\"220.849609\" xlink:href=\"#DejaVuSans-32\"/>\n       <use x=\"252.636719\" xlink:href=\"#DejaVuSans-50\"/>\n      </g>\n     </g>\n    </g>\n   </g>\n   <g id=\"matplotlib.axis_2\">\n    <g id=\"ytick_1\">\n     <g id=\"line2d_8\">\n      <defs>\n       <path d=\"M 0 0 \nL -3.5 0 \n\" id=\"m4d6972c095\" style=\"stroke:#000000;stroke-width:0.8;\"/>\n      </defs>\n      <g>\n       <use style=\"stroke:#000000;stroke-width:0.8;\" x=\"65.045871\" xlink:href=\"#m4d6972c095\" y=\"229.865068\"/>\n      </g>\n     </g>\n     <g id=\"text_8\">\n      <!-- 0 -->\n      <g transform=\"translate(51.683371 233.664287)scale(0.1 -0.1)\">\n       <use xlink:href=\"#DejaVuSans-48\"/>\n      </g>\n     </g>\n    </g>\n    <g id=\"ytick_2\">\n     <g id=\"line2d_9\">\n      <g>\n       <use style=\"stroke:#000000;stroke-width:0.8;\" x=\"65.045871\" xlink:href=\"#m4d6972c095\" y=\"196.17644\"/>\n      </g>\n     </g>\n     <g id=\"text_9\">\n      <!-- 500 -->\n      <g transform=\"translate(38.958371 199.975659)scale(0.1 -0.1)\">\n       <use xlink:href=\"#DejaVuSans-53\"/>\n       <use x=\"63.623047\" xlink:href=\"#DejaVuSans-48\"/>\n       <use x=\"127.246094\" xlink:href=\"#DejaVuSans-48\"/>\n      </g>\n     </g>\n    </g>\n    <g id=\"ytick_3\">\n     <g id=\"line2d_10\">\n      <g>\n       <use style=\"stroke:#000000;stroke-width:0.8;\" x=\"65.045871\" xlink:href=\"#m4d6972c095\" y=\"162.487813\"/>\n      </g>\n     </g>\n     <g id=\"text_10\">\n      <!-- 1000 -->\n      <g transform=\"translate(32.595871 166.287031)scale(0.1 -0.1)\">\n       <use xlink:href=\"#DejaVuSans-49\"/>\n       <use x=\"63.623047\" xlink:href=\"#DejaVuSans-48\"/>\n       <use x=\"127.246094\" xlink:href=\"#DejaVuSans-48\"/>\n       <use x=\"190.869141\" xlink:href=\"#DejaVuSans-48\"/>\n      </g>\n     </g>\n    </g>\n    <g id=\"ytick_4\">\n     <g id=\"line2d_11\">\n      <g>\n       <use style=\"stroke:#000000;stroke-width:0.8;\" x=\"65.045871\" xlink:href=\"#m4d6972c095\" y=\"128.799185\"/>\n      </g>\n     </g>\n     <g id=\"text_11\">\n      <!-- 1500 -->\n      <g transform=\"translate(32.595871 132.598404)scale(0.1 -0.1)\">\n       <use xlink:href=\"#DejaVuSans-49\"/>\n       <use x=\"63.623047\" xlink:href=\"#DejaVuSans-53\"/>\n       <use x=\"127.246094\" xlink:href=\"#DejaVuSans-48\"/>\n       <use x=\"190.869141\" xlink:href=\"#DejaVuSans-48\"/>\n      </g>\n     </g>\n    </g>\n    <g id=\"ytick_5\">\n     <g id=\"line2d_12\">\n      <g>\n       <use style=\"stroke:#000000;stroke-width:0.8;\" x=\"65.045871\" xlink:href=\"#m4d6972c095\" y=\"95.110557\"/>\n      </g>\n     </g>\n     <g id=\"text_12\">\n      <!-- 2000 -->\n      <g transform=\"translate(32.595871 98.909776)scale(0.1 -0.1)\">\n       <use xlink:href=\"#DejaVuSans-50\"/>\n       <use x=\"63.623047\" xlink:href=\"#DejaVuSans-48\"/>\n       <use x=\"127.246094\" xlink:href=\"#DejaVuSans-48\"/>\n       <use x=\"190.869141\" xlink:href=\"#DejaVuSans-48\"/>\n      </g>\n     </g>\n    </g>\n    <g id=\"ytick_6\">\n     <g id=\"line2d_13\">\n      <g>\n       <use style=\"stroke:#000000;stroke-width:0.8;\" x=\"65.045871\" xlink:href=\"#m4d6972c095\" y=\"61.421929\"/>\n      </g>\n     </g>\n     <g id=\"text_13\">\n      <!-- 2500 -->\n      <g transform=\"translate(32.595871 65.221148)scale(0.1 -0.1)\">\n       <use xlink:href=\"#DejaVuSans-50\"/>\n       <use x=\"63.623047\" xlink:href=\"#DejaVuSans-53\"/>\n       <use x=\"127.246094\" xlink:href=\"#DejaVuSans-48\"/>\n       <use x=\"190.869141\" xlink:href=\"#DejaVuSans-48\"/>\n      </g>\n     </g>\n    </g>\n    <g id=\"ytick_7\">\n     <g id=\"line2d_14\">\n      <g>\n       <use style=\"stroke:#000000;stroke-width:0.8;\" x=\"65.045871\" xlink:href=\"#m4d6972c095\" y=\"27.733302\"/>\n      </g>\n     </g>\n     <g id=\"text_14\">\n      <!-- 3000 -->\n      <g transform=\"translate(32.595871 31.532521)scale(0.1 -0.1)\">\n       <defs>\n        <path d=\"M 40.578125 39.3125 \nQ 47.65625 37.796875 51.625 33 \nQ 55.609375 28.21875 55.609375 21.1875 \nQ 55.609375 10.40625 48.1875 4.484375 \nQ 40.765625 -1.421875 27.09375 -1.421875 \nQ 22.515625 -1.421875 17.65625 -0.515625 \nQ 12.796875 0.390625 7.625 2.203125 \nL 7.625 11.71875 \nQ 11.71875 9.328125 16.59375 8.109375 \nQ 21.484375 6.890625 26.8125 6.890625 \nQ 36.078125 6.890625 40.9375 10.546875 \nQ 45.796875 14.203125 45.796875 21.1875 \nQ 45.796875 27.640625 41.28125 31.265625 \nQ 36.765625 34.90625 28.71875 34.90625 \nL 20.21875 34.90625 \nL 20.21875 43.015625 \nL 29.109375 43.015625 \nQ 36.375 43.015625 40.234375 45.921875 \nQ 44.09375 48.828125 44.09375 54.296875 \nQ 44.09375 59.90625 40.109375 62.90625 \nQ 36.140625 65.921875 28.71875 65.921875 \nQ 24.65625 65.921875 20.015625 65.03125 \nQ 15.375 64.15625 9.8125 62.3125 \nL 9.8125 71.09375 \nQ 15.4375 72.65625 20.34375 73.4375 \nQ 25.25 74.21875 29.59375 74.21875 \nQ 40.828125 74.21875 47.359375 69.109375 \nQ 53.90625 64.015625 53.90625 55.328125 \nQ 53.90625 49.265625 50.4375 45.09375 \nQ 46.96875 40.921875 40.578125 39.3125 \nz\n\" id=\"DejaVuSans-51\"/>\n       </defs>\n       <use xlink:href=\"#DejaVuSans-51\"/>\n       <use x=\"63.623047\" xlink:href=\"#DejaVuSans-48\"/>\n       <use x=\"127.246094\" xlink:href=\"#DejaVuSans-48\"/>\n       <use x=\"190.869141\" xlink:href=\"#DejaVuSans-48\"/>\n      </g>\n     </g>\n    </g>\n   </g>\n   <g id=\"line2d_15\">\n    <path clip-path=\"url(#pb46ec09a01)\" d=\"M 77.003013 229.865313 \nL 100.917299 229.865313 \nL 100.917299 229.864776 \nL 77.003013 229.864776 \nL 77.003013 229.865313 \n\" style=\"fill:none;stroke:#1f77b4;stroke-linecap:square;\"/>\n   </g>\n   <g id=\"line2d_16\">\n    <path clip-path=\"url(#pb46ec09a01)\" d=\"M 88.960156 229.865313 \nL 88.960156 229.866116 \n\" style=\"fill:none;stroke:#1f77b4;stroke-linecap:square;\"/>\n   </g>\n   <g id=\"line2d_17\">\n    <path clip-path=\"url(#pb46ec09a01)\" d=\"M 88.960156 229.864776 \nL 88.960156 229.863976 \n\" style=\"fill:none;stroke:#1f77b4;stroke-linecap:square;\"/>\n   </g>\n   <g id=\"line2d_18\">\n    <path clip-path=\"url(#pb46ec09a01)\" d=\"M 82.981585 229.866116 \nL 94.938728 229.866116 \n\" style=\"fill:none;stroke:#000000;stroke-linecap:square;\"/>\n   </g>\n   <g id=\"line2d_19\">\n    <path clip-path=\"url(#pb46ec09a01)\" d=\"M 82.981585 229.863976 \nL 94.938728 229.863976 \n\" style=\"fill:none;stroke:#000000;stroke-linecap:square;\"/>\n   </g>\n   <g id=\"line2d_20\">\n    <defs>\n     <path d=\"M 0 3 \nC 0.795609 3 1.55874 2.683901 2.12132 2.12132 \nC 2.683901 1.55874 3 0.795609 3 0 \nC 3 -0.795609 2.683901 -1.55874 2.12132 -2.12132 \nC 1.55874 -2.683901 0.795609 -3 0 -3 \nC -0.795609 -3 -1.55874 -2.683901 -2.12132 -2.12132 \nC -2.683901 -1.55874 -3 -0.795609 -3 0 \nC -3 0.795609 -2.683901 1.55874 -2.12132 2.12132 \nC -1.55874 2.683901 -0.795609 3 0 3 \nz\n\" id=\"ma9a187821d\" style=\"stroke:#000000;\"/>\n    </defs>\n    <g clip-path=\"url(#pb46ec09a01)\">\n     <use style=\"fill-opacity:0;stroke:#000000;\" x=\"88.960156\" xlink:href=\"#ma9a187821d\" y=\"229.866357\"/>\n     <use style=\"fill-opacity:0;stroke:#000000;\" x=\"88.960156\" xlink:href=\"#ma9a187821d\" y=\"229.866228\"/>\n     <use style=\"fill-opacity:0;stroke:#000000;\" x=\"88.960156\" xlink:href=\"#ma9a187821d\" y=\"229.866364\"/>\n     <use style=\"fill-opacity:0;stroke:#000000;\" x=\"88.960156\" xlink:href=\"#ma9a187821d\" y=\"229.866203\"/>\n     <use style=\"fill-opacity:0;stroke:#000000;\" x=\"88.960156\" xlink:href=\"#ma9a187821d\" y=\"229.867051\"/>\n     <use style=\"fill-opacity:0;stroke:#000000;\" x=\"88.960156\" xlink:href=\"#ma9a187821d\" y=\"229.866347\"/>\n     <use style=\"fill-opacity:0;stroke:#000000;\" x=\"88.960156\" xlink:href=\"#ma9a187821d\" y=\"229.867125\"/>\n     <use style=\"fill-opacity:0;stroke:#000000;\" x=\"88.960156\" xlink:href=\"#ma9a187821d\" y=\"229.866449\"/>\n     <use style=\"fill-opacity:0;stroke:#000000;\" x=\"88.960156\" xlink:href=\"#ma9a187821d\" y=\"229.866569\"/>\n     <use style=\"fill-opacity:0;stroke:#000000;\" x=\"88.960156\" xlink:href=\"#ma9a187821d\" y=\"229.866336\"/>\n     <use style=\"fill-opacity:0;stroke:#000000;\" x=\"88.960156\" xlink:href=\"#ma9a187821d\" y=\"229.866167\"/>\n     <use style=\"fill-opacity:0;stroke:#000000;\" x=\"88.960156\" xlink:href=\"#ma9a187821d\" y=\"229.866276\"/>\n     <use style=\"fill-opacity:0;stroke:#000000;\" x=\"88.960156\" xlink:href=\"#ma9a187821d\" y=\"229.866296\"/>\n     <use style=\"fill-opacity:0;stroke:#000000;\" x=\"88.960156\" xlink:href=\"#ma9a187821d\" y=\"229.86685\"/>\n     <use style=\"fill-opacity:0;stroke:#000000;\" x=\"88.960156\" xlink:href=\"#ma9a187821d\" y=\"229.866248\"/>\n     <use style=\"fill-opacity:0;stroke:#000000;\" x=\"88.960156\" xlink:href=\"#ma9a187821d\" y=\"229.867145\"/>\n     <use style=\"fill-opacity:0;stroke:#000000;\" x=\"88.960156\" xlink:href=\"#ma9a187821d\" y=\"229.866431\"/>\n     <use style=\"fill-opacity:0;stroke:#000000;\" x=\"88.960156\" xlink:href=\"#ma9a187821d\" y=\"229.866151\"/>\n     <use style=\"fill-opacity:0;stroke:#000000;\" x=\"88.960156\" xlink:href=\"#ma9a187821d\" y=\"229.866169\"/>\n     <use style=\"fill-opacity:0;stroke:#000000;\" x=\"88.960156\" xlink:href=\"#ma9a187821d\" y=\"229.866195\"/>\n     <use style=\"fill-opacity:0;stroke:#000000;\" x=\"88.960156\" xlink:href=\"#ma9a187821d\" y=\"229.866806\"/>\n     <use style=\"fill-opacity:0;stroke:#000000;\" x=\"88.960156\" xlink:href=\"#ma9a187821d\" y=\"229.86686\"/>\n     <use style=\"fill-opacity:0;stroke:#000000;\" x=\"88.960156\" xlink:href=\"#ma9a187821d\" y=\"229.866303\"/>\n     <use style=\"fill-opacity:0;stroke:#000000;\" x=\"88.960156\" xlink:href=\"#ma9a187821d\" y=\"229.866266\"/>\n     <use style=\"fill-opacity:0;stroke:#000000;\" x=\"88.960156\" xlink:href=\"#ma9a187821d\" y=\"229.866184\"/>\n     <use style=\"fill-opacity:0;stroke:#000000;\" x=\"88.960156\" xlink:href=\"#ma9a187821d\" y=\"229.866284\"/>\n     <use style=\"fill-opacity:0;stroke:#000000;\" x=\"88.960156\" xlink:href=\"#ma9a187821d\" y=\"229.866564\"/>\n     <use style=\"fill-opacity:0;stroke:#000000;\" x=\"88.960156\" xlink:href=\"#ma9a187821d\" y=\"229.866139\"/>\n     <use style=\"fill-opacity:0;stroke:#000000;\" x=\"88.960156\" xlink:href=\"#ma9a187821d\" y=\"229.867272\"/>\n     <use style=\"fill-opacity:0;stroke:#000000;\" x=\"88.960156\" xlink:href=\"#ma9a187821d\" y=\"229.867045\"/>\n     <use style=\"fill-opacity:0;stroke:#000000;\" x=\"88.960156\" xlink:href=\"#ma9a187821d\" y=\"229.867035\"/>\n     <use style=\"fill-opacity:0;stroke:#000000;\" x=\"88.960156\" xlink:href=\"#ma9a187821d\" y=\"229.866375\"/>\n     <use style=\"fill-opacity:0;stroke:#000000;\" x=\"88.960156\" xlink:href=\"#ma9a187821d\" y=\"229.866293\"/>\n     <use style=\"fill-opacity:0;stroke:#000000;\" x=\"88.960156\" xlink:href=\"#ma9a187821d\" y=\"229.866232\"/>\n     <use style=\"fill-opacity:0;stroke:#000000;\" x=\"88.960156\" xlink:href=\"#ma9a187821d\" y=\"229.866565\"/>\n     <use style=\"fill-opacity:0;stroke:#000000;\" x=\"88.960156\" xlink:href=\"#ma9a187821d\" y=\"229.866793\"/>\n     <use style=\"fill-opacity:0;stroke:#000000;\" x=\"88.960156\" xlink:href=\"#ma9a187821d\" y=\"229.866409\"/>\n     <use style=\"fill-opacity:0;stroke:#000000;\" x=\"88.960156\" xlink:href=\"#ma9a187821d\" y=\"229.866424\"/>\n     <use style=\"fill-opacity:0;stroke:#000000;\" x=\"88.960156\" xlink:href=\"#ma9a187821d\" y=\"229.866195\"/>\n     <use style=\"fill-opacity:0;stroke:#000000;\" x=\"88.960156\" xlink:href=\"#ma9a187821d\" y=\"229.866191\"/>\n     <use style=\"fill-opacity:0;stroke:#000000;\" x=\"88.960156\" xlink:href=\"#ma9a187821d\" y=\"229.866599\"/>\n     <use style=\"fill-opacity:0;stroke:#000000;\" x=\"88.960156\" xlink:href=\"#ma9a187821d\" y=\"229.866358\"/>\n     <use style=\"fill-opacity:0;stroke:#000000;\" x=\"88.960156\" xlink:href=\"#ma9a187821d\" y=\"229.866258\"/>\n     <use style=\"fill-opacity:0;stroke:#000000;\" x=\"88.960156\" xlink:href=\"#ma9a187821d\" y=\"229.863569\"/>\n     <use style=\"fill-opacity:0;stroke:#000000;\" x=\"88.960156\" xlink:href=\"#ma9a187821d\" y=\"229.863441\"/>\n     <use style=\"fill-opacity:0;stroke:#000000;\" x=\"88.960156\" xlink:href=\"#ma9a187821d\" y=\"229.863875\"/>\n     <use style=\"fill-opacity:0;stroke:#000000;\" x=\"88.960156\" xlink:href=\"#ma9a187821d\" y=\"229.863874\"/>\n     <use style=\"fill-opacity:0;stroke:#000000;\" x=\"88.960156\" xlink:href=\"#ma9a187821d\" y=\"229.863971\"/>\n     <use style=\"fill-opacity:0;stroke:#000000;\" x=\"88.960156\" xlink:href=\"#ma9a187821d\" y=\"229.863841\"/>\n     <use style=\"fill-opacity:0;stroke:#000000;\" x=\"88.960156\" xlink:href=\"#ma9a187821d\" y=\"229.863666\"/>\n     <use style=\"fill-opacity:0;stroke:#000000;\" x=\"88.960156\" xlink:href=\"#ma9a187821d\" y=\"229.863602\"/>\n     <use style=\"fill-opacity:0;stroke:#000000;\" x=\"88.960156\" xlink:href=\"#ma9a187821d\" y=\"229.863773\"/>\n     <use style=\"fill-opacity:0;stroke:#000000;\" x=\"88.960156\" xlink:href=\"#ma9a187821d\" y=\"229.863914\"/>\n     <use style=\"fill-opacity:0;stroke:#000000;\" x=\"88.960156\" xlink:href=\"#ma9a187821d\" y=\"229.863929\"/>\n     <use style=\"fill-opacity:0;stroke:#000000;\" x=\"88.960156\" xlink:href=\"#ma9a187821d\" y=\"229.863785\"/>\n     <use style=\"fill-opacity:0;stroke:#000000;\" x=\"88.960156\" xlink:href=\"#ma9a187821d\" y=\"229.86371\"/>\n     <use style=\"fill-opacity:0;stroke:#000000;\" x=\"88.960156\" xlink:href=\"#ma9a187821d\" y=\"229.863832\"/>\n     <use style=\"fill-opacity:0;stroke:#000000;\" x=\"88.960156\" xlink:href=\"#ma9a187821d\" y=\"229.86357\"/>\n     <use style=\"fill-opacity:0;stroke:#000000;\" x=\"88.960156\" xlink:href=\"#ma9a187821d\" y=\"229.863641\"/>\n     <use style=\"fill-opacity:0;stroke:#000000;\" x=\"88.960156\" xlink:href=\"#ma9a187821d\" y=\"229.863616\"/>\n     <use style=\"fill-opacity:0;stroke:#000000;\" x=\"88.960156\" xlink:href=\"#ma9a187821d\" y=\"229.863918\"/>\n     <use style=\"fill-opacity:0;stroke:#000000;\" x=\"88.960156\" xlink:href=\"#ma9a187821d\" y=\"229.863913\"/>\n     <use style=\"fill-opacity:0;stroke:#000000;\" x=\"88.960156\" xlink:href=\"#ma9a187821d\" y=\"229.862172\"/>\n     <use style=\"fill-opacity:0;stroke:#000000;\" x=\"88.960156\" xlink:href=\"#ma9a187821d\" y=\"229.863055\"/>\n     <use style=\"fill-opacity:0;stroke:#000000;\" x=\"88.960156\" xlink:href=\"#ma9a187821d\" y=\"229.863127\"/>\n    </g>\n   </g>\n   <g id=\"line2d_21\">\n    <path clip-path=\"url(#pb46ec09a01)\" d=\"M 124.831585 229.86534 \nL 148.745871 229.86534 \nL 148.745871 229.864824 \nL 124.831585 229.864824 \nL 124.831585 229.86534 \n\" style=\"fill:none;stroke:#1f77b4;stroke-linecap:square;\"/>\n   </g>\n   <g id=\"line2d_22\">\n    <path clip-path=\"url(#pb46ec09a01)\" d=\"M 136.788728 229.86534 \nL 136.788728 229.866114 \n\" style=\"fill:none;stroke:#1f77b4;stroke-linecap:square;\"/>\n   </g>\n   <g id=\"line2d_23\">\n    <path clip-path=\"url(#pb46ec09a01)\" d=\"M 136.788728 229.864824 \nL 136.788728 229.864051 \n\" style=\"fill:none;stroke:#1f77b4;stroke-linecap:square;\"/>\n   </g>\n   <g id=\"line2d_24\">\n    <path clip-path=\"url(#pb46ec09a01)\" d=\"M 130.810156 229.866114 \nL 142.767299 229.866114 \n\" style=\"fill:none;stroke:#000000;stroke-linecap:square;\"/>\n   </g>\n   <g id=\"line2d_25\">\n    <path clip-path=\"url(#pb46ec09a01)\" d=\"M 130.810156 229.864051 \nL 142.767299 229.864051 \n\" style=\"fill:none;stroke:#000000;stroke-linecap:square;\"/>\n   </g>\n   <g id=\"line2d_26\">\n    <g clip-path=\"url(#pb46ec09a01)\">\n     <use style=\"fill-opacity:0;stroke:#000000;\" x=\"136.788728\" xlink:href=\"#ma9a187821d\" y=\"229.867108\"/>\n     <use style=\"fill-opacity:0;stroke:#000000;\" x=\"136.788728\" xlink:href=\"#ma9a187821d\" y=\"229.866286\"/>\n     <use style=\"fill-opacity:0;stroke:#000000;\" x=\"136.788728\" xlink:href=\"#ma9a187821d\" y=\"229.866144\"/>\n     <use style=\"fill-opacity:0;stroke:#000000;\" x=\"136.788728\" xlink:href=\"#ma9a187821d\" y=\"229.866609\"/>\n     <use style=\"fill-opacity:0;stroke:#000000;\" x=\"136.788728\" xlink:href=\"#ma9a187821d\" y=\"229.866597\"/>\n     <use style=\"fill-opacity:0;stroke:#000000;\" x=\"136.788728\" xlink:href=\"#ma9a187821d\" y=\"229.866217\"/>\n     <use style=\"fill-opacity:0;stroke:#000000;\" x=\"136.788728\" xlink:href=\"#ma9a187821d\" y=\"229.866671\"/>\n     <use style=\"fill-opacity:0;stroke:#000000;\" x=\"136.788728\" xlink:href=\"#ma9a187821d\" y=\"229.866119\"/>\n     <use style=\"fill-opacity:0;stroke:#000000;\" x=\"136.788728\" xlink:href=\"#ma9a187821d\" y=\"229.86693\"/>\n     <use style=\"fill-opacity:0;stroke:#000000;\" x=\"136.788728\" xlink:href=\"#ma9a187821d\" y=\"229.866444\"/>\n     <use style=\"fill-opacity:0;stroke:#000000;\" x=\"136.788728\" xlink:href=\"#ma9a187821d\" y=\"229.866431\"/>\n     <use style=\"fill-opacity:0;stroke:#000000;\" x=\"136.788728\" xlink:href=\"#ma9a187821d\" y=\"229.866313\"/>\n     <use style=\"fill-opacity:0;stroke:#000000;\" x=\"136.788728\" xlink:href=\"#ma9a187821d\" y=\"229.867157\"/>\n     <use style=\"fill-opacity:0;stroke:#000000;\" x=\"136.788728\" xlink:href=\"#ma9a187821d\" y=\"229.866188\"/>\n     <use style=\"fill-opacity:0;stroke:#000000;\" x=\"136.788728\" xlink:href=\"#ma9a187821d\" y=\"229.866636\"/>\n     <use style=\"fill-opacity:0;stroke:#000000;\" x=\"136.788728\" xlink:href=\"#ma9a187821d\" y=\"229.866581\"/>\n     <use style=\"fill-opacity:0;stroke:#000000;\" x=\"136.788728\" xlink:href=\"#ma9a187821d\" y=\"229.866863\"/>\n     <use style=\"fill-opacity:0;stroke:#000000;\" x=\"136.788728\" xlink:href=\"#ma9a187821d\" y=\"229.866503\"/>\n     <use style=\"fill-opacity:0;stroke:#000000;\" x=\"136.788728\" xlink:href=\"#ma9a187821d\" y=\"229.866651\"/>\n     <use style=\"fill-opacity:0;stroke:#000000;\" x=\"136.788728\" xlink:href=\"#ma9a187821d\" y=\"229.866181\"/>\n     <use style=\"fill-opacity:0;stroke:#000000;\" x=\"136.788728\" xlink:href=\"#ma9a187821d\" y=\"229.867231\"/>\n     <use style=\"fill-opacity:0;stroke:#000000;\" x=\"136.788728\" xlink:href=\"#ma9a187821d\" y=\"229.866167\"/>\n     <use style=\"fill-opacity:0;stroke:#000000;\" x=\"136.788728\" xlink:href=\"#ma9a187821d\" y=\"229.8665\"/>\n     <use style=\"fill-opacity:0;stroke:#000000;\" x=\"136.788728\" xlink:href=\"#ma9a187821d\" y=\"229.866482\"/>\n     <use style=\"fill-opacity:0;stroke:#000000;\" x=\"136.788728\" xlink:href=\"#ma9a187821d\" y=\"229.863957\"/>\n     <use style=\"fill-opacity:0;stroke:#000000;\" x=\"136.788728\" xlink:href=\"#ma9a187821d\" y=\"229.863933\"/>\n     <use style=\"fill-opacity:0;stroke:#000000;\" x=\"136.788728\" xlink:href=\"#ma9a187821d\" y=\"229.863836\"/>\n     <use style=\"fill-opacity:0;stroke:#000000;\" x=\"136.788728\" xlink:href=\"#ma9a187821d\" y=\"229.863954\"/>\n     <use style=\"fill-opacity:0;stroke:#000000;\" x=\"136.788728\" xlink:href=\"#ma9a187821d\" y=\"229.864038\"/>\n     <use style=\"fill-opacity:0;stroke:#000000;\" x=\"136.788728\" xlink:href=\"#ma9a187821d\" y=\"229.863853\"/>\n     <use style=\"fill-opacity:0;stroke:#000000;\" x=\"136.788728\" xlink:href=\"#ma9a187821d\" y=\"229.863973\"/>\n     <use style=\"fill-opacity:0;stroke:#000000;\" x=\"136.788728\" xlink:href=\"#ma9a187821d\" y=\"229.86354\"/>\n     <use style=\"fill-opacity:0;stroke:#000000;\" x=\"136.788728\" xlink:href=\"#ma9a187821d\" y=\"229.864002\"/>\n     <use style=\"fill-opacity:0;stroke:#000000;\" x=\"136.788728\" xlink:href=\"#ma9a187821d\" y=\"229.864037\"/>\n     <use style=\"fill-opacity:0;stroke:#000000;\" x=\"136.788728\" xlink:href=\"#ma9a187821d\" y=\"229.863926\"/>\n     <use style=\"fill-opacity:0;stroke:#000000;\" x=\"136.788728\" xlink:href=\"#ma9a187821d\" y=\"229.863561\"/>\n     <use style=\"fill-opacity:0;stroke:#000000;\" x=\"136.788728\" xlink:href=\"#ma9a187821d\" y=\"229.863804\"/>\n     <use style=\"fill-opacity:0;stroke:#000000;\" x=\"136.788728\" xlink:href=\"#ma9a187821d\" y=\"229.863091\"/>\n     <use style=\"fill-opacity:0;stroke:#000000;\" x=\"136.788728\" xlink:href=\"#ma9a187821d\" y=\"229.864028\"/>\n     <use style=\"fill-opacity:0;stroke:#000000;\" x=\"136.788728\" xlink:href=\"#ma9a187821d\" y=\"229.863247\"/>\n     <use style=\"fill-opacity:0;stroke:#000000;\" x=\"136.788728\" xlink:href=\"#ma9a187821d\" y=\"229.863884\"/>\n    </g>\n   </g>\n   <g id=\"line2d_27\">\n    <path clip-path=\"url(#pb46ec09a01)\" d=\"M 172.660156 229.865391 \nL 196.574442 229.865391 \nL 196.574442 229.864712 \nL 172.660156 229.864712 \nL 172.660156 229.865391 \n\" style=\"fill:none;stroke:#1f77b4;stroke-linecap:square;\"/>\n   </g>\n   <g id=\"line2d_28\">\n    <path clip-path=\"url(#pb46ec09a01)\" d=\"M 184.617299 229.865391 \nL 184.617299 229.866379 \n\" style=\"fill:none;stroke:#1f77b4;stroke-linecap:square;\"/>\n   </g>\n   <g id=\"line2d_29\">\n    <path clip-path=\"url(#pb46ec09a01)\" d=\"M 184.617299 229.864712 \nL 184.617299 229.863724 \n\" style=\"fill:none;stroke:#1f77b4;stroke-linecap:square;\"/>\n   </g>\n   <g id=\"line2d_30\">\n    <path clip-path=\"url(#pb46ec09a01)\" d=\"M 178.638728 229.866379 \nL 190.595871 229.866379 \n\" style=\"fill:none;stroke:#000000;stroke-linecap:square;\"/>\n   </g>\n   <g id=\"line2d_31\">\n    <path clip-path=\"url(#pb46ec09a01)\" d=\"M 178.638728 229.863724 \nL 190.595871 229.863724 \n\" style=\"fill:none;stroke:#000000;stroke-linecap:square;\"/>\n   </g>\n   <g id=\"line2d_32\">\n    <g clip-path=\"url(#pb46ec09a01)\">\n     <use style=\"fill-opacity:0;stroke:#000000;\" x=\"184.617299\" xlink:href=\"#ma9a187821d\" y=\"229.866912\"/>\n     <use style=\"fill-opacity:0;stroke:#000000;\" x=\"184.617299\" xlink:href=\"#ma9a187821d\" y=\"229.867048\"/>\n     <use style=\"fill-opacity:0;stroke:#000000;\" x=\"184.617299\" xlink:href=\"#ma9a187821d\" y=\"229.866617\"/>\n     <use style=\"fill-opacity:0;stroke:#000000;\" x=\"184.617299\" xlink:href=\"#ma9a187821d\" y=\"229.866849\"/>\n     <use style=\"fill-opacity:0;stroke:#000000;\" x=\"184.617299\" xlink:href=\"#ma9a187821d\" y=\"229.866505\"/>\n     <use style=\"fill-opacity:0;stroke:#000000;\" x=\"184.617299\" xlink:href=\"#ma9a187821d\" y=\"229.867113\"/>\n     <use style=\"fill-opacity:0;stroke:#000000;\" x=\"184.617299\" xlink:href=\"#ma9a187821d\" y=\"229.866481\"/>\n     <use style=\"fill-opacity:0;stroke:#000000;\" x=\"184.617299\" xlink:href=\"#ma9a187821d\" y=\"229.866571\"/>\n     <use style=\"fill-opacity:0;stroke:#000000;\" x=\"184.617299\" xlink:href=\"#ma9a187821d\" y=\"229.867264\"/>\n     <use style=\"fill-opacity:0;stroke:#000000;\" x=\"184.617299\" xlink:href=\"#ma9a187821d\" y=\"229.867319\"/>\n     <use style=\"fill-opacity:0;stroke:#000000;\" x=\"184.617299\" xlink:href=\"#ma9a187821d\" y=\"229.867254\"/>\n     <use style=\"fill-opacity:0;stroke:#000000;\" x=\"184.617299\" xlink:href=\"#ma9a187821d\" y=\"229.867182\"/>\n     <use style=\"fill-opacity:0;stroke:#000000;\" x=\"184.617299\" xlink:href=\"#ma9a187821d\" y=\"229.866474\"/>\n     <use style=\"fill-opacity:0;stroke:#000000;\" x=\"184.617299\" xlink:href=\"#ma9a187821d\" y=\"229.867569\"/>\n     <use style=\"fill-opacity:0;stroke:#000000;\" x=\"184.617299\" xlink:href=\"#ma9a187821d\" y=\"229.867066\"/>\n     <use style=\"fill-opacity:0;stroke:#000000;\" x=\"184.617299\" xlink:href=\"#ma9a187821d\" y=\"229.866583\"/>\n     <use style=\"fill-opacity:0;stroke:#000000;\" x=\"184.617299\" xlink:href=\"#ma9a187821d\" y=\"229.86649\"/>\n     <use style=\"fill-opacity:0;stroke:#000000;\" x=\"184.617299\" xlink:href=\"#ma9a187821d\" y=\"229.866623\"/>\n     <use style=\"fill-opacity:0;stroke:#000000;\" x=\"184.617299\" xlink:href=\"#ma9a187821d\" y=\"229.867124\"/>\n     <use style=\"fill-opacity:0;stroke:#000000;\" x=\"184.617299\" xlink:href=\"#ma9a187821d\" y=\"229.866524\"/>\n     <use style=\"fill-opacity:0;stroke:#000000;\" x=\"184.617299\" xlink:href=\"#ma9a187821d\" y=\"229.866896\"/>\n     <use style=\"fill-opacity:0;stroke:#000000;\" x=\"184.617299\" xlink:href=\"#ma9a187821d\" y=\"229.866494\"/>\n     <use style=\"fill-opacity:0;stroke:#000000;\" x=\"184.617299\" xlink:href=\"#ma9a187821d\" y=\"229.866749\"/>\n     <use style=\"fill-opacity:0;stroke:#000000;\" x=\"184.617299\" xlink:href=\"#ma9a187821d\" y=\"229.869374\"/>\n     <use style=\"fill-opacity:0;stroke:#000000;\" x=\"184.617299\" xlink:href=\"#ma9a187821d\" y=\"229.867106\"/>\n     <use style=\"fill-opacity:0;stroke:#000000;\" x=\"184.617299\" xlink:href=\"#ma9a187821d\" y=\"229.866597\"/>\n     <use style=\"fill-opacity:0;stroke:#000000;\" x=\"184.617299\" xlink:href=\"#ma9a187821d\" y=\"229.86644\"/>\n     <use style=\"fill-opacity:0;stroke:#000000;\" x=\"184.617299\" xlink:href=\"#ma9a187821d\" y=\"229.866453\"/>\n     <use style=\"fill-opacity:0;stroke:#000000;\" x=\"184.617299\" xlink:href=\"#ma9a187821d\" y=\"229.866589\"/>\n     <use style=\"fill-opacity:0;stroke:#000000;\" x=\"184.617299\" xlink:href=\"#ma9a187821d\" y=\"229.867033\"/>\n     <use style=\"fill-opacity:0;stroke:#000000;\" x=\"184.617299\" xlink:href=\"#ma9a187821d\" y=\"229.874489\"/>\n     <use style=\"fill-opacity:0;stroke:#000000;\" x=\"184.617299\" xlink:href=\"#ma9a187821d\" y=\"229.863113\"/>\n     <use style=\"fill-opacity:0;stroke:#000000;\" x=\"184.617299\" xlink:href=\"#ma9a187821d\" y=\"229.863603\"/>\n     <use style=\"fill-opacity:0;stroke:#000000;\" x=\"184.617299\" xlink:href=\"#ma9a187821d\" y=\"229.863338\"/>\n     <use style=\"fill-opacity:0;stroke:#000000;\" x=\"184.617299\" xlink:href=\"#ma9a187821d\" y=\"229.863422\"/>\n     <use style=\"fill-opacity:0;stroke:#000000;\" x=\"184.617299\" xlink:href=\"#ma9a187821d\" y=\"229.863559\"/>\n     <use style=\"fill-opacity:0;stroke:#000000;\" x=\"184.617299\" xlink:href=\"#ma9a187821d\" y=\"229.863288\"/>\n     <use style=\"fill-opacity:0;stroke:#000000;\" x=\"184.617299\" xlink:href=\"#ma9a187821d\" y=\"229.863332\"/>\n     <use style=\"fill-opacity:0;stroke:#000000;\" x=\"184.617299\" xlink:href=\"#ma9a187821d\" y=\"229.863643\"/>\n     <use style=\"fill-opacity:0;stroke:#000000;\" x=\"184.617299\" xlink:href=\"#ma9a187821d\" y=\"229.863084\"/>\n     <use style=\"fill-opacity:0;stroke:#000000;\" x=\"184.617299\" xlink:href=\"#ma9a187821d\" y=\"229.86329\"/>\n     <use style=\"fill-opacity:0;stroke:#000000;\" x=\"184.617299\" xlink:href=\"#ma9a187821d\" y=\"229.863642\"/>\n     <use style=\"fill-opacity:0;stroke:#000000;\" x=\"184.617299\" xlink:href=\"#ma9a187821d\" y=\"229.863626\"/>\n     <use style=\"fill-opacity:0;stroke:#000000;\" x=\"184.617299\" xlink:href=\"#ma9a187821d\" y=\"229.862895\"/>\n     <use style=\"fill-opacity:0;stroke:#000000;\" x=\"184.617299\" xlink:href=\"#ma9a187821d\" y=\"229.85963\"/>\n     <use style=\"fill-opacity:0;stroke:#000000;\" x=\"184.617299\" xlink:href=\"#ma9a187821d\" y=\"229.863389\"/>\n     <use style=\"fill-opacity:0;stroke:#000000;\" x=\"184.617299\" xlink:href=\"#ma9a187821d\" y=\"229.862195\"/>\n     <use style=\"fill-opacity:0;stroke:#000000;\" x=\"184.617299\" xlink:href=\"#ma9a187821d\" y=\"229.861401\"/>\n     <use style=\"fill-opacity:0;stroke:#000000;\" x=\"184.617299\" xlink:href=\"#ma9a187821d\" y=\"229.863595\"/>\n     <use style=\"fill-opacity:0;stroke:#000000;\" x=\"184.617299\" xlink:href=\"#ma9a187821d\" y=\"229.863468\"/>\n     <use style=\"fill-opacity:0;stroke:#000000;\" x=\"184.617299\" xlink:href=\"#ma9a187821d\" y=\"229.863562\"/>\n     <use style=\"fill-opacity:0;stroke:#000000;\" x=\"184.617299\" xlink:href=\"#ma9a187821d\" y=\"229.863539\"/>\n     <use style=\"fill-opacity:0;stroke:#000000;\" x=\"184.617299\" xlink:href=\"#ma9a187821d\" y=\"229.862982\"/>\n     <use style=\"fill-opacity:0;stroke:#000000;\" x=\"184.617299\" xlink:href=\"#ma9a187821d\" y=\"229.862807\"/>\n    </g>\n   </g>\n   <g id=\"line2d_33\">\n    <path clip-path=\"url(#pb46ec09a01)\" d=\"M 220.488728 229.865448 \nL 244.403013 229.865448 \nL 244.403013 229.864555 \nL 220.488728 229.864555 \nL 220.488728 229.865448 \n\" style=\"fill:none;stroke:#1f77b4;stroke-linecap:square;\"/>\n   </g>\n   <g id=\"line2d_34\">\n    <path clip-path=\"url(#pb46ec09a01)\" d=\"M 232.445871 229.865448 \nL 232.445871 229.866784 \n\" style=\"fill:none;stroke:#1f77b4;stroke-linecap:square;\"/>\n   </g>\n   <g id=\"line2d_35\">\n    <path clip-path=\"url(#pb46ec09a01)\" d=\"M 232.445871 229.864555 \nL 232.445871 229.863232 \n\" style=\"fill:none;stroke:#1f77b4;stroke-linecap:square;\"/>\n   </g>\n   <g id=\"line2d_36\">\n    <path clip-path=\"url(#pb46ec09a01)\" d=\"M 226.467299 229.866784 \nL 238.424442 229.866784 \n\" style=\"fill:none;stroke:#000000;stroke-linecap:square;\"/>\n   </g>\n   <g id=\"line2d_37\">\n    <path clip-path=\"url(#pb46ec09a01)\" d=\"M 226.467299 229.863232 \nL 238.424442 229.863232 \n\" style=\"fill:none;stroke:#000000;stroke-linecap:square;\"/>\n   </g>\n   <g id=\"line2d_38\">\n    <g clip-path=\"url(#pb46ec09a01)\">\n     <use style=\"fill-opacity:0;stroke:#000000;\" x=\"232.445871\" xlink:href=\"#ma9a187821d\" y=\"229.868242\"/>\n     <use style=\"fill-opacity:0;stroke:#000000;\" x=\"232.445871\" xlink:href=\"#ma9a187821d\" y=\"229.867689\"/>\n     <use style=\"fill-opacity:0;stroke:#000000;\" x=\"232.445871\" xlink:href=\"#ma9a187821d\" y=\"229.8676\"/>\n     <use style=\"fill-opacity:0;stroke:#000000;\" x=\"232.445871\" xlink:href=\"#ma9a187821d\" y=\"229.867074\"/>\n     <use style=\"fill-opacity:0;stroke:#000000;\" x=\"232.445871\" xlink:href=\"#ma9a187821d\" y=\"229.867122\"/>\n     <use style=\"fill-opacity:0;stroke:#000000;\" x=\"232.445871\" xlink:href=\"#ma9a187821d\" y=\"229.86684\"/>\n     <use style=\"fill-opacity:0;stroke:#000000;\" x=\"232.445871\" xlink:href=\"#ma9a187821d\" y=\"229.867378\"/>\n     <use style=\"fill-opacity:0;stroke:#000000;\" x=\"232.445871\" xlink:href=\"#ma9a187821d\" y=\"229.867978\"/>\n     <use style=\"fill-opacity:0;stroke:#000000;\" x=\"232.445871\" xlink:href=\"#ma9a187821d\" y=\"229.867355\"/>\n     <use style=\"fill-opacity:0;stroke:#000000;\" x=\"232.445871\" xlink:href=\"#ma9a187821d\" y=\"229.868478\"/>\n     <use style=\"fill-opacity:0;stroke:#000000;\" x=\"232.445871\" xlink:href=\"#ma9a187821d\" y=\"229.866954\"/>\n     <use style=\"fill-opacity:0;stroke:#000000;\" x=\"232.445871\" xlink:href=\"#ma9a187821d\" y=\"229.868041\"/>\n     <use style=\"fill-opacity:0;stroke:#000000;\" x=\"232.445871\" xlink:href=\"#ma9a187821d\" y=\"229.867115\"/>\n     <use style=\"fill-opacity:0;stroke:#000000;\" x=\"232.445871\" xlink:href=\"#ma9a187821d\" y=\"229.869549\"/>\n     <use style=\"fill-opacity:0;stroke:#000000;\" x=\"232.445871\" xlink:href=\"#ma9a187821d\" y=\"229.867528\"/>\n     <use style=\"fill-opacity:0;stroke:#000000;\" x=\"232.445871\" xlink:href=\"#ma9a187821d\" y=\"229.867254\"/>\n     <use style=\"fill-opacity:0;stroke:#000000;\" x=\"232.445871\" xlink:href=\"#ma9a187821d\" y=\"229.867856\"/>\n     <use style=\"fill-opacity:0;stroke:#000000;\" x=\"232.445871\" xlink:href=\"#ma9a187821d\" y=\"229.866881\"/>\n     <use style=\"fill-opacity:0;stroke:#000000;\" x=\"232.445871\" xlink:href=\"#ma9a187821d\" y=\"229.866799\"/>\n     <use style=\"fill-opacity:0;stroke:#000000;\" x=\"232.445871\" xlink:href=\"#ma9a187821d\" y=\"229.867315\"/>\n     <use style=\"fill-opacity:0;stroke:#000000;\" x=\"232.445871\" xlink:href=\"#ma9a187821d\" y=\"229.867292\"/>\n     <use style=\"fill-opacity:0;stroke:#000000;\" x=\"232.445871\" xlink:href=\"#ma9a187821d\" y=\"229.868087\"/>\n     <use style=\"fill-opacity:0;stroke:#000000;\" x=\"232.445871\" xlink:href=\"#ma9a187821d\" y=\"229.867107\"/>\n     <use style=\"fill-opacity:0;stroke:#000000;\" x=\"232.445871\" xlink:href=\"#ma9a187821d\" y=\"229.86782\"/>\n     <use style=\"fill-opacity:0;stroke:#000000;\" x=\"232.445871\" xlink:href=\"#ma9a187821d\" y=\"229.866918\"/>\n     <use style=\"fill-opacity:0;stroke:#000000;\" x=\"232.445871\" xlink:href=\"#ma9a187821d\" y=\"229.868694\"/>\n     <use style=\"fill-opacity:0;stroke:#000000;\" x=\"232.445871\" xlink:href=\"#ma9a187821d\" y=\"229.867038\"/>\n     <use style=\"fill-opacity:0;stroke:#000000;\" x=\"232.445871\" xlink:href=\"#ma9a187821d\" y=\"229.868394\"/>\n     <use style=\"fill-opacity:0;stroke:#000000;\" x=\"232.445871\" xlink:href=\"#ma9a187821d\" y=\"229.866863\"/>\n     <use style=\"fill-opacity:0;stroke:#000000;\" x=\"232.445871\" xlink:href=\"#ma9a187821d\" y=\"229.866989\"/>\n     <use style=\"fill-opacity:0;stroke:#000000;\" x=\"232.445871\" xlink:href=\"#ma9a187821d\" y=\"229.868353\"/>\n     <use style=\"fill-opacity:0;stroke:#000000;\" x=\"232.445871\" xlink:href=\"#ma9a187821d\" y=\"229.867624\"/>\n     <use style=\"fill-opacity:0;stroke:#000000;\" x=\"232.445871\" xlink:href=\"#ma9a187821d\" y=\"229.867201\"/>\n     <use style=\"fill-opacity:0;stroke:#000000;\" x=\"232.445871\" xlink:href=\"#ma9a187821d\" y=\"229.867015\"/>\n     <use style=\"fill-opacity:0;stroke:#000000;\" x=\"232.445871\" xlink:href=\"#ma9a187821d\" y=\"229.867228\"/>\n     <use style=\"fill-opacity:0;stroke:#000000;\" x=\"232.445871\" xlink:href=\"#ma9a187821d\" y=\"229.86697\"/>\n     <use style=\"fill-opacity:0;stroke:#000000;\" x=\"232.445871\" xlink:href=\"#ma9a187821d\" y=\"229.862952\"/>\n     <use style=\"fill-opacity:0;stroke:#000000;\" x=\"232.445871\" xlink:href=\"#ma9a187821d\" y=\"229.862375\"/>\n     <use style=\"fill-opacity:0;stroke:#000000;\" x=\"232.445871\" xlink:href=\"#ma9a187821d\" y=\"229.862722\"/>\n     <use style=\"fill-opacity:0;stroke:#000000;\" x=\"232.445871\" xlink:href=\"#ma9a187821d\" y=\"229.862699\"/>\n     <use style=\"fill-opacity:0;stroke:#000000;\" x=\"232.445871\" xlink:href=\"#ma9a187821d\" y=\"229.862703\"/>\n     <use style=\"fill-opacity:0;stroke:#000000;\" x=\"232.445871\" xlink:href=\"#ma9a187821d\" y=\"229.862334\"/>\n     <use style=\"fill-opacity:0;stroke:#000000;\" x=\"232.445871\" xlink:href=\"#ma9a187821d\" y=\"229.861809\"/>\n     <use style=\"fill-opacity:0;stroke:#000000;\" x=\"232.445871\" xlink:href=\"#ma9a187821d\" y=\"229.863016\"/>\n     <use style=\"fill-opacity:0;stroke:#000000;\" x=\"232.445871\" xlink:href=\"#ma9a187821d\" y=\"229.863036\"/>\n     <use style=\"fill-opacity:0;stroke:#000000;\" x=\"232.445871\" xlink:href=\"#ma9a187821d\" y=\"229.863194\"/>\n     <use style=\"fill-opacity:0;stroke:#000000;\" x=\"232.445871\" xlink:href=\"#ma9a187821d\" y=\"229.863213\"/>\n     <use style=\"fill-opacity:0;stroke:#000000;\" x=\"232.445871\" xlink:href=\"#ma9a187821d\" y=\"229.86311\"/>\n     <use style=\"fill-opacity:0;stroke:#000000;\" x=\"232.445871\" xlink:href=\"#ma9a187821d\" y=\"229.862978\"/>\n     <use style=\"fill-opacity:0;stroke:#000000;\" x=\"232.445871\" xlink:href=\"#ma9a187821d\" y=\"229.862962\"/>\n     <use style=\"fill-opacity:0;stroke:#000000;\" x=\"232.445871\" xlink:href=\"#ma9a187821d\" y=\"229.862908\"/>\n     <use style=\"fill-opacity:0;stroke:#000000;\" x=\"232.445871\" xlink:href=\"#ma9a187821d\" y=\"229.862403\"/>\n     <use style=\"fill-opacity:0;stroke:#000000;\" x=\"232.445871\" xlink:href=\"#ma9a187821d\" y=\"229.862468\"/>\n     <use style=\"fill-opacity:0;stroke:#000000;\" x=\"232.445871\" xlink:href=\"#ma9a187821d\" y=\"229.862527\"/>\n     <use style=\"fill-opacity:0;stroke:#000000;\" x=\"232.445871\" xlink:href=\"#ma9a187821d\" y=\"229.863184\"/>\n     <use style=\"fill-opacity:0;stroke:#000000;\" x=\"232.445871\" xlink:href=\"#ma9a187821d\" y=\"229.861031\"/>\n     <use style=\"fill-opacity:0;stroke:#000000;\" x=\"232.445871\" xlink:href=\"#ma9a187821d\" y=\"229.860935\"/>\n    </g>\n   </g>\n   <g id=\"line2d_39\">\n    <path clip-path=\"url(#pb46ec09a01)\" d=\"M 268.317299 88.512976 \nL 292.231585 88.512976 \nL 292.231585 49.650449 \nL 268.317299 49.650449 \nL 268.317299 88.512976 \n\" style=\"fill:none;stroke:#1f77b4;stroke-linecap:square;\"/>\n   </g>\n   <g id=\"line2d_40\">\n    <path clip-path=\"url(#pb46ec09a01)\" d=\"M 280.274442 88.512976 \nL 280.274442 106.626678 \n\" style=\"fill:none;stroke:#1f77b4;stroke-linecap:square;\"/>\n   </g>\n   <g id=\"line2d_41\">\n    <path clip-path=\"url(#pb46ec09a01)\" d=\"M 280.274442 49.650449 \nL 280.274442 32.201761 \n\" style=\"fill:none;stroke:#1f77b4;stroke-linecap:square;\"/>\n   </g>\n   <g id=\"line2d_42\">\n    <path clip-path=\"url(#pb46ec09a01)\" d=\"M 274.295871 106.626678 \nL 286.253013 106.626678 \n\" style=\"fill:none;stroke:#000000;stroke-linecap:square;\"/>\n   </g>\n   <g id=\"line2d_43\">\n    <path clip-path=\"url(#pb46ec09a01)\" d=\"M 274.295871 32.201761 \nL 286.253013 32.201761 \n\" style=\"fill:none;stroke:#000000;stroke-linecap:square;\"/>\n   </g>\n   <g id=\"line2d_44\"/>\n   <g id=\"line2d_45\">\n    <path clip-path=\"url(#pb46ec09a01)\" d=\"M 316.145871 229.865287 \nL 340.060156 229.865287 \nL 340.060156 229.864805 \nL 316.145871 229.864805 \nL 316.145871 229.865287 \n\" style=\"fill:none;stroke:#1f77b4;stroke-linecap:square;\"/>\n   </g>\n   <g id=\"line2d_46\">\n    <path clip-path=\"url(#pb46ec09a01)\" d=\"M 328.103013 229.865287 \nL 328.103013 229.866008 \n\" style=\"fill:none;stroke:#1f77b4;stroke-linecap:square;\"/>\n   </g>\n   <g id=\"line2d_47\">\n    <path clip-path=\"url(#pb46ec09a01)\" d=\"M 328.103013 229.864805 \nL 328.103013 229.864096 \n\" style=\"fill:none;stroke:#1f77b4;stroke-linecap:square;\"/>\n   </g>\n   <g id=\"line2d_48\">\n    <path clip-path=\"url(#pb46ec09a01)\" d=\"M 322.124442 229.866008 \nL 334.081585 229.866008 \n\" style=\"fill:none;stroke:#000000;stroke-linecap:square;\"/>\n   </g>\n   <g id=\"line2d_49\">\n    <path clip-path=\"url(#pb46ec09a01)\" d=\"M 322.124442 229.864096 \nL 334.081585 229.864096 \n\" style=\"fill:none;stroke:#000000;stroke-linecap:square;\"/>\n   </g>\n   <g id=\"line2d_50\">\n    <g clip-path=\"url(#pb46ec09a01)\">\n     <use style=\"fill-opacity:0;stroke:#000000;\" x=\"328.103013\" xlink:href=\"#ma9a187821d\" y=\"229.866273\"/>\n     <use style=\"fill-opacity:0;stroke:#000000;\" x=\"328.103013\" xlink:href=\"#ma9a187821d\" y=\"229.866054\"/>\n     <use style=\"fill-opacity:0;stroke:#000000;\" x=\"328.103013\" xlink:href=\"#ma9a187821d\" y=\"229.866092\"/>\n     <use style=\"fill-opacity:0;stroke:#000000;\" x=\"328.103013\" xlink:href=\"#ma9a187821d\" y=\"229.866013\"/>\n     <use style=\"fill-opacity:0;stroke:#000000;\" x=\"328.103013\" xlink:href=\"#ma9a187821d\" y=\"229.866225\"/>\n     <use style=\"fill-opacity:0;stroke:#000000;\" x=\"328.103013\" xlink:href=\"#ma9a187821d\" y=\"229.86625\"/>\n     <use style=\"fill-opacity:0;stroke:#000000;\" x=\"328.103013\" xlink:href=\"#ma9a187821d\" y=\"229.867153\"/>\n     <use style=\"fill-opacity:0;stroke:#000000;\" x=\"328.103013\" xlink:href=\"#ma9a187821d\" y=\"229.866479\"/>\n     <use style=\"fill-opacity:0;stroke:#000000;\" x=\"328.103013\" xlink:href=\"#ma9a187821d\" y=\"229.86694\"/>\n     <use style=\"fill-opacity:0;stroke:#000000;\" x=\"328.103013\" xlink:href=\"#ma9a187821d\" y=\"229.866214\"/>\n     <use style=\"fill-opacity:0;stroke:#000000;\" x=\"328.103013\" xlink:href=\"#ma9a187821d\" y=\"229.866469\"/>\n     <use style=\"fill-opacity:0;stroke:#000000;\" x=\"328.103013\" xlink:href=\"#ma9a187821d\" y=\"229.866528\"/>\n     <use style=\"fill-opacity:0;stroke:#000000;\" x=\"328.103013\" xlink:href=\"#ma9a187821d\" y=\"229.86684\"/>\n     <use style=\"fill-opacity:0;stroke:#000000;\" x=\"328.103013\" xlink:href=\"#ma9a187821d\" y=\"229.866032\"/>\n     <use style=\"fill-opacity:0;stroke:#000000;\" x=\"328.103013\" xlink:href=\"#ma9a187821d\" y=\"229.866209\"/>\n     <use style=\"fill-opacity:0;stroke:#000000;\" x=\"328.103013\" xlink:href=\"#ma9a187821d\" y=\"229.866344\"/>\n     <use style=\"fill-opacity:0;stroke:#000000;\" x=\"328.103013\" xlink:href=\"#ma9a187821d\" y=\"229.866076\"/>\n     <use style=\"fill-opacity:0;stroke:#000000;\" x=\"328.103013\" xlink:href=\"#ma9a187821d\" y=\"229.866156\"/>\n     <use style=\"fill-opacity:0;stroke:#000000;\" x=\"328.103013\" xlink:href=\"#ma9a187821d\" y=\"229.866826\"/>\n     <use style=\"fill-opacity:0;stroke:#000000;\" x=\"328.103013\" xlink:href=\"#ma9a187821d\" y=\"229.866273\"/>\n     <use style=\"fill-opacity:0;stroke:#000000;\" x=\"328.103013\" xlink:href=\"#ma9a187821d\" y=\"229.864046\"/>\n     <use style=\"fill-opacity:0;stroke:#000000;\" x=\"328.103013\" xlink:href=\"#ma9a187821d\" y=\"229.863763\"/>\n     <use style=\"fill-opacity:0;stroke:#000000;\" x=\"328.103013\" xlink:href=\"#ma9a187821d\" y=\"229.862971\"/>\n     <use style=\"fill-opacity:0;stroke:#000000;\" x=\"328.103013\" xlink:href=\"#ma9a187821d\" y=\"229.863903\"/>\n     <use style=\"fill-opacity:0;stroke:#000000;\" x=\"328.103013\" xlink:href=\"#ma9a187821d\" y=\"229.863994\"/>\n     <use style=\"fill-opacity:0;stroke:#000000;\" x=\"328.103013\" xlink:href=\"#ma9a187821d\" y=\"229.86349\"/>\n     <use style=\"fill-opacity:0;stroke:#000000;\" x=\"328.103013\" xlink:href=\"#ma9a187821d\" y=\"229.863659\"/>\n     <use style=\"fill-opacity:0;stroke:#000000;\" x=\"328.103013\" xlink:href=\"#ma9a187821d\" y=\"229.863356\"/>\n     <use style=\"fill-opacity:0;stroke:#000000;\" x=\"328.103013\" xlink:href=\"#ma9a187821d\" y=\"229.86329\"/>\n     <use style=\"fill-opacity:0;stroke:#000000;\" x=\"328.103013\" xlink:href=\"#ma9a187821d\" y=\"229.863756\"/>\n     <use style=\"fill-opacity:0;stroke:#000000;\" x=\"328.103013\" xlink:href=\"#ma9a187821d\" y=\"229.862301\"/>\n     <use style=\"fill-opacity:0;stroke:#000000;\" x=\"328.103013\" xlink:href=\"#ma9a187821d\" y=\"229.862991\"/>\n     <use style=\"fill-opacity:0;stroke:#000000;\" x=\"328.103013\" xlink:href=\"#ma9a187821d\" y=\"229.864033\"/>\n     <use style=\"fill-opacity:0;stroke:#000000;\" x=\"328.103013\" xlink:href=\"#ma9a187821d\" y=\"229.863911\"/>\n     <use style=\"fill-opacity:0;stroke:#000000;\" x=\"328.103013\" xlink:href=\"#ma9a187821d\" y=\"229.863361\"/>\n     <use style=\"fill-opacity:0;stroke:#000000;\" x=\"328.103013\" xlink:href=\"#ma9a187821d\" y=\"229.86408\"/>\n     <use style=\"fill-opacity:0;stroke:#000000;\" x=\"328.103013\" xlink:href=\"#ma9a187821d\" y=\"229.863292\"/>\n     <use style=\"fill-opacity:0;stroke:#000000;\" x=\"328.103013\" xlink:href=\"#ma9a187821d\" y=\"229.863268\"/>\n     <use style=\"fill-opacity:0;stroke:#000000;\" x=\"328.103013\" xlink:href=\"#ma9a187821d\" y=\"229.863791\"/>\n     <use style=\"fill-opacity:0;stroke:#000000;\" x=\"328.103013\" xlink:href=\"#ma9a187821d\" y=\"229.863917\"/>\n     <use style=\"fill-opacity:0;stroke:#000000;\" x=\"328.103013\" xlink:href=\"#ma9a187821d\" y=\"229.862768\"/>\n     <use style=\"fill-opacity:0;stroke:#000000;\" x=\"328.103013\" xlink:href=\"#ma9a187821d\" y=\"229.863931\"/>\n     <use style=\"fill-opacity:0;stroke:#000000;\" x=\"328.103013\" xlink:href=\"#ma9a187821d\" y=\"229.863722\"/>\n     <use style=\"fill-opacity:0;stroke:#000000;\" x=\"328.103013\" xlink:href=\"#ma9a187821d\" y=\"229.863839\"/>\n     <use style=\"fill-opacity:0;stroke:#000000;\" x=\"328.103013\" xlink:href=\"#ma9a187821d\" y=\"229.863469\"/>\n     <use style=\"fill-opacity:0;stroke:#000000;\" x=\"328.103013\" xlink:href=\"#ma9a187821d\" y=\"229.864054\"/>\n     <use style=\"fill-opacity:0;stroke:#000000;\" x=\"328.103013\" xlink:href=\"#ma9a187821d\" y=\"229.863953\"/>\n     <use style=\"fill-opacity:0;stroke:#000000;\" x=\"328.103013\" xlink:href=\"#ma9a187821d\" y=\"229.864044\"/>\n     <use style=\"fill-opacity:0;stroke:#000000;\" x=\"328.103013\" xlink:href=\"#ma9a187821d\" y=\"229.864076\"/>\n     <use style=\"fill-opacity:0;stroke:#000000;\" x=\"328.103013\" xlink:href=\"#ma9a187821d\" y=\"229.864078\"/>\n     <use style=\"fill-opacity:0;stroke:#000000;\" x=\"328.103013\" xlink:href=\"#ma9a187821d\" y=\"229.863936\"/>\n     <use style=\"fill-opacity:0;stroke:#000000;\" x=\"328.103013\" xlink:href=\"#ma9a187821d\" y=\"229.863589\"/>\n     <use style=\"fill-opacity:0;stroke:#000000;\" x=\"328.103013\" xlink:href=\"#ma9a187821d\" y=\"229.863575\"/>\n     <use style=\"fill-opacity:0;stroke:#000000;\" x=\"328.103013\" xlink:href=\"#ma9a187821d\" y=\"229.863157\"/>\n     <use style=\"fill-opacity:0;stroke:#000000;\" x=\"328.103013\" xlink:href=\"#ma9a187821d\" y=\"229.86165\"/>\n     <use style=\"fill-opacity:0;stroke:#000000;\" x=\"328.103013\" xlink:href=\"#ma9a187821d\" y=\"229.864047\"/>\n     <use style=\"fill-opacity:0;stroke:#000000;\" x=\"328.103013\" xlink:href=\"#ma9a187821d\" y=\"229.863609\"/>\n     <use style=\"fill-opacity:0;stroke:#000000;\" x=\"328.103013\" xlink:href=\"#ma9a187821d\" y=\"229.863535\"/>\n     <use style=\"fill-opacity:0;stroke:#000000;\" x=\"328.103013\" xlink:href=\"#ma9a187821d\" y=\"229.86408\"/>\n     <use style=\"fill-opacity:0;stroke:#000000;\" x=\"328.103013\" xlink:href=\"#ma9a187821d\" y=\"229.861676\"/>\n     <use style=\"fill-opacity:0;stroke:#000000;\" x=\"328.103013\" xlink:href=\"#ma9a187821d\" y=\"229.864041\"/>\n     <use style=\"fill-opacity:0;stroke:#000000;\" x=\"328.103013\" xlink:href=\"#ma9a187821d\" y=\"229.863881\"/>\n     <use style=\"fill-opacity:0;stroke:#000000;\" x=\"328.103013\" xlink:href=\"#ma9a187821d\" y=\"229.864074\"/>\n    </g>\n   </g>\n   <g id=\"line2d_51\">\n    <path clip-path=\"url(#pb46ec09a01)\" d=\"M 363.974442 229.865324 \nL 387.888728 229.865324 \nL 387.888728 229.864714 \nL 363.974442 229.864714 \nL 363.974442 229.865324 \n\" style=\"fill:none;stroke:#1f77b4;stroke-linecap:square;\"/>\n   </g>\n   <g id=\"line2d_52\">\n    <path clip-path=\"url(#pb46ec09a01)\" d=\"M 375.931585 229.865324 \nL 375.931585 229.866218 \n\" style=\"fill:none;stroke:#1f77b4;stroke-linecap:square;\"/>\n   </g>\n   <g id=\"line2d_53\">\n    <path clip-path=\"url(#pb46ec09a01)\" d=\"M 375.931585 229.864714 \nL 375.931585 229.863813 \n\" style=\"fill:none;stroke:#1f77b4;stroke-linecap:square;\"/>\n   </g>\n   <g id=\"line2d_54\">\n    <path clip-path=\"url(#pb46ec09a01)\" d=\"M 369.953013 229.866218 \nL 381.910156 229.866218 \n\" style=\"fill:none;stroke:#000000;stroke-linecap:square;\"/>\n   </g>\n   <g id=\"line2d_55\">\n    <path clip-path=\"url(#pb46ec09a01)\" d=\"M 369.953013 229.863813 \nL 381.910156 229.863813 \n\" style=\"fill:none;stroke:#000000;stroke-linecap:square;\"/>\n   </g>\n   <g id=\"line2d_56\">\n    <g clip-path=\"url(#pb46ec09a01)\">\n     <use style=\"fill-opacity:0;stroke:#000000;\" x=\"375.931585\" xlink:href=\"#ma9a187821d\" y=\"229.866667\"/>\n     <use style=\"fill-opacity:0;stroke:#000000;\" x=\"375.931585\" xlink:href=\"#ma9a187821d\" y=\"229.86634\"/>\n     <use style=\"fill-opacity:0;stroke:#000000;\" x=\"375.931585\" xlink:href=\"#ma9a187821d\" y=\"229.867557\"/>\n     <use style=\"fill-opacity:0;stroke:#000000;\" x=\"375.931585\" xlink:href=\"#ma9a187821d\" y=\"229.866594\"/>\n     <use style=\"fill-opacity:0;stroke:#000000;\" x=\"375.931585\" xlink:href=\"#ma9a187821d\" y=\"229.866831\"/>\n     <use style=\"fill-opacity:0;stroke:#000000;\" x=\"375.931585\" xlink:href=\"#ma9a187821d\" y=\"229.866286\"/>\n     <use style=\"fill-opacity:0;stroke:#000000;\" x=\"375.931585\" xlink:href=\"#ma9a187821d\" y=\"229.867026\"/>\n     <use style=\"fill-opacity:0;stroke:#000000;\" x=\"375.931585\" xlink:href=\"#ma9a187821d\" y=\"229.866311\"/>\n     <use style=\"fill-opacity:0;stroke:#000000;\" x=\"375.931585\" xlink:href=\"#ma9a187821d\" y=\"229.866973\"/>\n     <use style=\"fill-opacity:0;stroke:#000000;\" x=\"375.931585\" xlink:href=\"#ma9a187821d\" y=\"229.866423\"/>\n     <use style=\"fill-opacity:0;stroke:#000000;\" x=\"375.931585\" xlink:href=\"#ma9a187821d\" y=\"229.866383\"/>\n     <use style=\"fill-opacity:0;stroke:#000000;\" x=\"375.931585\" xlink:href=\"#ma9a187821d\" y=\"229.866505\"/>\n     <use style=\"fill-opacity:0;stroke:#000000;\" x=\"375.931585\" xlink:href=\"#ma9a187821d\" y=\"229.866604\"/>\n     <use style=\"fill-opacity:0;stroke:#000000;\" x=\"375.931585\" xlink:href=\"#ma9a187821d\" y=\"229.866609\"/>\n     <use style=\"fill-opacity:0;stroke:#000000;\" x=\"375.931585\" xlink:href=\"#ma9a187821d\" y=\"229.866281\"/>\n     <use style=\"fill-opacity:0;stroke:#000000;\" x=\"375.931585\" xlink:href=\"#ma9a187821d\" y=\"229.866968\"/>\n     <use style=\"fill-opacity:0;stroke:#000000;\" x=\"375.931585\" xlink:href=\"#ma9a187821d\" y=\"229.866739\"/>\n     <use style=\"fill-opacity:0;stroke:#000000;\" x=\"375.931585\" xlink:href=\"#ma9a187821d\" y=\"229.866732\"/>\n     <use style=\"fill-opacity:0;stroke:#000000;\" x=\"375.931585\" xlink:href=\"#ma9a187821d\" y=\"229.866276\"/>\n     <use style=\"fill-opacity:0;stroke:#000000;\" x=\"375.931585\" xlink:href=\"#ma9a187821d\" y=\"229.866448\"/>\n     <use style=\"fill-opacity:0;stroke:#000000;\" x=\"375.931585\" xlink:href=\"#ma9a187821d\" y=\"229.866391\"/>\n     <use style=\"fill-opacity:0;stroke:#000000;\" x=\"375.931585\" xlink:href=\"#ma9a187821d\" y=\"229.866479\"/>\n     <use style=\"fill-opacity:0;stroke:#000000;\" x=\"375.931585\" xlink:href=\"#ma9a187821d\" y=\"229.866449\"/>\n     <use style=\"fill-opacity:0;stroke:#000000;\" x=\"375.931585\" xlink:href=\"#ma9a187821d\" y=\"229.867163\"/>\n     <use style=\"fill-opacity:0;stroke:#000000;\" x=\"375.931585\" xlink:href=\"#ma9a187821d\" y=\"229.866759\"/>\n     <use style=\"fill-opacity:0;stroke:#000000;\" x=\"375.931585\" xlink:href=\"#ma9a187821d\" y=\"229.866241\"/>\n     <use style=\"fill-opacity:0;stroke:#000000;\" x=\"375.931585\" xlink:href=\"#ma9a187821d\" y=\"229.86629\"/>\n     <use style=\"fill-opacity:0;stroke:#000000;\" x=\"375.931585\" xlink:href=\"#ma9a187821d\" y=\"229.866809\"/>\n     <use style=\"fill-opacity:0;stroke:#000000;\" x=\"375.931585\" xlink:href=\"#ma9a187821d\" y=\"229.866851\"/>\n     <use style=\"fill-opacity:0;stroke:#000000;\" x=\"375.931585\" xlink:href=\"#ma9a187821d\" y=\"229.867221\"/>\n     <use style=\"fill-opacity:0;stroke:#000000;\" x=\"375.931585\" xlink:href=\"#ma9a187821d\" y=\"229.866758\"/>\n     <use style=\"fill-opacity:0;stroke:#000000;\" x=\"375.931585\" xlink:href=\"#ma9a187821d\" y=\"229.866671\"/>\n     <use style=\"fill-opacity:0;stroke:#000000;\" x=\"375.931585\" xlink:href=\"#ma9a187821d\" y=\"229.866526\"/>\n     <use style=\"fill-opacity:0;stroke:#000000;\" x=\"375.931585\" xlink:href=\"#ma9a187821d\" y=\"229.866479\"/>\n     <use style=\"fill-opacity:0;stroke:#000000;\" x=\"375.931585\" xlink:href=\"#ma9a187821d\" y=\"229.863727\"/>\n     <use style=\"fill-opacity:0;stroke:#000000;\" x=\"375.931585\" xlink:href=\"#ma9a187821d\" y=\"229.863562\"/>\n     <use style=\"fill-opacity:0;stroke:#000000;\" x=\"375.931585\" xlink:href=\"#ma9a187821d\" y=\"229.863769\"/>\n     <use style=\"fill-opacity:0;stroke:#000000;\" x=\"375.931585\" xlink:href=\"#ma9a187821d\" y=\"229.863723\"/>\n     <use style=\"fill-opacity:0;stroke:#000000;\" x=\"375.931585\" xlink:href=\"#ma9a187821d\" y=\"229.863543\"/>\n     <use style=\"fill-opacity:0;stroke:#000000;\" x=\"375.931585\" xlink:href=\"#ma9a187821d\" y=\"229.863747\"/>\n     <use style=\"fill-opacity:0;stroke:#000000;\" x=\"375.931585\" xlink:href=\"#ma9a187821d\" y=\"229.863395\"/>\n     <use style=\"fill-opacity:0;stroke:#000000;\" x=\"375.931585\" xlink:href=\"#ma9a187821d\" y=\"229.86376\"/>\n     <use style=\"fill-opacity:0;stroke:#000000;\" x=\"375.931585\" xlink:href=\"#ma9a187821d\" y=\"229.86355\"/>\n     <use style=\"fill-opacity:0;stroke:#000000;\" x=\"375.931585\" xlink:href=\"#ma9a187821d\" y=\"229.863782\"/>\n     <use style=\"fill-opacity:0;stroke:#000000;\" x=\"375.931585\" xlink:href=\"#ma9a187821d\" y=\"229.863704\"/>\n     <use style=\"fill-opacity:0;stroke:#000000;\" x=\"375.931585\" xlink:href=\"#ma9a187821d\" y=\"229.86378\"/>\n     <use style=\"fill-opacity:0;stroke:#000000;\" x=\"375.931585\" xlink:href=\"#ma9a187821d\" y=\"229.863712\"/>\n     <use style=\"fill-opacity:0;stroke:#000000;\" x=\"375.931585\" xlink:href=\"#ma9a187821d\" y=\"229.862991\"/>\n     <use style=\"fill-opacity:0;stroke:#000000;\" x=\"375.931585\" xlink:href=\"#ma9a187821d\" y=\"229.863012\"/>\n    </g>\n   </g>\n   <g id=\"line2d_57\">\n    <path clip-path=\"url(#pb46ec09a01)\" d=\"M 77.003013 229.865033 \nL 100.917299 229.865033 \n\" style=\"fill:none;stroke:#2ca02c;stroke-linecap:square;\"/>\n   </g>\n   <g id=\"line2d_58\">\n    <path clip-path=\"url(#pb46ec09a01)\" d=\"M 124.831585 229.865068 \nL 148.745871 229.865068 \n\" style=\"fill:none;stroke:#2ca02c;stroke-linecap:square;\"/>\n   </g>\n   <g id=\"line2d_59\">\n    <path clip-path=\"url(#pb46ec09a01)\" d=\"M 172.660156 229.865046 \nL 196.574442 229.865046 \n\" style=\"fill:none;stroke:#2ca02c;stroke-linecap:square;\"/>\n   </g>\n   <g id=\"line2d_60\">\n    <path clip-path=\"url(#pb46ec09a01)\" d=\"M 220.488728 229.865018 \nL 244.403013 229.865018 \n\" style=\"fill:none;stroke:#2ca02c;stroke-linecap:square;\"/>\n   </g>\n   <g id=\"line2d_61\">\n    <path clip-path=\"url(#pb46ec09a01)\" d=\"M 268.317299 70.664741 \nL 292.231585 70.664741 \n\" style=\"fill:none;stroke:#2ca02c;stroke-linecap:square;\"/>\n   </g>\n   <g id=\"line2d_62\">\n    <path clip-path=\"url(#pb46ec09a01)\" d=\"M 316.145871 229.865063 \nL 340.060156 229.865063 \n\" style=\"fill:none;stroke:#2ca02c;stroke-linecap:square;\"/>\n   </g>\n   <g id=\"line2d_63\">\n    <path clip-path=\"url(#pb46ec09a01)\" d=\"M 363.974442 229.865021 \nL 387.888728 229.865021 \n\" style=\"fill:none;stroke:#2ca02c;stroke-linecap:square;\"/>\n   </g>\n   <g id=\"patch_3\">\n    <path d=\"M 65.045871 239.758125 \nL 65.045871 22.318125 \n\" style=\"fill:none;stroke:#000000;stroke-linecap:square;stroke-linejoin:miter;stroke-width:0.8;\"/>\n   </g>\n   <g id=\"patch_4\">\n    <path d=\"M 399.845871 239.758125 \nL 399.845871 22.318125 \n\" style=\"fill:none;stroke:#000000;stroke-linecap:square;stroke-linejoin:miter;stroke-width:0.8;\"/>\n   </g>\n   <g id=\"patch_5\">\n    <path d=\"M 65.045871 239.758125 \nL 399.845871 239.758125 \n\" style=\"fill:none;stroke:#000000;stroke-linecap:square;stroke-linejoin:miter;stroke-width:0.8;\"/>\n   </g>\n   <g id=\"patch_6\">\n    <path d=\"M 65.045871 22.318125 \nL 399.845871 22.318125 \n\" style=\"fill:none;stroke:#000000;stroke-linecap:square;stroke-linejoin:miter;stroke-width:0.8;\"/>\n   </g>\n   <g id=\"text_15\">\n    <!-- Box Plot For Each Portfolio -->\n    <g transform=\"translate(153.738996 16.318125)scale(0.12 -0.12)\">\n     <defs>\n      <path d=\"M 54.890625 54.6875 \nL 35.109375 28.078125 \nL 55.90625 0 \nL 45.3125 0 \nL 29.390625 21.484375 \nL 13.484375 0 \nL 2.875 0 \nL 24.125 28.609375 \nL 4.6875 54.6875 \nL 15.28125 54.6875 \nL 29.78125 35.203125 \nL 44.28125 54.6875 \nz\n\" id=\"DejaVuSans-120\"/>\n      <path d=\"M 18.3125 70.21875 \nL 18.3125 54.6875 \nL 36.8125 54.6875 \nL 36.8125 47.703125 \nL 18.3125 47.703125 \nL 18.3125 18.015625 \nQ 18.3125 11.328125 20.140625 9.421875 \nQ 21.96875 7.515625 27.59375 7.515625 \nL 36.8125 7.515625 \nL 36.8125 0 \nL 27.59375 0 \nQ 17.1875 0 13.234375 3.875 \nQ 9.28125 7.765625 9.28125 18.015625 \nL 9.28125 47.703125 \nL 2.6875 47.703125 \nL 2.6875 54.6875 \nL 9.28125 54.6875 \nL 9.28125 70.21875 \nz\n\" id=\"DejaVuSans-116\"/>\n      <path d=\"M 41.109375 46.296875 \nQ 39.59375 47.171875 37.8125 47.578125 \nQ 36.03125 48 33.890625 48 \nQ 26.265625 48 22.1875 43.046875 \nQ 18.109375 38.09375 18.109375 28.8125 \nL 18.109375 0 \nL 9.078125 0 \nL 9.078125 54.6875 \nL 18.109375 54.6875 \nL 18.109375 46.1875 \nQ 20.953125 51.171875 25.484375 53.578125 \nQ 30.03125 56 36.53125 56 \nQ 37.453125 56 38.578125 55.875 \nQ 39.703125 55.765625 41.0625 55.515625 \nz\n\" id=\"DejaVuSans-114\"/>\n      <path d=\"M 34.28125 27.484375 \nQ 23.390625 27.484375 19.1875 25 \nQ 14.984375 22.515625 14.984375 16.5 \nQ 14.984375 11.71875 18.140625 8.90625 \nQ 21.296875 6.109375 26.703125 6.109375 \nQ 34.1875 6.109375 38.703125 11.40625 \nQ 43.21875 16.703125 43.21875 25.484375 \nL 43.21875 27.484375 \nz\nM 52.203125 31.203125 \nL 52.203125 0 \nL 43.21875 0 \nL 43.21875 8.296875 \nQ 40.140625 3.328125 35.546875 0.953125 \nQ 30.953125 -1.421875 24.3125 -1.421875 \nQ 15.921875 -1.421875 10.953125 3.296875 \nQ 6 8.015625 6 15.921875 \nQ 6 25.140625 12.171875 29.828125 \nQ 18.359375 34.515625 30.609375 34.515625 \nL 43.21875 34.515625 \nL 43.21875 35.40625 \nQ 43.21875 41.609375 39.140625 45 \nQ 35.0625 48.390625 27.6875 48.390625 \nQ 23 48.390625 18.546875 47.265625 \nQ 14.109375 46.140625 10.015625 43.890625 \nL 10.015625 52.203125 \nQ 14.9375 54.109375 19.578125 55.046875 \nQ 24.21875 56 28.609375 56 \nQ 40.484375 56 46.34375 49.84375 \nQ 52.203125 43.703125 52.203125 31.203125 \nz\n\" id=\"DejaVuSans-97\"/>\n      <path d=\"M 48.78125 52.59375 \nL 48.78125 44.1875 \nQ 44.96875 46.296875 41.140625 47.34375 \nQ 37.3125 48.390625 33.40625 48.390625 \nQ 24.65625 48.390625 19.8125 42.84375 \nQ 14.984375 37.3125 14.984375 27.296875 \nQ 14.984375 17.28125 19.8125 11.734375 \nQ 24.65625 6.203125 33.40625 6.203125 \nQ 37.3125 6.203125 41.140625 7.25 \nQ 44.96875 8.296875 48.78125 10.40625 \nL 48.78125 2.09375 \nQ 45.015625 0.34375 40.984375 -0.53125 \nQ 36.96875 -1.421875 32.421875 -1.421875 \nQ 20.0625 -1.421875 12.78125 6.34375 \nQ 5.515625 14.109375 5.515625 27.296875 \nQ 5.515625 40.671875 12.859375 48.328125 \nQ 20.21875 56 33.015625 56 \nQ 37.15625 56 41.109375 55.140625 \nQ 45.0625 54.296875 48.78125 52.59375 \nz\n\" id=\"DejaVuSans-99\"/>\n      <path d=\"M 54.890625 33.015625 \nL 54.890625 0 \nL 45.90625 0 \nL 45.90625 32.71875 \nQ 45.90625 40.484375 42.875 44.328125 \nQ 39.84375 48.1875 33.796875 48.1875 \nQ 26.515625 48.1875 22.3125 43.546875 \nQ 18.109375 38.921875 18.109375 30.90625 \nL 18.109375 0 \nL 9.078125 0 \nL 9.078125 75.984375 \nL 18.109375 75.984375 \nL 18.109375 46.1875 \nQ 21.34375 51.125 25.703125 53.5625 \nQ 30.078125 56 35.796875 56 \nQ 45.21875 56 50.046875 50.171875 \nQ 54.890625 44.34375 54.890625 33.015625 \nz\n\" id=\"DejaVuSans-104\"/>\n      <path d=\"M 37.109375 75.984375 \nL 37.109375 68.5 \nL 28.515625 68.5 \nQ 23.6875 68.5 21.796875 66.546875 \nQ 19.921875 64.59375 19.921875 59.515625 \nL 19.921875 54.6875 \nL 34.71875 54.6875 \nL 34.71875 47.703125 \nL 19.921875 47.703125 \nL 19.921875 0 \nL 10.890625 0 \nL 10.890625 47.703125 \nL 2.296875 47.703125 \nL 2.296875 54.6875 \nL 10.890625 54.6875 \nL 10.890625 58.5 \nQ 10.890625 67.625 15.140625 71.796875 \nQ 19.390625 75.984375 28.609375 75.984375 \nz\n\" id=\"DejaVuSans-102\"/>\n      <path d=\"M 9.421875 54.6875 \nL 18.40625 54.6875 \nL 18.40625 0 \nL 9.421875 0 \nz\nM 9.421875 75.984375 \nL 18.40625 75.984375 \nL 18.40625 64.59375 \nL 9.421875 64.59375 \nz\n\" id=\"DejaVuSans-105\"/>\n     </defs>\n     <use xlink:href=\"#DejaVuSans-66\"/>\n     <use x=\"68.603516\" xlink:href=\"#DejaVuSans-111\"/>\n     <use x=\"126.660156\" xlink:href=\"#DejaVuSans-120\"/>\n     <use x=\"185.839844\" xlink:href=\"#DejaVuSans-32\"/>\n     <use x=\"217.626953\" xlink:href=\"#DejaVuSans-80\"/>\n     <use x=\"277.929688\" xlink:href=\"#DejaVuSans-108\"/>\n     <use x=\"305.712891\" xlink:href=\"#DejaVuSans-111\"/>\n     <use x=\"366.894531\" xlink:href=\"#DejaVuSans-116\"/>\n     <use x=\"406.103516\" xlink:href=\"#DejaVuSans-32\"/>\n     <use x=\"437.890625\" xlink:href=\"#DejaVuSans-70\"/>\n     <use x=\"491.785156\" xlink:href=\"#DejaVuSans-111\"/>\n     <use x=\"552.966797\" xlink:href=\"#DejaVuSans-114\"/>\n     <use x=\"594.080078\" xlink:href=\"#DejaVuSans-32\"/>\n     <use x=\"625.867188\" xlink:href=\"#DejaVuSans-69\"/>\n     <use x=\"689.050781\" xlink:href=\"#DejaVuSans-97\"/>\n     <use x=\"750.330078\" xlink:href=\"#DejaVuSans-99\"/>\n     <use x=\"805.310547\" xlink:href=\"#DejaVuSans-104\"/>\n     <use x=\"868.689453\" xlink:href=\"#DejaVuSans-32\"/>\n     <use x=\"900.476562\" xlink:href=\"#DejaVuSans-80\"/>\n     <use x=\"957.154297\" xlink:href=\"#DejaVuSans-111\"/>\n     <use x=\"1018.335938\" xlink:href=\"#DejaVuSans-114\"/>\n     <use x=\"1059.449219\" xlink:href=\"#DejaVuSans-116\"/>\n     <use x=\"1098.658203\" xlink:href=\"#DejaVuSans-102\"/>\n     <use x=\"1133.863281\" xlink:href=\"#DejaVuSans-111\"/>\n     <use x=\"1195.044922\" xlink:href=\"#DejaVuSans-108\"/>\n     <use x=\"1222.828125\" xlink:href=\"#DejaVuSans-105\"/>\n     <use x=\"1250.611328\" xlink:href=\"#DejaVuSans-111\"/>\n    </g>\n   </g>\n  </g>\n </g>\n <defs>\n  <clipPath id=\"pb46ec09a01\">\n   <rect height=\"217.44\" width=\"334.8\" x=\"65.045871\" y=\"22.318125\"/>\n  </clipPath>\n </defs>\n</svg>\n",
      "image/png": "[encoded data removed]"
     },
     "metadata": {
      "needs_background": "light"
     }
    }
   ],
   "metadata": {}
  },
  {
   "cell_type": "markdown",
   "source": [
    "### Calculate Standard Deviations"
   ],
   "metadata": {}
  },
  {
   "cell_type": "code",
   "execution_count": null,
   "source": [
    "# Calculate the daily standard deviations of all portfolios\n"
   ],
   "outputs": [],
   "metadata": {}
  },
  {
   "cell_type": "markdown",
   "source": [
    "### Determine which portfolios are riskier than the S&P 500"
   ],
   "metadata": {}
  },
  {
   "cell_type": "code",
   "execution_count": null,
   "source": [
    "# Calculate  the daily standard deviation of S&P 500\n",
    "\n",
    "# Determine which portfolios are riskier than the S&P 500\n"
   ],
   "outputs": [],
   "metadata": {}
  },
  {
   "cell_type": "markdown",
   "source": [
    "### Calculate the Annualized Standard Deviation"
   ],
   "metadata": {}
  },
  {
   "cell_type": "code",
   "execution_count": null,
   "source": [
    "# Calculate the annualized standard deviation (252 trading days)\n"
   ],
   "outputs": [],
   "metadata": {}
  },
  {
   "cell_type": "markdown",
   "source": [
    "---"
   ],
   "metadata": {}
  },
  {
   "cell_type": "markdown",
   "source": [
    "## Rolling Statistics\n",
    "\n",
    "Risk changes over time. Analyze the rolling statistics for Risk and Beta. \n",
    "\n",
    "1. Calculate and plot the rolling standard deviation for all portfolios using a 21-day window\n",
    "2. Calculate the correlation between each stock to determine which portfolios may mimick the S&P 500\n",
    "3. Choose one portfolio, then calculate and plot the 60-day rolling beta between it and the S&P 500"
   ],
   "metadata": {}
  },
  {
   "cell_type": "markdown",
   "source": [
    "### Calculate and plot rolling `std` for all portfolios with 21-day window"
   ],
   "metadata": {}
  },
  {
   "cell_type": "code",
   "execution_count": null,
   "source": [
    "# Calculate the rolling standard deviation for all portfolios using a 21-day window\n",
    "\n",
    "# Plot the rolling standard deviation\n"
   ],
   "outputs": [],
   "metadata": {}
  },
  {
   "cell_type": "markdown",
   "source": [
    "### Calculate and plot the correlation"
   ],
   "metadata": {}
  },
  {
   "cell_type": "code",
   "execution_count": null,
   "source": [
    "# Calculate the correlation\n",
    "\n",
    "# Display de correlation matrix\n"
   ],
   "outputs": [],
   "metadata": {}
  },
  {
   "cell_type": "markdown",
   "source": [
    "### Calculate and Plot Beta for a chosen portfolio and the S&P 500"
   ],
   "metadata": {}
  },
  {
   "cell_type": "code",
   "execution_count": null,
   "source": [
    "# Calculate covariance of a single portfolio\n",
    "\n",
    "# Calculate variance of S&P 500\n",
    "\n",
    "# Computing beta\n",
    "\n",
    "# Plot beta trend\n"
   ],
   "outputs": [],
   "metadata": {}
  },
  {
   "cell_type": "markdown",
   "source": [
    "## Rolling Statistics Challenge: Exponentially Weighted Average \n",
    "\n",
    "An alternative way to calculate a rolling window is to take the exponentially weighted moving average. This is like a moving window average, but it assigns greater importance to more recent observations. Try calculating the [`ewm`](https://pandas.pydata.org/pandas-docs/stable/reference/api/pandas.DataFrame.ewm.html) with a 21-day half-life."
   ],
   "metadata": {}
  },
  {
   "cell_type": "code",
   "execution_count": null,
   "source": [
    "# Use `ewm` to calculate the rolling window\n"
   ],
   "outputs": [],
   "metadata": {}
  },
  {
   "cell_type": "markdown",
   "source": [
    "---"
   ],
   "metadata": {}
  },
  {
   "cell_type": "markdown",
   "source": [
    "# Sharpe Ratios\n",
    "In reality, investment managers and thier institutional investors look at the ratio of return-to-risk, and not just returns alone. After all, if you could invest in one of two portfolios, and each offered the same 10% return, yet one offered lower risk, you'd take that one, right?\n",
    "\n",
    "### Using the daily returns, calculate and visualize the Sharpe ratios using a bar plot"
   ],
   "metadata": {}
  },
  {
   "cell_type": "code",
   "execution_count": null,
   "source": [
    "# Annualized Sharpe Ratios\n"
   ],
   "outputs": [],
   "metadata": {}
  },
  {
   "cell_type": "code",
   "execution_count": null,
   "source": [
    "# Visualize the sharpe ratios as a bar plot\n"
   ],
   "outputs": [],
   "metadata": {}
  },
  {
   "cell_type": "markdown",
   "source": [
    "### Determine whether the algorithmic strategies outperform both the market (S&P 500) and the whales portfolios.\n",
    "\n",
    "Write your answer here!"
   ],
   "metadata": {}
  },
  {
   "cell_type": "markdown",
   "source": [
    "---"
   ],
   "metadata": {}
  },
  {
   "cell_type": "markdown",
   "source": [
    "# Create Custom Portfolio\n",
    "\n",
    "In this section, you will build your own portfolio of stocks, calculate the returns, and compare the results to the Whale Portfolios and the S&P 500. \n",
    "\n",
    "1. Choose 3-5 custom stocks with at last 1 year's worth of historic prices and create a DataFrame of the closing prices and dates for each stock.\n",
    "2. Calculate the weighted returns for the portfolio assuming an equal number of shares for each stock\n",
    "3. Join your portfolio returns to the DataFrame that contains all of the portfolio returns\n",
    "4. Re-run the performance and risk analysis with your portfolio to see how it compares to the others\n",
    "5. Include correlation analysis to determine which stocks (if any) are correlated"
   ],
   "metadata": {}
  },
  {
   "cell_type": "markdown",
   "source": [
    "## Choose 3-5 custom stocks with at last 1 year's worth of historic prices and create a DataFrame of the closing prices and dates for each stock.\n",
    "\n",
    "For this demo solution, we fetch data from three companies listes in the S&P 500 index.\n",
    "\n",
    "* `GOOG` - [Google, LLC](https://en.wikipedia.org/wiki/Google)\n",
    "\n",
    "* `AAPL` - [Apple Inc.](https://en.wikipedia.org/wiki/Apple_Inc.)\n",
    "\n",
    "* `COST` - [Costco Wholesale Corporation](https://en.wikipedia.org/wiki/Costco)"
   ],
   "metadata": {}
  },
  {
   "cell_type": "code",
   "execution_count": null,
   "source": [
    "# Reading data from 1st stock\n"
   ],
   "outputs": [],
   "metadata": {}
  },
  {
   "cell_type": "code",
   "execution_count": null,
   "source": [
    "# Reading data from 2nd stock\n"
   ],
   "outputs": [],
   "metadata": {}
  },
  {
   "cell_type": "code",
   "execution_count": null,
   "source": [
    "# Reading data from 3rd stock\n"
   ],
   "outputs": [],
   "metadata": {}
  },
  {
   "cell_type": "code",
   "execution_count": null,
   "source": [
    "# Combine all stocks in a single DataFrame\n"
   ],
   "outputs": [],
   "metadata": {}
  },
  {
   "cell_type": "code",
   "execution_count": null,
   "source": [
    "# Reset Date index\n"
   ],
   "outputs": [],
   "metadata": {}
  },
  {
   "cell_type": "code",
   "execution_count": null,
   "source": [
    "# Reorganize portfolio data by having a column per symbol\n"
   ],
   "outputs": [],
   "metadata": {}
  },
  {
   "cell_type": "code",
   "execution_count": null,
   "source": [
    "# Calculate daily returns\n",
    "\n",
    "# Drop NAs\n",
    "\n",
    "# Display sample data\n"
   ],
   "outputs": [],
   "metadata": {}
  },
  {
   "cell_type": "markdown",
   "source": [
    "## Calculate the weighted returns for the portfolio assuming an equal number of shares for each stock"
   ],
   "metadata": {}
  },
  {
   "cell_type": "code",
   "execution_count": null,
   "source": [
    "# Set weights\n",
    "weights = [1/3, 1/3, 1/3]\n",
    "\n",
    "# Calculate portfolio return\n",
    "\n",
    "# Display sample data\n"
   ],
   "outputs": [],
   "metadata": {}
  },
  {
   "cell_type": "markdown",
   "source": [
    "## Join your portfolio returns to the DataFrame that contains all of the portfolio returns"
   ],
   "metadata": {}
  },
  {
   "cell_type": "code",
   "execution_count": null,
   "source": [
    "# Join your returns DataFrame to the original returns DataFrame\n"
   ],
   "outputs": [],
   "metadata": {}
  },
  {
   "cell_type": "code",
   "execution_count": null,
   "source": [
    "# Only compare dates where return data exists for all the stocks (drop NaNs)\n"
   ],
   "outputs": [],
   "metadata": {}
  },
  {
   "cell_type": "markdown",
   "source": [
    "## Re-run the risk analysis with your portfolio to see how it compares to the others"
   ],
   "metadata": {}
  },
  {
   "cell_type": "markdown",
   "source": [
    "### Calculate the Annualized Standard Deviation"
   ],
   "metadata": {}
  },
  {
   "cell_type": "code",
   "execution_count": null,
   "source": [
    "# Calculate the annualized `std`\n"
   ],
   "outputs": [],
   "metadata": {}
  },
  {
   "cell_type": "markdown",
   "source": [
    "### Calculate and plot rolling `std` with 21-day window"
   ],
   "metadata": {}
  },
  {
   "cell_type": "code",
   "execution_count": null,
   "source": [
    "# Calculate rolling standard deviation\n",
    "\n",
    "# Plot rolling standard deviation\n"
   ],
   "outputs": [],
   "metadata": {}
  },
  {
   "cell_type": "markdown",
   "source": [
    "### Calculate and plot the correlation"
   ],
   "metadata": {}
  },
  {
   "cell_type": "code",
   "execution_count": null,
   "source": [
    "# Calculate and plot the correlation\n"
   ],
   "outputs": [],
   "metadata": {}
  },
  {
   "cell_type": "markdown",
   "source": [
    "### Calculate and Plot Rolling 60-day Beta for Your Portfolio compared to the S&P 500"
   ],
   "metadata": {}
  },
  {
   "cell_type": "code",
   "execution_count": null,
   "source": [
    "# Calculate and plot Beta\n"
   ],
   "outputs": [],
   "metadata": {}
  },
  {
   "cell_type": "markdown",
   "source": [
    "### Using the daily returns, calculate and visualize the Sharpe ratios using a bar plot"
   ],
   "metadata": {}
  },
  {
   "cell_type": "code",
   "execution_count": null,
   "source": [
    "# Calculate Annualzied Sharpe Ratios\n"
   ],
   "outputs": [],
   "metadata": {}
  },
  {
   "cell_type": "code",
   "execution_count": null,
   "source": [
    "# Visualize the sharpe ratios as a bar plot\n"
   ],
   "outputs": [],
   "metadata": {}
  },
  {
   "cell_type": "markdown",
   "source": [
    "### How does your portfolio do?\n",
    "\n",
    "Write your answer here!"
   ],
   "metadata": {}
  },
  {
   "cell_type": "code",
   "execution_count": null,
   "source": [],
   "outputs": [],
   "metadata": {}
  }
 ],
 "metadata": {
  "file_extension": ".py",
  "kernelspec": {
   "display_name": "Python 3",
   "language": "python",
   "name": "python3"
  },
  "language_info": {
   "codemirror_mode": {
    "name": "ipython",
    "version": 3
   },
   "file_extension": ".py",
   "mimetype": "text/x-python",
   "name": "python",
   "nbconvert_exporter": "python",
   "pygments_lexer": "ipython3",
   "version": "3.8.3"
  },
  "mimetype": "text/x-python",
  "name": "python",
  "npconvert_exporter": "python",
  "pygments_lexer": "ipython3",
  "version": 3
 },
 "nbformat": 4,
 "nbformat_minor": 4
}