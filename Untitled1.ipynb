{
 "cells": [
  {
   "cell_type": "code",
   "execution_count": 2,
   "id": "81f49b93-e0fb-4f7c-8183-c63dd005de18",
   "metadata": {},
   "outputs": [],
   "source": [
    "from pathlib import Path"
   ]
  },
  {
   "cell_type": "code",
   "execution_count": 3,
   "id": "3d0d611f-4a89-44d6-8a3e-f31a89ff788c",
   "metadata": {},
   "outputs": [
    {
     "name": "stdout",
     "output_type": "stream",
     "text": [
      "/Users/rinaweiner/Desktop/Miami/Miami-Homework-\n"
     ]
    }
   ],
   "source": [
    "print(Path.cwd())"
   ]
  },
  {
   "cell_type": "code",
   "execution_count": null,
   "id": "d601ae18-5e2b-4f7b-bdbd-dff46e01a52f",
   "metadata": {},
   "outputs": [],
   "source": [
    "filepath = Path(\".../Resources/\")"
   ]
  }
 ],
 "metadata": {
  "kernelspec": {
   "display_name": "Python 3",
   "language": "python",
   "name": "python3"
  },
  "language_info": {
   "codemirror_mode": {
    "name": "ipython",
    "version": 3
   },
   "file_extension": ".py",
   "mimetype": "text/x-python",
   "name": "python",
   "nbconvert_exporter": "python",
   "pygments_lexer": "ipython3",
   "version": "3.8.8"
  }
 },
 "nbformat": 4,
 "nbformat_minor": 5
}
